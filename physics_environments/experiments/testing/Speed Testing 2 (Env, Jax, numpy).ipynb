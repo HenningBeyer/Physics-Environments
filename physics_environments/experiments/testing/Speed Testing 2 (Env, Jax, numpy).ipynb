{
 "cells": [
  {
   "cell_type": "code",
   "execution_count": 1,
   "metadata": {},
   "outputs": [],
   "source": [
    "# import physics_environments\n",
    "import numpy as np\n",
    "from physics_environments.envs.rl_pendulum.cart_pendulum_math.robotic_eq_solutions import robotic_equation_n1\n",
    "from physics_environments import CartPendulumPhysicsConstants, CartPendulumPhysicsEnvironmentParams, CartPendulumPhysicsEnvironment, \\\n",
    "                                 RLCartPendulumEnvironment, RLCartPendulumEnvironmentParams\n",
    "\n",
    "from jumanji import register, registered_environments\n",
    "from jumanji.wrappers import VmapWrapper, AutoResetWrapper, VmapAutoResetWrapper\n",
    "import jumanji\n",
    "\n",
    "import jax\n",
    "import jax.numpy as jnp\n",
    "import time"
   ]
  },
  {
   "cell_type": "code",
   "execution_count": 2,
   "metadata": {},
   "outputs": [],
   "source": [
    "n = 1\n",
    "constants = CartPendulumPhysicsConstants(n    = n,         \n",
    "                                         g    = 9.81,        \n",
    "                                         l    = n*[0.300],\n",
    "                                         r    = n*[0.200],\n",
    "                                         m    = n*[0.800],\n",
    "                                         I    = n*[0.011],\n",
    "                                         mu   = n*[0.015])\n",
    "\n",
    "env_type             = 'compound pendulum'\n",
    "cart_pendulum_params = CartPendulumPhysicsEnvironmentParams(constants       = constants,         \n",
    "                                                            env_type        = env_type,      \n",
    "                                                            save_after_init = False, \n",
    "                                                            save_filename   = f\"env_{n}n_{env_type}_obj.pkl\") \n",
    "\n",
    "rl_env_params = RLCartPendulumEnvironmentParams(physics_env_params          = cart_pendulum_params,\n",
    "                                                training_generator_type     = \"DefaultGenerator\",\n",
    "                                                dt                          = 0.010,\n",
    "                                                t_episode                   = 10.00,\n",
    "                                                max_cart_acceleration       = 25.00,\n",
    "                                                cart_width                  = 0.250,\n",
    "                                                track_width                 = 0.800\n",
    "                                                )\n",
    "\n",
    "rl_env = RLCartPendulumEnvironment(params = rl_env_params)"
   ]
  },
  {
   "cell_type": "code",
   "execution_count": 3,
   "metadata": {},
   "outputs": [
    {
     "data": {
      "text/plain": [
       "BoundedArray(shape=(1,), dtype=dtype('float32'), name='cart acceleration', minimum=Array(-25., dtype=float32), maximum=Array(25., dtype=float32))"
      ]
     },
     "execution_count": 3,
     "metadata": {},
     "output_type": "execute_result"
    }
   ],
   "source": [
    "rl_env.action_spec"
   ]
  },
  {
   "cell_type": "code",
   "execution_count": 5,
   "metadata": {},
   "outputs": [],
   "source": [
    "key = jax.random.key(seed=42)\n",
    "state, timestep           = rl_env.reset(key)\n",
    "next_state, next_timestep = rl_env.step(state = state, action=jnp.array([3]))"
   ]
  },
  {
   "cell_type": "code",
   "execution_count": 5,
   "metadata": {},
   "outputs": [],
   "source": [
    "assert ('cart_n_pendulum-v1' in registered_environments())\n",
    "\n",
    "\"\"\"\n",
    "Register the environment in the outermost __init__.py with:\n",
    "\n",
    "register(id=\"cart_n_pendulum-v1\", entry_point=\"physics_environments.envs.rl_pendulum:RLCartPendulumEnvironment\")\n",
    "\"\"\";"
   ]
  },
  {
   "cell_type": "code",
   "execution_count": 6,
   "metadata": {},
   "outputs": [],
   "source": [
    "env = jumanji.make('cart_n_pendulum-v1')\n",
    "key = jax.random.PRNGKey(0)\n",
    "state, timestep = env.reset(key)\n",
    "state, timestep = env.step(state=state, action=jnp.array([0]))"
   ]
  },
  {
   "cell_type": "code",
   "execution_count": 7,
   "metadata": {},
   "outputs": [],
   "source": [
    "def rollout(batch_size=2, rollout_length=3):\n",
    "    # Note: setting device=jax.devices('cpu') as default argument actually hurts performance slightly, having device without defualt argument helps to fix this.\n",
    "\n",
    "    def step_func(state, key):\n",
    "        action = jax.random.randint(key=key, minval=0, maxval=num_actions, shape=(1))\n",
    "        new_state, timestep = env.step(state, action)\n",
    "        return new_state, timestep\n",
    "\n",
    "    def rollout_func(state, key, n):\n",
    "        random_keys = jax.random.split(key, n)\n",
    "        state, rollout = jax.lax.scan(step_func, state, random_keys)\n",
    "        return rollout\n",
    "\n",
    "    # Constants\n",
    "    num_actions = env.action_spec.shape[0]\n",
    "\n",
    "    # Create random Keys\n",
    "    master_key = jax.random.PRNGKey(0)\n",
    "    key1, key2 = jax.random.split(master_key) # create a separate random key for step() and reset()\n",
    "\n",
    "    # Instantiate a batch of environment states (via vmap reset)\n",
    "    keys = jax.random.split(key1, batch_size)\n",
    "    state, timestep = jax.vmap(env.reset)(keys)\n",
    "\n",
    "    # Collect a batch of rollouts (via vmap rollout_func)\n",
    "    keys = jax.random.split(key2, batch_size)\n",
    "    rollout = jax.vmap(rollout_func, in_axes=(0, 0, None))(state, keys, rollout_length)\n",
    "    return jnp.array(rollout.observation)\n",
    "    \n",
    "def robotic_equation_n1_numpy(t, y, args):\n",
    "    theta_1, dtheta_1, ddx_c  = y\n",
    "    g, r_1, m_1, mu_1, I_1    = args\n",
    "    return np.array([dtheta_1,\n",
    "                      (-dtheta_1*mu_1 + ddx_c*m_1*r_1*np.cos(theta_1) + g*m_1*r_1*np.sin(theta_1))/(I_1 + m_1*r_1**2),\n",
    "                      ddx_c\n",
    "                    ])"
   ]
  },
  {
   "cell_type": "code",
   "execution_count": 8,
   "metadata": {},
   "outputs": [
    {
     "data": {
      "text/plain": [
       "Array([[[[ 0.0000000e+00,  0.0000000e+00,  0.0000000e+00,\n",
       "           2.7500001e-01,  3.1415927e+00, -3.1855762e-08,\n",
       "          -3.1855761e-06, -8.7422777e-08,  3.1855762e-08,\n",
       "           3.1855761e-06, -1.0000000e+00, -2.7849192e-15,\n",
       "          -2.7747712e-13,  2.6226834e-08, -9.5567287e-09,\n",
       "          -9.5567293e-07, -3.0000001e-01, -8.3547577e-16,\n",
       "          -8.3243145e-14,  3.0000001e-01, -9.5567293e-17,\n",
       "          -9.5567305e-15],\n",
       "         [ 0.0000000e+00,  0.0000000e+00,  0.0000000e+00,\n",
       "           2.7500001e-01,  3.1415927e+00, -6.3600588e-08,\n",
       "          -3.1744826e-06, -8.7422777e-08,  6.3600588e-08,\n",
       "           3.1744826e-06, -1.0000000e+00, -5.5601398e-15,\n",
       "          -2.7347707e-13,  2.6226834e-08, -1.9080177e-08,\n",
       "          -9.5234481e-07, -3.0000001e-01, -1.6680421e-15,\n",
       "          -8.2043117e-14,  3.0000001e-01, -1.9080179e-16,\n",
       "          -9.5234489e-15],\n",
       "         [ 0.0000000e+00,  0.0000000e+00,  0.0000000e+00,\n",
       "           2.7500001e-01,  3.1415927e+00, -9.5234860e-08,\n",
       "          -3.1634272e-06, -8.7422777e-08,  9.5234860e-08,\n",
       "           3.1634272e-06, -1.0000000e+00, -8.3256961e-15,\n",
       "          -2.6748590e-13,  2.6226834e-08, -2.8570460e-08,\n",
       "          -9.4902822e-07, -3.0000001e-01, -2.4977089e-15,\n",
       "          -8.0245774e-14,  3.0000001e-01, -2.8570461e-16,\n",
       "          -9.4902825e-15]],\n",
       "\n",
       "        [[ 0.0000000e+00,  0.0000000e+00,  0.0000000e+00,\n",
       "           2.7500001e-01,  3.1415927e+00, -3.1855762e-08,\n",
       "          -3.1855761e-06, -8.7422777e-08,  3.1855762e-08,\n",
       "           3.1855761e-06, -1.0000000e+00, -2.7849192e-15,\n",
       "          -2.7747712e-13,  2.6226834e-08, -9.5567287e-09,\n",
       "          -9.5567293e-07, -3.0000001e-01, -8.3547577e-16,\n",
       "          -8.3243145e-14,  3.0000001e-01, -9.5567293e-17,\n",
       "          -9.5567305e-15],\n",
       "         [ 0.0000000e+00,  0.0000000e+00,  0.0000000e+00,\n",
       "           2.7500001e-01,  3.1415927e+00, -6.3600588e-08,\n",
       "          -3.1744826e-06, -8.7422777e-08,  6.3600588e-08,\n",
       "           3.1744826e-06, -1.0000000e+00, -5.5601398e-15,\n",
       "          -2.7347707e-13,  2.6226834e-08, -1.9080177e-08,\n",
       "          -9.5234481e-07, -3.0000001e-01, -1.6680421e-15,\n",
       "          -8.2043117e-14,  3.0000001e-01, -1.9080179e-16,\n",
       "          -9.5234489e-15],\n",
       "         [ 0.0000000e+00,  0.0000000e+00,  0.0000000e+00,\n",
       "           2.7500001e-01,  3.1415927e+00, -9.5234860e-08,\n",
       "          -3.1634272e-06, -8.7422777e-08,  9.5234860e-08,\n",
       "           3.1634272e-06, -1.0000000e+00, -8.3256961e-15,\n",
       "          -2.6748590e-13,  2.6226834e-08, -2.8570460e-08,\n",
       "          -9.4902822e-07, -3.0000001e-01, -2.4977089e-15,\n",
       "          -8.0245774e-14,  3.0000001e-01, -2.8570461e-16,\n",
       "          -9.4902825e-15]]]], dtype=float32)"
      ]
     },
     "execution_count": 8,
     "metadata": {},
     "output_type": "execute_result"
    }
   ],
   "source": [
    "# rollout(batch_size=2, rollout_length=3)"
   ]
  },
  {
   "cell_type": "code",
   "execution_count": 8,
   "metadata": {},
   "outputs": [],
   "source": [
    "gpu = jax.devices(\"gpu\")[0]  # First GPU\n",
    "cpu = jax.devices(\"cpu\")[0]  # First CPU\n",
    "t=0\n",
    "y=np.array([1,2,3])\n",
    "args=np.array([1,2,3,4,5])\n",
    "\n",
    "t_1024=np.array([[0]]*1024).T\n",
    "y_1024=np.array([[[1,2,3]]*1024]).T\n",
    "args_1024=np.array([[[1,2,3,4,5]]*1024]).T\n",
    "rollout_jax_jit = jax.jit(rollout, static_argnames=['batch_size', 'rollout_length'])"
   ]
  },
  {
   "cell_type": "markdown",
   "metadata": {
    "tags": []
   },
   "source": [
    "### Tests for n=1"
   ]
  },
  {
   "cell_type": "markdown",
   "metadata": {},
   "source": [
    "#### Single Environment, 10000 Rollouts"
   ]
  },
  {
   "cell_type": "markdown",
   "metadata": {},
   "source": [
    "---"
   ]
  },
  {
   "cell_type": "code",
   "execution_count": 17,
   "metadata": {},
   "outputs": [
    {
     "data": {
      "text/plain": [
       "0.33071374893188477"
      ]
     },
     "execution_count": 17,
     "metadata": {},
     "output_type": "execute_result"
    }
   ],
   "source": [
    "t = time.time()\n",
    "with jax.default_device(cpu): \n",
    "    rollout(1,10000).block_until_ready()\n",
    "time.time()-t"
   ]
  },
  {
   "cell_type": "code",
   "execution_count": 18,
   "metadata": {},
   "outputs": [
    {
     "data": {
      "text/plain": [
       "21.558382987976074"
      ]
     },
     "execution_count": 18,
     "metadata": {},
     "output_type": "execute_result"
    }
   ],
   "source": [
    "t = time.time()\n",
    "with jax.default_device(gpu):\n",
    "    rollout(1,10000).block_until_ready()\n",
    "time.time()-t"
   ]
  },
  {
   "cell_type": "code",
   "execution_count": 14,
   "metadata": {},
   "outputs": [
    {
     "data": {
      "text/plain": [
       "0.058182477951049805"
      ]
     },
     "execution_count": 14,
     "metadata": {},
     "output_type": "execute_result"
    }
   ],
   "source": [
    "t = time.time()\n",
    "for i in range(10000):\n",
    "    robotic_equation_n1_numpy(t=t, y=y, args=args)\n",
    "time.time()-t"
   ]
  },
  {
   "cell_type": "markdown",
   "metadata": {},
   "source": [
    "---"
   ]
  },
  {
   "cell_type": "markdown",
   "metadata": {},
   "source": [
    "#### 1024 Environments, 10000 Rollouts"
   ]
  },
  {
   "cell_type": "markdown",
   "metadata": {},
   "source": [
    "---"
   ]
  },
  {
   "cell_type": "code",
   "execution_count": 20,
   "metadata": {},
   "outputs": [
    {
     "data": {
      "text/plain": [
       "4.405309677124023"
      ]
     },
     "execution_count": 20,
     "metadata": {},
     "output_type": "execute_result"
    }
   ],
   "source": [
    "t = time.time()\n",
    "with jax.default_device(cpu):\n",
    "    rollout(1024,10000).block_until_ready()\n",
    "time.time()-t"
   ]
  },
  {
   "cell_type": "code",
   "execution_count": 21,
   "metadata": {},
   "outputs": [
    {
     "data": {
      "text/plain": [
       "21.132590293884277"
      ]
     },
     "execution_count": 21,
     "metadata": {},
     "output_type": "execute_result"
    }
   ],
   "source": [
    "t = time.time()\n",
    "with jax.default_device(gpu):\n",
    "    rollout(1024,10000).block_until_ready()\n",
    "time.time()-t"
   ]
  },
  {
   "cell_type": "code",
   "execution_count": 15,
   "metadata": {},
   "outputs": [
    {
     "data": {
      "text/plain": [
       "0.59600830078125"
      ]
     },
     "execution_count": 15,
     "metadata": {},
     "output_type": "execute_result"
    }
   ],
   "source": [
    "t = time.time()\n",
    "for i in range(10000):\n",
    "    robotic_equation_n1_numpy(t=t_1024, y=y_1024, args=args_1024)\n",
    "time.time()-t"
   ]
  },
  {
   "cell_type": "markdown",
   "metadata": {},
   "source": [
    "- GPUs times are not affected by bigger batch-sizes as GPUs always run fully parallel"
   ]
  },
  {
   "cell_type": "markdown",
   "metadata": {},
   "source": [
    "---"
   ]
  },
  {
   "cell_type": "markdown",
   "metadata": {},
   "source": [
    "Let's just jit the jax loops:"
   ]
  },
  {
   "cell_type": "code",
   "execution_count": 37,
   "metadata": {},
   "outputs": [
    {
     "data": {
      "text/plain": [
       "3.6228606700897217"
      ]
     },
     "execution_count": 37,
     "metadata": {},
     "output_type": "execute_result"
    }
   ],
   "source": [
    "t = time.time()\n",
    "with jax.default_device(cpu):\n",
    "    rollout_jax_jit(1024,10001).block_until_ready()\n",
    "time.time()-t"
   ]
  },
  {
   "cell_type": "code",
   "execution_count": 38,
   "metadata": {},
   "outputs": [
    {
     "data": {
      "text/plain": [
       "3.2823872566223145"
      ]
     },
     "execution_count": 38,
     "metadata": {},
     "output_type": "execute_result"
    }
   ],
   "source": [
    "t = time.time()\n",
    "with jax.default_device(cpu):\n",
    "    rollout_jax_jit(1024,10001).block_until_ready()\n",
    "time.time()-t"
   ]
  },
  {
   "cell_type": "code",
   "execution_count": 26,
   "metadata": {},
   "outputs": [
    {
     "data": {
      "text/plain": [
       "21.488381385803223"
      ]
     },
     "execution_count": 26,
     "metadata": {},
     "output_type": "execute_result"
    }
   ],
   "source": [
    "t = time.time()\n",
    "with jax.default_device(gpu):\n",
    "    rollout_jax_jit(1024,10001).block_until_ready()\n",
    "time.time()-t"
   ]
  },
  {
   "cell_type": "code",
   "execution_count": 27,
   "metadata": {},
   "outputs": [
    {
     "data": {
      "text/plain": [
       "20.391295671463013"
      ]
     },
     "execution_count": 27,
     "metadata": {},
     "output_type": "execute_result"
    }
   ],
   "source": [
    "t = time.time()\n",
    "with jax.default_device(gpu):\n",
    "    rollout_jax_jit(1024,10001).block_until_ready()\n",
    "time.time()-t"
   ]
  },
  {
   "cell_type": "markdown",
   "metadata": {},
   "source": [
    "- Good speed-up for the CPU, and slight speedup for the GPU for a lot of iterations.\n",
    "- Note that the compilation time on the first call was lower than not compiling at all"
   ]
  },
  {
   "cell_type": "markdown",
   "metadata": {},
   "source": [
    "---"
   ]
  },
  {
   "cell_type": "markdown",
   "metadata": {},
   "source": [
    "#### 10240 Environments, 10000 Rollouts"
   ]
  },
  {
   "cell_type": "markdown",
   "metadata": {},
   "source": [
    "---"
   ]
  },
  {
   "cell_type": "code",
   "execution_count": 49,
   "metadata": {},
   "outputs": [
    {
     "data": {
      "text/plain": [
       "4.091904163360596"
      ]
     },
     "execution_count": 49,
     "metadata": {},
     "output_type": "execute_result"
    }
   ],
   "source": [
    "t = time.time()\n",
    "with jax.default_device(cpu):\n",
    "    rollout(10240,1000).block_until_ready()\n",
    "time.time()-t"
   ]
  },
  {
   "cell_type": "code",
   "execution_count": 50,
   "metadata": {},
   "outputs": [
    {
     "data": {
      "text/plain": [
       "3.379101037979126"
      ]
     },
     "execution_count": 50,
     "metadata": {},
     "output_type": "execute_result"
    }
   ],
   "source": [
    "t = time.time()\n",
    "with jax.default_device(gpu):\n",
    "    rollout(10240,1000).block_until_ready()\n",
    "time.time()-t"
   ]
  },
  {
   "cell_type": "markdown",
   "metadata": {},
   "source": [
    "---"
   ]
  },
  {
   "cell_type": "markdown",
   "metadata": {},
   "source": [
    "Let's just jit the jax loops:"
   ]
  },
  {
   "cell_type": "code",
   "execution_count": 51,
   "metadata": {},
   "outputs": [
    {
     "data": {
      "text/plain": [
       "3.251147747039795"
      ]
     },
     "execution_count": 51,
     "metadata": {},
     "output_type": "execute_result"
    }
   ],
   "source": [
    "t = time.time()\n",
    "with jax.default_device(cpu):\n",
    "    rollout_jax_jit(10240,1000).block_until_ready()\n",
    "time.time()-t"
   ]
  },
  {
   "cell_type": "code",
   "execution_count": 52,
   "metadata": {},
   "outputs": [
    {
     "data": {
      "text/plain": [
       "3.0582923889160156"
      ]
     },
     "execution_count": 52,
     "metadata": {},
     "output_type": "execute_result"
    }
   ],
   "source": [
    "t = time.time()\n",
    "with jax.default_device(cpu):\n",
    "    rollout_jax_jit(10240,1000).block_until_ready()\n",
    "time.time()-t"
   ]
  },
  {
   "cell_type": "code",
   "execution_count": 53,
   "metadata": {},
   "outputs": [
    {
     "data": {
      "text/plain": [
       "1.9264230728149414"
      ]
     },
     "execution_count": 53,
     "metadata": {},
     "output_type": "execute_result"
    }
   ],
   "source": [
    "t = time.time() \n",
    "with jax.default_device(gpu):\n",
    "    rollout_jax_jit(10240,1000).block_until_ready()\n",
    "time.time()-t"
   ]
  },
  {
   "cell_type": "code",
   "execution_count": 54,
   "metadata": {},
   "outputs": [
    {
     "data": {
      "text/plain": [
       "1.6756553649902344"
      ]
     },
     "execution_count": 54,
     "metadata": {},
     "output_type": "execute_result"
    }
   ],
   "source": [
    "t = time.time()\n",
    "with jax.default_device(gpu):\n",
    "    rollout_jax_jit(10240,1000).block_until_ready()\n",
    "time.time()-t"
   ]
  },
  {
   "cell_type": "markdown",
   "metadata": {},
   "source": [
    "- The CPU might be the fastest for simple simulations with n=1 for batch-sizes of 1024\n",
    "- However large GPUs as the Nvidia A100 80 GB will give extraordinary speeds, compared to the available RTX 2080 Ti 16 GB.\n",
    "- But the GPU will surpass the CPU in speed if the vectorization further increases, i.e. batch-sizes of 10240 or internal matrix calculations.\n",
    "    - The pendulum is mostly a single CPU-heavy function and solving steps without much internal parallelization"
   ]
  },
  {
   "cell_type": "markdown",
   "metadata": {
    "tags": []
   },
   "source": [
    "### Tests for n=4"
   ]
  },
  {
   "cell_type": "code",
   "execution_count": 9,
   "metadata": {},
   "outputs": [
    {
     "name": "stdout",
     "output_type": "stream",
     "text": [
      "<class 'physics_environments.envs.rl_pendulum.cart_pendulum_math.types.CartPendulumPhysicsConstants'> {'n': 4, 'g': 9.81, 'l': [0.3, 0.3, 0.3, 0.3], 'r': [0.2, 0.2, 0.2, 0.2], 'm': [0.8, 0.8, 0.8, 0.8], 'I': [0.011, 0.011, 0.011, 0.011], 'mu': [0.015, 0.015, 0.015, 0.015]}\n"
     ]
    }
   ],
   "source": [
    "n = 4\n",
    "constants = CartPendulumPhysicsConstants(n    = n,         \n",
    "                                         g    = 9.81,        \n",
    "                                         l    = n*[0.300],\n",
    "                                         r    = n*[0.200],\n",
    "                                         m    = n*[0.800],\n",
    "                                         I    = n*[0.011],\n",
    "                                         mu   = n*[0.015])\n",
    "\n",
    "env_type             = 'compound pendulum'\n",
    "cart_pendulum_params = CartPendulumPhysicsEnvironmentParams(constants       = constants,         \n",
    "                                                            env_type        = env_type,      \n",
    "                                                            save_after_init = False, \n",
    "                                                            save_filename   = f\"env_{n}n_{env_type}_obj.pkl\") \n",
    "\n",
    "rl_env_params = RLCartPendulumEnvironmentParams(physics_env_params          = cart_pendulum_params,\n",
    "                                                training_generator_type     = \"DefaultGenerator\",\n",
    "                                                dt                          = 0.010,\n",
    "                                                t_episode                   = 10.00,\n",
    "                                                max_cart_acceleration       = 25.00,\n",
    "                                                cart_width                  = 0.250,\n",
    "                                                track_width                 = 0.800\n",
    "                                                )\n",
    "\n",
    "rl_env = RLCartPendulumEnvironment(params = rl_env_params)"
   ]
  },
  {
   "cell_type": "code",
   "execution_count": 10,
   "metadata": {},
   "outputs": [],
   "source": [
    "def robotic_equation_n4_numpy(t, y, args):\n",
    "    theta_1, theta_2, theta_3, theta_4, dtheta_1, dtheta_2, dtheta_3, dtheta_4, ddx_c                    = y\n",
    "    g, l_1, l_2, l_3, r_1, r_2, r_3, r_4, m_1, m_2, m_3, m_4, mu_1, mu_2, mu_3, mu_4, I_1, I_2, I_3, I_4 = args\n",
    "\n",
    "    return np.array([dtheta_1,\n",
    "                      dtheta_2,\n",
    "                      dtheta_3,\n",
    "                      dtheta_4,\n",
    "\n",
    "                      (dtheta_4**2*l_1*m_4*r_4*np.sin(theta_4 - theta_1) + dtheta_3*(dtheta_3*l_1*l_3*m_4*np.sin(theta_3 - theta_1) + dtheta_3*l_1*m_3*r_3*np.sin(theta_3 - theta_1)) + dtheta_2*mu_2 + dtheta_2*(dtheta_2*l_1*l_2*m_3*np.sin(theta_2 - theta_1) + dtheta_2*l_1*l_2*m_4*np.sin(theta_2 - theta_1) + dtheta_2*l_1*m_2*r_2*np.sin(theta_2 - theta_1)) - dtheta_1*(mu_1 + mu_2) - ddx_c*(-l_1*m_2 - l_1*m_3 - l_1*m_4 - m_1*r_1)*np.cos(theta_1) - g*(-l_1*m_2 - l_1*m_3 - l_1*m_4 - m_1*r_1)*np.sin(theta_1) - l_1*m_4*r_4*(-dtheta_4*mu_4 - dtheta_3**2*l_3*m_4*r_4*np.sin(theta_4 - theta_3) + dtheta_3*mu_4 - dtheta_2**2*l_2*m_4*r_4*np.sin(theta_4 - theta_2) - dtheta_1**2*l_1*m_4*r_4*np.sin(theta_4 - theta_1) + ddx_c*m_4*r_4*np.cos(theta_4) + g*m_4*r_4*np.sin(theta_4) - l_1*m_4*r_4*(dtheta_4**2*l_1*m_4*r_4*np.sin(theta_4 - theta_1) + dtheta_3*(dtheta_3*l_1*l_3*m_4*np.sin(theta_3 - theta_1) + dtheta_3*l_1*m_3*r_3*np.sin(theta_3 - theta_1)) + dtheta_2*mu_2 + dtheta_2*(dtheta_2*l_1*l_2*m_3*np.sin(theta_2 - theta_1) + dtheta_2*l_1*l_2*m_4*np.sin(theta_2 - theta_1) + dtheta_2*l_1*m_2*r_2*np.sin(theta_2 - theta_1)) - dtheta_1*(mu_1 + mu_2) - ddx_c*(-l_1*m_2 - l_1*m_3 - l_1*m_4 - m_1*r_1)*np.cos(theta_1) - g*(-l_1*m_2 - l_1*m_3 - l_1*m_4 - m_1*r_1)*np.sin(theta_1))*np.cos(theta_4 - theta_1)/(I_1 + l_1**2*m_2 + l_1**2*m_3 + l_1**2*m_4 + m_1*r_1**2) - (-l_1**2*m_4*r_4*(l_2*m_3 + l_2*m_4 + m_2*r_2)*np.cos(theta_4 - theta_1)*np.cos(theta_2 - theta_1)/(I_1 + l_1**2*m_2 + l_1**2*m_3 + l_1**2*m_4 + m_1*r_1**2) + l_2*m_4*r_4*np.cos(theta_4 - theta_2))*(dtheta_4**2*l_2*m_4*r_4*np.sin(theta_4 - theta_2) + dtheta_3*mu_3 + dtheta_3*(dtheta_3*l_2*l_3*m_4*np.sin(theta_3 - theta_2) + dtheta_3*l_2*m_3*r_3*np.sin(theta_3 - theta_2)) - dtheta_2*(mu_2 + mu_3) + dtheta_1*mu_2 + dtheta_1*(-dtheta_1*l_1*l_2*m_3*np.sin(theta_2 - theta_1) - dtheta_1*l_1*l_2*m_4*np.sin(theta_2 - theta_1) - dtheta_1*l_1*m_2*r_2*np.sin(theta_2 - theta_1)) - ddx_c*(-l_2*m_3 - l_2*m_4 - m_2*r_2)*np.cos(theta_2) - g*(-l_2*m_3 - l_2*m_4 - m_2*r_2)*np.sin(theta_2) - l_1*(l_2*m_3 + l_2*m_4 + m_2*r_2)*(dtheta_4**2*l_1*m_4*r_4*np.sin(theta_4 - theta_1) + dtheta_3*(dtheta_3*l_1*l_3*m_4*np.sin(theta_3 - theta_1) + dtheta_3*l_1*m_3*r_3*np.sin(theta_3 - theta_1)) + dtheta_2*mu_2 + dtheta_2*(dtheta_2*l_1*l_2*m_3*np.sin(theta_2 - theta_1) + dtheta_2*l_1*l_2*m_4*np.sin(theta_2 - theta_1) + dtheta_2*l_1*m_2*r_2*np.sin(theta_2 - theta_1)) - dtheta_1*(mu_1 + mu_2) - ddx_c*(-l_1*m_2 - l_1*m_3 - l_1*m_4 - m_1*r_1)*np.cos(theta_1) - g*(-l_1*m_2 - l_1*m_3 - l_1*m_4 - m_1*r_1)*np.sin(theta_1))*np.cos(theta_2 - theta_1)/(I_1 + l_1**2*m_2 + l_1**2*m_3 + l_1**2*m_4 + m_1*r_1**2))/(I_2 - l_1**2*(l_2*m_3 + l_2*m_4 + m_2*r_2)**2*np.cos(theta_2 - theta_1)**2/(I_1 + l_1**2*m_2 + l_1**2*m_3 + l_1**2*m_4 + m_1*r_1**2) + l_2**2*m_3 + l_2**2*m_4 + m_2*r_2**2) - (-l_1**2*m_4*r_4*(l_3*m_4 + m_3*r_3)*np.cos(theta_4 - theta_1)*np.cos(theta_3 - theta_1)/(I_1 + l_1**2*m_2 + l_1**2*m_3 + l_1**2*m_4 + m_1*r_1**2) + l_3*m_4*r_4*np.cos(theta_4 - theta_3) - (-l_1**2*(l_3*m_4 + m_3*r_3)*(l_2*m_3 + l_2*m_4 + m_2*r_2)*np.cos(theta_3 - theta_1)*np.cos(theta_2 - theta_1)/(I_1 + l_1**2*m_2 + l_1**2*m_3 + l_1**2*m_4 + m_1*r_1**2) + l_2*(l_3*m_4 + m_3*r_3)*np.cos(theta_3 - theta_2))*(-l_1**2*m_4*r_4*(l_2*m_3 + l_2*m_4 + m_2*r_2)*np.cos(theta_4 - theta_1)*np.cos(theta_2 - theta_1)/(I_1 + l_1**2*m_2 + l_1**2*m_3 + l_1**2*m_4 + m_1*r_1**2) + l_2*m_4*r_4*np.cos(theta_4 - theta_2))/(I_2 - l_1**2*(l_2*m_3 + l_2*m_4 + m_2*r_2)**2*np.cos(theta_2 - theta_1)**2/(I_1 + l_1**2*m_2 + l_1**2*m_3 + l_1**2*m_4 + m_1*r_1**2) + l_2**2*m_3 + l_2**2*m_4 + m_2*r_2**2))*(dtheta_4**2*l_3*m_4*r_4*np.sin(theta_4 - theta_3) + dtheta_4*mu_4 - dtheta_3*(mu_3 + mu_4) + dtheta_2*mu_3 + dtheta_2*(-dtheta_2*l_2*l_3*m_4*np.sin(theta_3 - theta_2) - dtheta_2*l_2*m_3*r_3*np.sin(theta_3 - theta_2)) + dtheta_1*(-dtheta_1*l_1*l_3*m_4*np.sin(theta_3 - theta_1) - dtheta_1*l_1*m_3*r_3*np.sin(theta_3 - theta_1)) - ddx_c*(-l_3*m_4 - m_3*r_3)*np.cos(theta_3) - g*(-l_3*m_4 - m_3*r_3)*np.sin(theta_3) - l_1*(l_3*m_4 + m_3*r_3)*(dtheta_4**2*l_1*m_4*r_4*np.sin(theta_4 - theta_1) + dtheta_3*(dtheta_3*l_1*l_3*m_4*np.sin(theta_3 - theta_1) + dtheta_3*l_1*m_3*r_3*np.sin(theta_3 - theta_1)) + dtheta_2*mu_2 + dtheta_2*(dtheta_2*l_1*l_2*m_3*np.sin(theta_2 - theta_1) + dtheta_2*l_1*l_2*m_4*np.sin(theta_2 - theta_1) + dtheta_2*l_1*m_2*r_2*np.sin(theta_2 - theta_1)) - dtheta_1*(mu_1 + mu_2) - ddx_c*(-l_1*m_2 - l_1*m_3 - l_1*m_4 - m_1*r_1)*np.cos(theta_1) - g*(-l_1*m_2 - l_1*m_3 - l_1*m_4 - m_1*r_1)*np.sin(theta_1))*np.cos(theta_3 - theta_1)/(I_1 + l_1**2*m_2 + l_1**2*m_3 + l_1**2*m_4 + m_1*r_1**2) - (-l_1**2*(l_3*m_4 + m_3*r_3)*(l_2*m_3 + l_2*m_4 + m_2*r_2)*np.cos(theta_3 - theta_1)*np.cos(theta_2 - theta_1)/(I_1 + l_1**2*m_2 + l_1**2*m_3 + l_1**2*m_4 + m_1*r_1**2) + l_2*(l_3*m_4 + m_3*r_3)*np.cos(theta_3 - theta_2))*(dtheta_4**2*l_2*m_4*r_4*np.sin(theta_4 - theta_2) + dtheta_3*mu_3 + dtheta_3*(dtheta_3*l_2*l_3*m_4*np.sin(theta_3 - theta_2) + dtheta_3*l_2*m_3*r_3*np.sin(theta_3 - theta_2)) - dtheta_2*(mu_2 + mu_3) + dtheta_1*mu_2 + dtheta_1*(-dtheta_1*l_1*l_2*m_3*np.sin(theta_2 - theta_1) - dtheta_1*l_1*l_2*m_4*np.sin(theta_2 - theta_1) - dtheta_1*l_1*m_2*r_2*np.sin(theta_2 - theta_1)) - ddx_c*(-l_2*m_3 - l_2*m_4 - m_2*r_2)*np.cos(theta_2) - g*(-l_2*m_3 - l_2*m_4 - m_2*r_2)*np.sin(theta_2) - l_1*(l_2*m_3 + l_2*m_4 + m_2*r_2)*(dtheta_4**2*l_1*m_4*r_4*np.sin(theta_4 - theta_1) + dtheta_3*(dtheta_3*l_1*l_3*m_4*np.sin(theta_3 - theta_1) + dtheta_3*l_1*m_3*r_3*np.sin(theta_3 - theta_1)) + dtheta_2*mu_2 + dtheta_2*(dtheta_2*l_1*l_2*m_3*np.sin(theta_2 - theta_1) + dtheta_2*l_1*l_2*m_4*np.sin(theta_2 - theta_1) + dtheta_2*l_1*m_2*r_2*np.sin(theta_2 - theta_1)) - dtheta_1*(mu_1 + mu_2) - ddx_c*(-l_1*m_2 - l_1*m_3 - l_1*m_4 - m_1*r_1)*np.cos(theta_1) - g*(-l_1*m_2 - l_1*m_3 - l_1*m_4 - m_1*r_1)*np.sin(theta_1))*np.cos(theta_2 - theta_1)/(I_1 + l_1**2*m_2 + l_1**2*m_3 + l_1**2*m_4 + m_1*r_1**2))/(I_2 - l_1**2*(l_2*m_3 + l_2*m_4 + m_2*r_2)**2*np.cos(theta_2 - theta_1)**2/(I_1 + l_1**2*m_2 + l_1**2*m_3 + l_1**2*m_4 + m_1*r_1**2) + l_2**2*m_3 + l_2**2*m_4 + m_2*r_2**2))/(I_3 - l_1**2*(l_3*m_4 + m_3*r_3)**2*np.cos(theta_3 - theta_1)**2/(I_1 + l_1**2*m_2 + l_1**2*m_3 + l_1**2*m_4 + m_1*r_1**2) + l_3**2*m_4 + m_3*r_3**2 - (-l_1**2*(l_3*m_4 + m_3*r_3)*(l_2*m_3 + l_2*m_4 + m_2*r_2)*np.cos(theta_3 - theta_1)*np.cos(theta_2 - theta_1)/(I_1 + l_1**2*m_2 + l_1**2*m_3 + l_1**2*m_4 + m_1*r_1**2) + l_2*(l_3*m_4 + m_3*r_3)*np.cos(theta_3 - theta_2))**2/(I_2 - l_1**2*(l_2*m_3 + l_2*m_4 + m_2*r_2)**2*np.cos(theta_2 - theta_1)**2/(I_1 + l_1**2*m_2 + l_1**2*m_3 + l_1**2*m_4 + m_1*r_1**2) + l_2**2*m_3 + l_2**2*m_4 + m_2*r_2**2)))*np.cos(theta_4 - theta_1)/(I_4 - l_1**2*m_4**2*r_4**2*np.cos(theta_4 - theta_1)**2/(I_1 + l_1**2*m_2 + l_1**2*m_3 + l_1**2*m_4 + m_1*r_1**2) + m_4*r_4**2 - (-l_1**2*m_4*r_4*(l_2*m_3 + l_2*m_4 + m_2*r_2)*np.cos(theta_4 - theta_1)*np.cos(theta_2 - theta_1)/(I_1 + l_1**2*m_2 + l_1**2*m_3 + l_1**2*m_4 + m_1*r_1**2) + l_2*m_4*r_4*np.cos(theta_4 - theta_2))**2/(I_2 - l_1**2*(l_2*m_3 + l_2*m_4 + m_2*r_2)**2*np.cos(theta_2 - theta_1)**2/(I_1 + l_1**2*m_2 + l_1**2*m_3 + l_1**2*m_4 + m_1*r_1**2) + l_2**2*m_3 + l_2**2*m_4 + m_2*r_2**2) - (-l_1**2*m_4*r_4*(l_3*m_4 + m_3*r_3)*np.cos(theta_4 - theta_1)*np.cos(theta_3 - theta_1)/(I_1 + l_1**2*m_2 + l_1**2*m_3 + l_1**2*m_4 + m_1*r_1**2) + l_3*m_4*r_4*np.cos(theta_4 - theta_3) - (-l_1**2*(l_3*m_4 + m_3*r_3)*(l_2*m_3 + l_2*m_4 + m_2*r_2)*np.cos(theta_3 - theta_1)*np.cos(theta_2 - theta_1)/(I_1 + l_1**2*m_2 + l_1**2*m_3 + l_1**2*m_4 + m_1*r_1**2) + l_2*(l_3*m_4 + m_3*r_3)*np.cos(theta_3 - theta_2))*(-l_1**2*m_4*r_4*(l_2*m_3 + l_2*m_4 + m_2*r_2)*np.cos(theta_4 - theta_1)*np.cos(theta_2 - theta_1)/(I_1 + l_1**2*m_2 + l_1**2*m_3 + l_1**2*m_4 + m_1*r_1**2) + l_2*m_4*r_4*np.cos(theta_4 - theta_2))/(I_2 - l_1**2*(l_2*m_3 + l_2*m_4 + m_2*r_2)**2*np.cos(theta_2 - theta_1)**2/(I_1 + l_1**2*m_2 + l_1**2*m_3 + l_1**2*m_4 + m_1*r_1**2) + l_2**2*m_3 + l_2**2*m_4 + m_2*r_2**2))**2/(I_3 - l_1**2*(l_3*m_4 + m_3*r_3)**2*np.cos(theta_3 - theta_1)**2/(I_1 + l_1**2*m_2 + l_1**2*m_3 + l_1**2*m_4 + m_1*r_1**2) + l_3**2*m_4 + m_3*r_3**2 - (-l_1**2*(l_3*m_4 + m_3*r_3)*(l_2*m_3 + l_2*m_4 + m_2*r_2)*np.cos(theta_3 - theta_1)*np.cos(theta_2 - theta_1)/(I_1 + l_1**2*m_2 + l_1**2*m_3 + l_1**2*m_4 + m_1*r_1**2) + l_2*(l_3*m_4 + m_3*r_3)*np.cos(theta_3 - theta_2))**2/(I_2 - l_1**2*(l_2*m_3 + l_2*m_4 + m_2*r_2)**2*np.cos(theta_2 - theta_1)**2/(I_1 + l_1**2*m_2 + l_1**2*m_3 + l_1**2*m_4 + m_1*r_1**2) + l_2**2*m_3 + l_2**2*m_4 + m_2*r_2**2))) - l_1*(l_3*m_4 + m_3*r_3)*(dtheta_4**2*l_3*m_4*r_4*np.sin(theta_4 - theta_3) + dtheta_4*mu_4 - dtheta_3*(mu_3 + mu_4) + dtheta_2*mu_3 + dtheta_2*(-dtheta_2*l_2*l_3*m_4*np.sin(theta_3 - theta_2) - dtheta_2*l_2*m_3*r_3*np.sin(theta_3 - theta_2)) + dtheta_1*(-dtheta_1*l_1*l_3*m_4*np.sin(theta_3 - theta_1) - dtheta_1*l_1*m_3*r_3*np.sin(theta_3 - theta_1)) - ddx_c*(-l_3*m_4 - m_3*r_3)*np.cos(theta_3) - g*(-l_3*m_4 - m_3*r_3)*np.sin(theta_3) - l_1*(l_3*m_4 + m_3*r_3)*(dtheta_4**2*l_1*m_4*r_4*np.sin(theta_4 - theta_1) + dtheta_3*(dtheta_3*l_1*l_3*m_4*np.sin(theta_3 - theta_1) + dtheta_3*l_1*m_3*r_3*np.sin(theta_3 - theta_1)) + dtheta_2*mu_2 + dtheta_2*(dtheta_2*l_1*l_2*m_3*np.sin(theta_2 - theta_1) + dtheta_2*l_1*l_2*m_4*np.sin(theta_2 - theta_1) + dtheta_2*l_1*m_2*r_2*np.sin(theta_2 - theta_1)) - dtheta_1*(mu_1 + mu_2) - ddx_c*(-l_1*m_2 - l_1*m_3 - l_1*m_4 - m_1*r_1)*np.cos(theta_1) - g*(-l_1*m_2 - l_1*m_3 - l_1*m_4 - m_1*r_1)*np.sin(theta_1))*np.cos(theta_3 - theta_1)/(I_1 + l_1**2*m_2 + l_1**2*m_3 + l_1**2*m_4 + m_1*r_1**2) - (-l_1**2*(l_3*m_4 + m_3*r_3)*(l_2*m_3 + l_2*m_4 + m_2*r_2)*np.cos(theta_3 - theta_1)*np.cos(theta_2 - theta_1)/(I_1 + l_1**2*m_2 + l_1**2*m_3 + l_1**2*m_4 + m_1*r_1**2) + l_2*(l_3*m_4 + m_3*r_3)*np.cos(theta_3 - theta_2))*(dtheta_4**2*l_2*m_4*r_4*np.sin(theta_4 - theta_2) + dtheta_3*mu_3 + dtheta_3*(dtheta_3*l_2*l_3*m_4*np.sin(theta_3 - theta_2) + dtheta_3*l_2*m_3*r_3*np.sin(theta_3 - theta_2)) - dtheta_2*(mu_2 + mu_3) + dtheta_1*mu_2 + dtheta_1*(-dtheta_1*l_1*l_2*m_3*np.sin(theta_2 - theta_1) - dtheta_1*l_1*l_2*m_4*np.sin(theta_2 - theta_1) - dtheta_1*l_1*m_2*r_2*np.sin(theta_2 - theta_1)) - ddx_c*(-l_2*m_3 - l_2*m_4 - m_2*r_2)*np.cos(theta_2) - g*(-l_2*m_3 - l_2*m_4 - m_2*r_2)*np.sin(theta_2) - l_1*(l_2*m_3 + l_2*m_4 + m_2*r_2)*(dtheta_4**2*l_1*m_4*r_4*np.sin(theta_4 - theta_1) + dtheta_3*(dtheta_3*l_1*l_3*m_4*np.sin(theta_3 - theta_1) + dtheta_3*l_1*m_3*r_3*np.sin(theta_3 - theta_1)) + dtheta_2*mu_2 + dtheta_2*(dtheta_2*l_1*l_2*m_3*np.sin(theta_2 - theta_1) + dtheta_2*l_1*l_2*m_4*np.sin(theta_2 - theta_1) + dtheta_2*l_1*m_2*r_2*np.sin(theta_2 - theta_1)) - dtheta_1*(mu_1 + mu_2) - ddx_c*(-l_1*m_2 - l_1*m_3 - l_1*m_4 - m_1*r_1)*np.cos(theta_1) - g*(-l_1*m_2 - l_1*m_3 - l_1*m_4 - m_1*r_1)*np.sin(theta_1))*np.cos(theta_2 - theta_1)/(I_1 + l_1**2*m_2 + l_1**2*m_3 + l_1**2*m_4 + m_1*r_1**2))/(I_2 - l_1**2*(l_2*m_3 + l_2*m_4 + m_2*r_2)**2*np.cos(theta_2 - theta_1)**2/(I_1 + l_1**2*m_2 + l_1**2*m_3 + l_1**2*m_4 + m_1*r_1**2) + l_2**2*m_3 + l_2**2*m_4 + m_2*r_2**2) - (-l_1**2*m_4*r_4*(l_3*m_4 + m_3*r_3)*np.cos(theta_4 - theta_1)*np.cos(theta_3 - theta_1)/(I_1 + l_1**2*m_2 + l_1**2*m_3 + l_1**2*m_4 + m_1*r_1**2) + l_3*m_4*r_4*np.cos(theta_4 - theta_3) - (-l_1**2*(l_3*m_4 + m_3*r_3)*(l_2*m_3 + l_2*m_4 + m_2*r_2)*np.cos(theta_3 - theta_1)*np.cos(theta_2 - theta_1)/(I_1 + l_1**2*m_2 + l_1**2*m_3 + l_1**2*m_4 + m_1*r_1**2) + l_2*(l_3*m_4 + m_3*r_3)*np.cos(theta_3 - theta_2))*(-l_1**2*m_4*r_4*(l_2*m_3 + l_2*m_4 + m_2*r_2)*np.cos(theta_4 - theta_1)*np.cos(theta_2 - theta_1)/(I_1 + l_1**2*m_2 + l_1**2*m_3 + l_1**2*m_4 + m_1*r_1**2) + l_2*m_4*r_4*np.cos(theta_4 - theta_2))/(I_2 - l_1**2*(l_2*m_3 + l_2*m_4 + m_2*r_2)**2*np.cos(theta_2 - theta_1)**2/(I_1 + l_1**2*m_2 + l_1**2*m_3 + l_1**2*m_4 + m_1*r_1**2) + l_2**2*m_3 + l_2**2*m_4 + m_2*r_2**2))*(-dtheta_4*mu_4 - dtheta_3**2*l_3*m_4*r_4*np.sin(theta_4 - theta_3) + dtheta_3*mu_4 - dtheta_2**2*l_2*m_4*r_4*np.sin(theta_4 - theta_2) - dtheta_1**2*l_1*m_4*r_4*np.sin(theta_4 - theta_1) + ddx_c*m_4*r_4*np.cos(theta_4) + g*m_4*r_4*np.sin(theta_4) - l_1*m_4*r_4*(dtheta_4**2*l_1*m_4*r_4*np.sin(theta_4 - theta_1) + dtheta_3*(dtheta_3*l_1*l_3*m_4*np.sin(theta_3 - theta_1) + dtheta_3*l_1*m_3*r_3*np.sin(theta_3 - theta_1)) + dtheta_2*mu_2 + dtheta_2*(dtheta_2*l_1*l_2*m_3*np.sin(theta_2 - theta_1) + dtheta_2*l_1*l_2*m_4*np.sin(theta_2 - theta_1) + dtheta_2*l_1*m_2*r_2*np.sin(theta_2 - theta_1)) - dtheta_1*(mu_1 + mu_2) - ddx_c*(-l_1*m_2 - l_1*m_3 - l_1*m_4 - m_1*r_1)*np.cos(theta_1) - g*(-l_1*m_2 - l_1*m_3 - l_1*m_4 - m_1*r_1)*np.sin(theta_1))*np.cos(theta_4 - theta_1)/(I_1 + l_1**2*m_2 + l_1**2*m_3 + l_1**2*m_4 + m_1*r_1**2) - (-l_1**2*m_4*r_4*(l_2*m_3 + l_2*m_4 + m_2*r_2)*np.cos(theta_4 - theta_1)*np.cos(theta_2 - theta_1)/(I_1 + l_1**2*m_2 + l_1**2*m_3 + l_1**2*m_4 + m_1*r_1**2) + l_2*m_4*r_4*np.cos(theta_4 - theta_2))*(dtheta_4**2*l_2*m_4*r_4*np.sin(theta_4 - theta_2) + dtheta_3*mu_3 + dtheta_3*(dtheta_3*l_2*l_3*m_4*np.sin(theta_3 - theta_2) + dtheta_3*l_2*m_3*r_3*np.sin(theta_3 - theta_2)) - dtheta_2*(mu_2 + mu_3) + dtheta_1*mu_2 + dtheta_1*(-dtheta_1*l_1*l_2*m_3*np.sin(theta_2 - theta_1) - dtheta_1*l_1*l_2*m_4*np.sin(theta_2 - theta_1) - dtheta_1*l_1*m_2*r_2*np.sin(theta_2 - theta_1)) - ddx_c*(-l_2*m_3 - l_2*m_4 - m_2*r_2)*np.cos(theta_2) - g*(-l_2*m_3 - l_2*m_4 - m_2*r_2)*np.sin(theta_2) - l_1*(l_2*m_3 + l_2*m_4 + m_2*r_2)*(dtheta_4**2*l_1*m_4*r_4*np.sin(theta_4 - theta_1) + dtheta_3*(dtheta_3*l_1*l_3*m_4*np.sin(theta_3 - theta_1) + dtheta_3*l_1*m_3*r_3*np.sin(theta_3 - theta_1)) + dtheta_2*mu_2 + dtheta_2*(dtheta_2*l_1*l_2*m_3*np.sin(theta_2 - theta_1) + dtheta_2*l_1*l_2*m_4*np.sin(theta_2 - theta_1) + dtheta_2*l_1*m_2*r_2*np.sin(theta_2 - theta_1)) - dtheta_1*(mu_1 + mu_2) - ddx_c*(-l_1*m_2 - l_1*m_3 - l_1*m_4 - m_1*r_1)*np.cos(theta_1) - g*(-l_1*m_2 - l_1*m_3 - l_1*m_4 - m_1*r_1)*np.sin(theta_1))*np.cos(theta_2 - theta_1)/(I_1 + l_1**2*m_2 + l_1**2*m_3 + l_1**2*m_4 + m_1*r_1**2))/(I_2 - l_1**2*(l_2*m_3 + l_2*m_4 + m_2*r_2)**2*np.cos(theta_2 - theta_1)**2/(I_1 + l_1**2*m_2 + l_1**2*m_3 + l_1**2*m_4 + m_1*r_1**2) + l_2**2*m_3 + l_2**2*m_4 + m_2*r_2**2) - (-l_1**2*m_4*r_4*(l_3*m_4 + m_3*r_3)*np.cos(theta_4 - theta_1)*np.cos(theta_3 - theta_1)/(I_1 + l_1**2*m_2 + l_1**2*m_3 + l_1**2*m_4 + m_1*r_1**2) + l_3*m_4*r_4*np.cos(theta_4 - theta_3) - (-l_1**2*(l_3*m_4 + m_3*r_3)*(l_2*m_3 + l_2*m_4 + m_2*r_2)*np.cos(theta_3 - theta_1)*np.cos(theta_2 - theta_1)/(I_1 + l_1**2*m_2 + l_1**2*m_3 + l_1**2*m_4 + m_1*r_1**2) + l_2*(l_3*m_4 + m_3*r_3)*np.cos(theta_3 - theta_2))*(-l_1**2*m_4*r_4*(l_2*m_3 + l_2*m_4 + m_2*r_2)*np.cos(theta_4 - theta_1)*np.cos(theta_2 - theta_1)/(I_1 + l_1**2*m_2 + l_1**2*m_3 + l_1**2*m_4 + m_1*r_1**2) + l_2*m_4*r_4*np.cos(theta_4 - theta_2))/(I_2 - l_1**2*(l_2*m_3 + l_2*m_4 + m_2*r_2)**2*np.cos(theta_2 - theta_1)**2/(I_1 + l_1**2*m_2 + l_1**2*m_3 + l_1**2*m_4 + m_1*r_1**2) + l_2**2*m_3 + l_2**2*m_4 + m_2*r_2**2))*(dtheta_4**2*l_3*m_4*r_4*np.sin(theta_4 - theta_3) + dtheta_4*mu_4 - dtheta_3*(mu_3 + mu_4) + dtheta_2*mu_3 + dtheta_2*(-dtheta_2*l_2*l_3*m_4*np.sin(theta_3 - theta_2) - dtheta_2*l_2*m_3*r_3*np.sin(theta_3 - theta_2)) + dtheta_1*(-dtheta_1*l_1*l_3*m_4*np.sin(theta_3 - theta_1) - dtheta_1*l_1*m_3*r_3*np.sin(theta_3 - theta_1)) - ddx_c*(-l_3*m_4 - m_3*r_3)*np.cos(theta_3) - g*(-l_3*m_4 - m_3*r_3)*np.sin(theta_3) - l_1*(l_3*m_4 + m_3*r_3)*(dtheta_4**2*l_1*m_4*r_4*np.sin(theta_4 - theta_1) + dtheta_3*(dtheta_3*l_1*l_3*m_4*np.sin(theta_3 - theta_1) + dtheta_3*l_1*m_3*r_3*np.sin(theta_3 - theta_1)) + dtheta_2*mu_2 + dtheta_2*(dtheta_2*l_1*l_2*m_3*np.sin(theta_2 - theta_1) + dtheta_2*l_1*l_2*m_4*np.sin(theta_2 - theta_1) + dtheta_2*l_1*m_2*r_2*np.sin(theta_2 - theta_1)) - dtheta_1*(mu_1 + mu_2) - ddx_c*(-l_1*m_2 - l_1*m_3 - l_1*m_4 - m_1*r_1)*np.cos(theta_1) - g*(-l_1*m_2 - l_1*m_3 - l_1*m_4 - m_1*r_1)*np.sin(theta_1))*np.cos(theta_3 - theta_1)/(I_1 + l_1**2*m_2 + l_1**2*m_3 + l_1**2*m_4 + m_1*r_1**2) - (-l_1**2*(l_3*m_4 + m_3*r_3)*(l_2*m_3 + l_2*m_4 + m_2*r_2)*np.cos(theta_3 - theta_1)*np.cos(theta_2 - theta_1)/(I_1 + l_1**2*m_2 + l_1**2*m_3 + l_1**2*m_4 + m_1*r_1**2) + l_2*(l_3*m_4 + m_3*r_3)*np.cos(theta_3 - theta_2))*(dtheta_4**2*l_2*m_4*r_4*np.sin(theta_4 - theta_2) + dtheta_3*mu_3 + dtheta_3*(dtheta_3*l_2*l_3*m_4*np.sin(theta_3 - theta_2) + dtheta_3*l_2*m_3*r_3*np.sin(theta_3 - theta_2)) - dtheta_2*(mu_2 + mu_3) + dtheta_1*mu_2 + dtheta_1*(-dtheta_1*l_1*l_2*m_3*np.sin(theta_2 - theta_1) - dtheta_1*l_1*l_2*m_4*np.sin(theta_2 - theta_1) - dtheta_1*l_1*m_2*r_2*np.sin(theta_2 - theta_1)) - ddx_c*(-l_2*m_3 - l_2*m_4 - m_2*r_2)*np.cos(theta_2) - g*(-l_2*m_3 - l_2*m_4 - m_2*r_2)*np.sin(theta_2) - l_1*(l_2*m_3 + l_2*m_4 + m_2*r_2)*(dtheta_4**2*l_1*m_4*r_4*np.sin(theta_4 - theta_1) + dtheta_3*(dtheta_3*l_1*l_3*m_4*np.sin(theta_3 - theta_1) + dtheta_3*l_1*m_3*r_3*np.sin(theta_3 - theta_1)) + dtheta_2*mu_2 + dtheta_2*(dtheta_2*l_1*l_2*m_3*np.sin(theta_2 - theta_1) + dtheta_2*l_1*l_2*m_4*np.sin(theta_2 - theta_1) + dtheta_2*l_1*m_2*r_2*np.sin(theta_2 - theta_1)) - dtheta_1*(mu_1 + mu_2) - ddx_c*(-l_1*m_2 - l_1*m_3 - l_1*m_4 - m_1*r_1)*np.cos(theta_1) - g*(-l_1*m_2 - l_1*m_3 - l_1*m_4 - m_1*r_1)*np.sin(theta_1))*np.cos(theta_2 - theta_1)/(I_1 + l_1**2*m_2 + l_1**2*m_3 + l_1**2*m_4 + m_1*r_1**2))/(I_2 - l_1**2*(l_2*m_3 + l_2*m_4 + m_2*r_2)**2*np.cos(theta_2 - theta_1)**2/(I_1 + l_1**2*m_2 + l_1**2*m_3 + l_1**2*m_4 + m_1*r_1**2) + l_2**2*m_3 + l_2**2*m_4 + m_2*r_2**2))/(I_3 - l_1**2*(l_3*m_4 + m_3*r_3)**2*np.cos(theta_3 - theta_1)**2/(I_1 + l_1**2*m_2 + l_1**2*m_3 + l_1**2*m_4 + m_1*r_1**2) + l_3**2*m_4 + m_3*r_3**2 - (-l_1**2*(l_3*m_4 + m_3*r_3)*(l_2*m_3 + l_2*m_4 + m_2*r_2)*np.cos(theta_3 - theta_1)*np.cos(theta_2 - theta_1)/(I_1 + l_1**2*m_2 + l_1**2*m_3 + l_1**2*m_4 + m_1*r_1**2) + l_2*(l_3*m_4 + m_3*r_3)*np.cos(theta_3 - theta_2))**2/(I_2 - l_1**2*(l_2*m_3 + l_2*m_4 + m_2*r_2)**2*np.cos(theta_2 - theta_1)**2/(I_1 + l_1**2*m_2 + l_1**2*m_3 + l_1**2*m_4 + m_1*r_1**2) + l_2**2*m_3 + l_2**2*m_4 + m_2*r_2**2)))/(I_4 - l_1**2*m_4**2*r_4**2*np.cos(theta_4 - theta_1)**2/(I_1 + l_1**2*m_2 + l_1**2*m_3 + l_1**2*m_4 + m_1*r_1**2) + m_4*r_4**2 - (-l_1**2*m_4*r_4*(l_2*m_3 + l_2*m_4 + m_2*r_2)*np.cos(theta_4 - theta_1)*np.cos(theta_2 - theta_1)/(I_1 + l_1**2*m_2 + l_1**2*m_3 + l_1**2*m_4 + m_1*r_1**2) + l_2*m_4*r_4*np.cos(theta_4 - theta_2))**2/(I_2 - l_1**2*(l_2*m_3 + l_2*m_4 + m_2*r_2)**2*np.cos(theta_2 - theta_1)**2/(I_1 + l_1**2*m_2 + l_1**2*m_3 + l_1**2*m_4 + m_1*r_1**2) + l_2**2*m_3 + l_2**2*m_4 + m_2*r_2**2) - (-l_1**2*m_4*r_4*(l_3*m_4 + m_3*r_3)*np.cos(theta_4 - theta_1)*np.cos(theta_3 - theta_1)/(I_1 + l_1**2*m_2 + l_1**2*m_3 + l_1**2*m_4 + m_1*r_1**2) + l_3*m_4*r_4*np.cos(theta_4 - theta_3) - (-l_1**2*(l_3*m_4 + m_3*r_3)*(l_2*m_3 + l_2*m_4 + m_2*r_2)*np.cos(theta_3 - theta_1)*np.cos(theta_2 - theta_1)/(I_1 + l_1**2*m_2 + l_1**2*m_3 + l_1**2*m_4 + m_1*r_1**2) + l_2*(l_3*m_4 + m_3*r_3)*np.cos(theta_3 - theta_2))*(-l_1**2*m_4*r_4*(l_2*m_3 + l_2*m_4 + m_2*r_2)*np.cos(theta_4 - theta_1)*np.cos(theta_2 - theta_1)/(I_1 + l_1**2*m_2 + l_1**2*m_3 + l_1**2*m_4 + m_1*r_1**2) + l_2*m_4*r_4*np.cos(theta_4 - theta_2))/(I_2 - l_1**2*(l_2*m_3 + l_2*m_4 + m_2*r_2)**2*np.cos(theta_2 - theta_1)**2/(I_1 + l_1**2*m_2 + l_1**2*m_3 + l_1**2*m_4 + m_1*r_1**2) + l_2**2*m_3 + l_2**2*m_4 + m_2*r_2**2))**2/(I_3 - l_1**2*(l_3*m_4 + m_3*r_3)**2*np.cos(theta_3 - theta_1)**2/(I_1 + l_1**2*m_2 + l_1**2*m_3 + l_1**2*m_4 + m_1*r_1**2) + l_3**2*m_4 + m_3*r_3**2 - (-l_1**2*(l_3*m_4 + m_3*r_3)*(l_2*m_3 + l_2*m_4 + m_2*r_2)*np.cos(theta_3 - theta_1)*np.cos(theta_2 - theta_1)/(I_1 + l_1**2*m_2 + l_1**2*m_3 + l_1**2*m_4 + m_1*r_1**2) + l_2*(l_3*m_4 + m_3*r_3)*np.cos(theta_3 - theta_2))**2/(I_2 - l_1**2*(l_2*m_3 + l_2*m_4 + m_2*r_2)**2*np.cos(theta_2 - theta_1)**2/(I_1 + l_1**2*m_2 + l_1**2*m_3 + l_1**2*m_4 + m_1*r_1**2) + l_2**2*m_3 + l_2**2*m_4 + m_2*r_2**2))))*np.cos(theta_3 - theta_1)/(I_3 - l_1**2*(l_3*m_4 + m_3*r_3)**2*np.cos(theta_3 - theta_1)**2/(I_1 + l_1**2*m_2 + l_1**2*m_3 + l_1**2*m_4 + m_1*r_1**2) + l_3**2*m_4 + m_3*r_3**2 - (-l_1**2*(l_3*m_4 + m_3*r_3)*(l_2*m_3 + l_2*m_4 + m_2*r_2)*np.cos(theta_3 - theta_1)*np.cos(theta_2 - theta_1)/(I_1 + l_1**2*m_2 + l_1**2*m_3 + l_1**2*m_4 + m_1*r_1**2) + l_2*(l_3*m_4 + m_3*r_3)*np.cos(theta_3 - theta_2))**2/(I_2 - l_1**2*(l_2*m_3 + l_2*m_4 + m_2*r_2)**2*np.cos(theta_2 - theta_1)**2/(I_1 + l_1**2*m_2 + l_1**2*m_3 + l_1**2*m_4 + m_1*r_1**2) + l_2**2*m_3 + l_2**2*m_4 + m_2*r_2**2)) - l_1*(l_2*m_3 + l_2*m_4 + m_2*r_2)*(dtheta_4**2*l_2*m_4*r_4*np.sin(theta_4 - theta_2) + dtheta_3*mu_3 + dtheta_3*(dtheta_3*l_2*l_3*m_4*np.sin(theta_3 - theta_2) + dtheta_3*l_2*m_3*r_3*np.sin(theta_3 - theta_2)) - dtheta_2*(mu_2 + mu_3) + dtheta_1*mu_2 + dtheta_1*(-dtheta_1*l_1*l_2*m_3*np.sin(theta_2 - theta_1) - dtheta_1*l_1*l_2*m_4*np.sin(theta_2 - theta_1) - dtheta_1*l_1*m_2*r_2*np.sin(theta_2 - theta_1)) - ddx_c*(-l_2*m_3 - l_2*m_4 - m_2*r_2)*np.cos(theta_2) - g*(-l_2*m_3 - l_2*m_4 - m_2*r_2)*np.sin(theta_2) - l_1*(l_2*m_3 + l_2*m_4 + m_2*r_2)*(dtheta_4**2*l_1*m_4*r_4*np.sin(theta_4 - theta_1) + dtheta_3*(dtheta_3*l_1*l_3*m_4*np.sin(theta_3 - theta_1) + dtheta_3*l_1*m_3*r_3*np.sin(theta_3 - theta_1)) + dtheta_2*mu_2 + dtheta_2*(dtheta_2*l_1*l_2*m_3*np.sin(theta_2 - theta_1) + dtheta_2*l_1*l_2*m_4*np.sin(theta_2 - theta_1) + dtheta_2*l_1*m_2*r_2*np.sin(theta_2 - theta_1)) - dtheta_1*(mu_1 + mu_2) - ddx_c*(-l_1*m_2 - l_1*m_3 - l_1*m_4 - m_1*r_1)*np.cos(theta_1) - g*(-l_1*m_2 - l_1*m_3 - l_1*m_4 - m_1*r_1)*np.sin(theta_1))*np.cos(theta_2 - theta_1)/(I_1 + l_1**2*m_2 + l_1**2*m_3 + l_1**2*m_4 + m_1*r_1**2) - (-l_1**2*(l_3*m_4 + m_3*r_3)*(l_2*m_3 + l_2*m_4 + m_2*r_2)*np.cos(theta_3 - theta_1)*np.cos(theta_2 - theta_1)/(I_1 + l_1**2*m_2 + l_1**2*m_3 + l_1**2*m_4 + m_1*r_1**2) + l_2*(l_3*m_4 + m_3*r_3)*np.cos(theta_3 - theta_2))*(dtheta_4**2*l_3*m_4*r_4*np.sin(theta_4 - theta_3) + dtheta_4*mu_4 - dtheta_3*(mu_3 + mu_4) + dtheta_2*mu_3 + dtheta_2*(-dtheta_2*l_2*l_3*m_4*np.sin(theta_3 - theta_2) - dtheta_2*l_2*m_3*r_3*np.sin(theta_3 - theta_2)) + dtheta_1*(-dtheta_1*l_1*l_3*m_4*np.sin(theta_3 - theta_1) - dtheta_1*l_1*m_3*r_3*np.sin(theta_3 - theta_1)) - ddx_c*(-l_3*m_4 - m_3*r_3)*np.cos(theta_3) - g*(-l_3*m_4 - m_3*r_3)*np.sin(theta_3) - l_1*(l_3*m_4 + m_3*r_3)*(dtheta_4**2*l_1*m_4*r_4*np.sin(theta_4 - theta_1) + dtheta_3*(dtheta_3*l_1*l_3*m_4*np.sin(theta_3 - theta_1) + dtheta_3*l_1*m_3*r_3*np.sin(theta_3 - theta_1)) + dtheta_2*mu_2 + dtheta_2*(dtheta_2*l_1*l_2*m_3*np.sin(theta_2 - theta_1) + dtheta_2*l_1*l_2*m_4*np.sin(theta_2 - theta_1) + dtheta_2*l_1*m_2*r_2*np.sin(theta_2 - theta_1)) - dtheta_1*(mu_1 + mu_2) - ddx_c*(-l_1*m_2 - l_1*m_3 - l_1*m_4 - m_1*r_1)*np.cos(theta_1) - g*(-l_1*m_2 - l_1*m_3 - l_1*m_4 - m_1*r_1)*np.sin(theta_1))*np.cos(theta_3 - theta_1)/(I_1 + l_1**2*m_2 + l_1**2*m_3 + l_1**2*m_4 + m_1*r_1**2) - (-l_1**2*(l_3*m_4 + m_3*r_3)*(l_2*m_3 + l_2*m_4 + m_2*r_2)*np.cos(theta_3 - theta_1)*np.cos(theta_2 - theta_1)/(I_1 + l_1**2*m_2 + l_1**2*m_3 + l_1**2*m_4 + m_1*r_1**2) + l_2*(l_3*m_4 + m_3*r_3)*np.cos(theta_3 - theta_2))*(dtheta_4**2*l_2*m_4*r_4*np.sin(theta_4 - theta_2) + dtheta_3*mu_3 + dtheta_3*(dtheta_3*l_2*l_3*m_4*np.sin(theta_3 - theta_2) + dtheta_3*l_2*m_3*r_3*np.sin(theta_3 - theta_2)) - dtheta_2*(mu_2 + mu_3) + dtheta_1*mu_2 + dtheta_1*(-dtheta_1*l_1*l_2*m_3*np.sin(theta_2 - theta_1) - dtheta_1*l_1*l_2*m_4*np.sin(theta_2 - theta_1) - dtheta_1*l_1*m_2*r_2*np.sin(theta_2 - theta_1)) - ddx_c*(-l_2*m_3 - l_2*m_4 - m_2*r_2)*np.cos(theta_2) - g*(-l_2*m_3 - l_2*m_4 - m_2*r_2)*np.sin(theta_2) - l_1*(l_2*m_3 + l_2*m_4 + m_2*r_2)*(dtheta_4**2*l_1*m_4*r_4*np.sin(theta_4 - theta_1) + dtheta_3*(dtheta_3*l_1*l_3*m_4*np.sin(theta_3 - theta_1) + dtheta_3*l_1*m_3*r_3*np.sin(theta_3 - theta_1)) + dtheta_2*mu_2 + dtheta_2*(dtheta_2*l_1*l_2*m_3*np.sin(theta_2 - theta_1) + dtheta_2*l_1*l_2*m_4*np.sin(theta_2 - theta_1) + dtheta_2*l_1*m_2*r_2*np.sin(theta_2 - theta_1)) - dtheta_1*(mu_1 + mu_2) - ddx_c*(-l_1*m_2 - l_1*m_3 - l_1*m_4 - m_1*r_1)*np.cos(theta_1) - g*(-l_1*m_2 - l_1*m_3 - l_1*m_4 - m_1*r_1)*np.sin(theta_1))*np.cos(theta_2 - theta_1)/(I_1 + l_1**2*m_2 + l_1**2*m_3 + l_1**2*m_4 + m_1*r_1**2))/(I_2 - l_1**2*(l_2*m_3 + l_2*m_4 + m_2*r_2)**2*np.cos(theta_2 - theta_1)**2/(I_1 + l_1**2*m_2 + l_1**2*m_3 + l_1**2*m_4 + m_1*r_1**2) + l_2**2*m_3 + l_2**2*m_4 + m_2*r_2**2) - (-l_1**2*m_4*r_4*(l_3*m_4 + m_3*r_3)*np.cos(theta_4 - theta_1)*np.cos(theta_3 - theta_1)/(I_1 + l_1**2*m_2 + l_1**2*m_3 + l_1**2*m_4 + m_1*r_1**2) + l_3*m_4*r_4*np.cos(theta_4 - theta_3) - (-l_1**2*(l_3*m_4 + m_3*r_3)*(l_2*m_3 + l_2*m_4 + m_2*r_2)*np.cos(theta_3 - theta_1)*np.cos(theta_2 - theta_1)/(I_1 + l_1**2*m_2 + l_1**2*m_3 + l_1**2*m_4 + m_1*r_1**2) + l_2*(l_3*m_4 + m_3*r_3)*np.cos(theta_3 - theta_2))*(-l_1**2*m_4*r_4*(l_2*m_3 + l_2*m_4 + m_2*r_2)*np.cos(theta_4 - theta_1)*np.cos(theta_2 - theta_1)/(I_1 + l_1**2*m_2 + l_1**2*m_3 + l_1**2*m_4 + m_1*r_1**2) + l_2*m_4*r_4*np.cos(theta_4 - theta_2))/(I_2 - l_1**2*(l_2*m_3 + l_2*m_4 + m_2*r_2)**2*np.cos(theta_2 - theta_1)**2/(I_1 + l_1**2*m_2 + l_1**2*m_3 + l_1**2*m_4 + m_1*r_1**2) + l_2**2*m_3 + l_2**2*m_4 + m_2*r_2**2))*(-dtheta_4*mu_4 - dtheta_3**2*l_3*m_4*r_4*np.sin(theta_4 - theta_3) + dtheta_3*mu_4 - dtheta_2**2*l_2*m_4*r_4*np.sin(theta_4 - theta_2) - dtheta_1**2*l_1*m_4*r_4*np.sin(theta_4 - theta_1) + ddx_c*m_4*r_4*np.cos(theta_4) + g*m_4*r_4*np.sin(theta_4) - l_1*m_4*r_4*(dtheta_4**2*l_1*m_4*r_4*np.sin(theta_4 - theta_1) + dtheta_3*(dtheta_3*l_1*l_3*m_4*np.sin(theta_3 - theta_1) + dtheta_3*l_1*m_3*r_3*np.sin(theta_3 - theta_1)) + dtheta_2*mu_2 + dtheta_2*(dtheta_2*l_1*l_2*m_3*np.sin(theta_2 - theta_1) + dtheta_2*l_1*l_2*m_4*np.sin(theta_2 - theta_1) + dtheta_2*l_1*m_2*r_2*np.sin(theta_2 - theta_1)) - dtheta_1*(mu_1 + mu_2) - ddx_c*(-l_1*m_2 - l_1*m_3 - l_1*m_4 - m_1*r_1)*np.cos(theta_1) - g*(-l_1*m_2 - l_1*m_3 - l_1*m_4 - m_1*r_1)*np.sin(theta_1))*np.cos(theta_4 - theta_1)/(I_1 + l_1**2*m_2 + l_1**2*m_3 + l_1**2*m_4 + m_1*r_1**2) - (-l_1**2*m_4*r_4*(l_2*m_3 + l_2*m_4 + m_2*r_2)*np.cos(theta_4 - theta_1)*np.cos(theta_2 - theta_1)/(I_1 + l_1**2*m_2 + l_1**2*m_3 + l_1**2*m_4 + m_1*r_1**2) + l_2*m_4*r_4*np.cos(theta_4 - theta_2))*(dtheta_4**2*l_2*m_4*r_4*np.sin(theta_4 - theta_2) + dtheta_3*mu_3 + dtheta_3*(dtheta_3*l_2*l_3*m_4*np.sin(theta_3 - theta_2) + dtheta_3*l_2*m_3*r_3*np.sin(theta_3 - theta_2)) - dtheta_2*(mu_2 + mu_3) + dtheta_1*mu_2 + dtheta_1*(-dtheta_1*l_1*l_2*m_3*np.sin(theta_2 - theta_1) - dtheta_1*l_1*l_2*m_4*np.sin(theta_2 - theta_1) - dtheta_1*l_1*m_2*r_2*np.sin(theta_2 - theta_1)) - ddx_c*(-l_2*m_3 - l_2*m_4 - m_2*r_2)*np.cos(theta_2) - g*(-l_2*m_3 - l_2*m_4 - m_2*r_2)*np.sin(theta_2) - l_1*(l_2*m_3 + l_2*m_4 + m_2*r_2)*(dtheta_4**2*l_1*m_4*r_4*np.sin(theta_4 - theta_1) + dtheta_3*(dtheta_3*l_1*l_3*m_4*np.sin(theta_3 - theta_1) + dtheta_3*l_1*m_3*r_3*np.sin(theta_3 - theta_1)) + dtheta_2*mu_2 + dtheta_2*(dtheta_2*l_1*l_2*m_3*np.sin(theta_2 - theta_1) + dtheta_2*l_1*l_2*m_4*np.sin(theta_2 - theta_1) + dtheta_2*l_1*m_2*r_2*np.sin(theta_2 - theta_1)) - dtheta_1*(mu_1 + mu_2) - ddx_c*(-l_1*m_2 - l_1*m_3 - l_1*m_4 - m_1*r_1)*np.cos(theta_1) - g*(-l_1*m_2 - l_1*m_3 - l_1*m_4 - m_1*r_1)*np.sin(theta_1))*np.cos(theta_2 - theta_1)/(I_1 + l_1**2*m_2 + l_1**2*m_3 + l_1**2*m_4 + m_1*r_1**2))/(I_2 - l_1**2*(l_2*m_3 + l_2*m_4 + m_2*r_2)**2*np.cos(theta_2 - theta_1)**2/(I_1 + l_1**2*m_2 + l_1**2*m_3 + l_1**2*m_4 + m_1*r_1**2) + l_2**2*m_3 + l_2**2*m_4 + m_2*r_2**2) - (-l_1**2*m_4*r_4*(l_3*m_4 + m_3*r_3)*np.cos(theta_4 - theta_1)*np.cos(theta_3 - theta_1)/(I_1 + l_1**2*m_2 + l_1**2*m_3 + l_1**2*m_4 + m_1*r_1**2) + l_3*m_4*r_4*np.cos(theta_4 - theta_3) - (-l_1**2*(l_3*m_4 + m_3*r_3)*(l_2*m_3 + l_2*m_4 + m_2*r_2)*np.cos(theta_3 - theta_1)*np.cos(theta_2 - theta_1)/(I_1 + l_1**2*m_2 + l_1**2*m_3 + l_1**2*m_4 + m_1*r_1**2) + l_2*(l_3*m_4 + m_3*r_3)*np.cos(theta_3 - theta_2))*(-l_1**2*m_4*r_4*(l_2*m_3 + l_2*m_4 + m_2*r_2)*np.cos(theta_4 - theta_1)*np.cos(theta_2 - theta_1)/(I_1 + l_1**2*m_2 + l_1**2*m_3 + l_1**2*m_4 + m_1*r_1**2) + l_2*m_4*r_4*np.cos(theta_4 - theta_2))/(I_2 - l_1**2*(l_2*m_3 + l_2*m_4 + m_2*r_2)**2*np.cos(theta_2 - theta_1)**2/(I_1 + l_1**2*m_2 + l_1**2*m_3 + l_1**2*m_4 + m_1*r_1**2) + l_2**2*m_3 + l_2**2*m_4 + m_2*r_2**2))*(dtheta_4**2*l_3*m_4*r_4*np.sin(theta_4 - theta_3) + dtheta_4*mu_4 - dtheta_3*(mu_3 + mu_4) + dtheta_2*mu_3 + dtheta_2*(-dtheta_2*l_2*l_3*m_4*np.sin(theta_3 - theta_2) - dtheta_2*l_2*m_3*r_3*np.sin(theta_3 - theta_2)) + dtheta_1*(-dtheta_1*l_1*l_3*m_4*np.sin(theta_3 - theta_1) - dtheta_1*l_1*m_3*r_3*np.sin(theta_3 - theta_1)) - ddx_c*(-l_3*m_4 - m_3*r_3)*np.cos(theta_3) - g*(-l_3*m_4 - m_3*r_3)*np.sin(theta_3) - l_1*(l_3*m_4 + m_3*r_3)*(dtheta_4**2*l_1*m_4*r_4*np.sin(theta_4 - theta_1) + dtheta_3*(dtheta_3*l_1*l_3*m_4*np.sin(theta_3 - theta_1) + dtheta_3*l_1*m_3*r_3*np.sin(theta_3 - theta_1)) + dtheta_2*mu_2 + dtheta_2*(dtheta_2*l_1*l_2*m_3*np.sin(theta_2 - theta_1) + dtheta_2*l_1*l_2*m_4*np.sin(theta_2 - theta_1) + dtheta_2*l_1*m_2*r_2*np.sin(theta_2 - theta_1)) - dtheta_1*(mu_1 + mu_2) - ddx_c*(-l_1*m_2 - l_1*m_3 - l_1*m_4 - m_1*r_1)*np.cos(theta_1) - g*(-l_1*m_2 - l_1*m_3 - l_1*m_4 - m_1*r_1)*np.sin(theta_1))*np.cos(theta_3 - theta_1)/(I_1 + l_1**2*m_2 + l_1**2*m_3 + l_1**2*m_4 + m_1*r_1**2) - (-l_1**2*(l_3*m_4 + m_3*r_3)*(l_2*m_3 + l_2*m_4 + m_2*r_2)*np.cos(theta_3 - theta_1)*np.cos(theta_2 - theta_1)/(I_1 + l_1**2*m_2 + l_1**2*m_3 + l_1**2*m_4 + m_1*r_1**2) + l_2*(l_3*m_4 + m_3*r_3)*np.cos(theta_3 - theta_2))*(dtheta_4**2*l_2*m_4*r_4*np.sin(theta_4 - theta_2) + dtheta_3*mu_3 + dtheta_3*(dtheta_3*l_2*l_3*m_4*np.sin(theta_3 - theta_2) + dtheta_3*l_2*m_3*r_3*np.sin(theta_3 - theta_2)) - dtheta_2*(mu_2 + mu_3) + dtheta_1*mu_2 + dtheta_1*(-dtheta_1*l_1*l_2*m_3*np.sin(theta_2 - theta_1) - dtheta_1*l_1*l_2*m_4*np.sin(theta_2 - theta_1) - dtheta_1*l_1*m_2*r_2*np.sin(theta_2 - theta_1)) - ddx_c*(-l_2*m_3 - l_2*m_4 - m_2*r_2)*np.cos(theta_2) - g*(-l_2*m_3 - l_2*m_4 - m_2*r_2)*np.sin(theta_2) - l_1*(l_2*m_3 + l_2*m_4 + m_2*r_2)*(dtheta_4**2*l_1*m_4*r_4*np.sin(theta_4 - theta_1) + dtheta_3*(dtheta_3*l_1*l_3*m_4*np.sin(theta_3 - theta_1) + dtheta_3*l_1*m_3*r_3*np.sin(theta_3 - theta_1)) + dtheta_2*mu_2 + dtheta_2*(dtheta_2*l_1*l_2*m_3*np.sin(theta_2 - theta_1) + dtheta_2*l_1*l_2*m_4*np.sin(theta_2 - theta_1) + dtheta_2*l_1*m_2*r_2*np.sin(theta_2 - theta_1)) - dtheta_1*(mu_1 + mu_2) - ddx_c*(-l_1*m_2 - l_1*m_3 - l_1*m_4 - m_1*r_1)*np.cos(theta_1) - g*(-l_1*m_2 - l_1*m_3 - l_1*m_4 - m_1*r_1)*np.sin(theta_1))*np.cos(theta_2 - theta_1)/(I_1 + l_1**2*m_2 + l_1**2*m_3 + l_1**2*m_4 + m_1*r_1**2))/(I_2 - l_1**2*(l_2*m_3 + l_2*m_4 + m_2*r_2)**2*np.cos(theta_2 - theta_1)**2/(I_1 + l_1**2*m_2 + l_1**2*m_3 + l_1**2*m_4 + m_1*r_1**2) + l_2**2*m_3 + l_2**2*m_4 + m_2*r_2**2))/(I_3 - l_1**2*(l_3*m_4 + m_3*r_3)**2*np.cos(theta_3 - theta_1)**2/(I_1 + l_1**2*m_2 + l_1**2*m_3 + l_1**2*m_4 + m_1*r_1**2) + l_3**2*m_4 + m_3*r_3**2 - (-l_1**2*(l_3*m_4 + m_3*r_3)*(l_2*m_3 + l_2*m_4 + m_2*r_2)*np.cos(theta_3 - theta_1)*np.cos(theta_2 - theta_1)/(I_1 + l_1**2*m_2 + l_1**2*m_3 + l_1**2*m_4 + m_1*r_1**2) + l_2*(l_3*m_4 + m_3*r_3)*np.cos(theta_3 - theta_2))**2/(I_2 - l_1**2*(l_2*m_3 + l_2*m_4 + m_2*r_2)**2*np.cos(theta_2 - theta_1)**2/(I_1 + l_1**2*m_2 + l_1**2*m_3 + l_1**2*m_4 + m_1*r_1**2) + l_2**2*m_3 + l_2**2*m_4 + m_2*r_2**2)))/(I_4 - l_1**2*m_4**2*r_4**2*np.cos(theta_4 - theta_1)**2/(I_1 + l_1**2*m_2 + l_1**2*m_3 + l_1**2*m_4 + m_1*r_1**2) + m_4*r_4**2 - (-l_1**2*m_4*r_4*(l_2*m_3 + l_2*m_4 + m_2*r_2)*np.cos(theta_4 - theta_1)*np.cos(theta_2 - theta_1)/(I_1 + l_1**2*m_2 + l_1**2*m_3 + l_1**2*m_4 + m_1*r_1**2) + l_2*m_4*r_4*np.cos(theta_4 - theta_2))**2/(I_2 - l_1**2*(l_2*m_3 + l_2*m_4 + m_2*r_2)**2*np.cos(theta_2 - theta_1)**2/(I_1 + l_1**2*m_2 + l_1**2*m_3 + l_1**2*m_4 + m_1*r_1**2) + l_2**2*m_3 + l_2**2*m_4 + m_2*r_2**2) - (-l_1**2*m_4*r_4*(l_3*m_4 + m_3*r_3)*np.cos(theta_4 - theta_1)*np.cos(theta_3 - theta_1)/(I_1 + l_1**2*m_2 + l_1**2*m_3 + l_1**2*m_4 + m_1*r_1**2) + l_3*m_4*r_4*np.cos(theta_4 - theta_3) - (-l_1**2*(l_3*m_4 + m_3*r_3)*(l_2*m_3 + l_2*m_4 + m_2*r_2)*np.cos(theta_3 - theta_1)*np.cos(theta_2 - theta_1)/(I_1 + l_1**2*m_2 + l_1**2*m_3 + l_1**2*m_4 + m_1*r_1**2) + l_2*(l_3*m_4 + m_3*r_3)*np.cos(theta_3 - theta_2))*(-l_1**2*m_4*r_4*(l_2*m_3 + l_2*m_4 + m_2*r_2)*np.cos(theta_4 - theta_1)*np.cos(theta_2 - theta_1)/(I_1 + l_1**2*m_2 + l_1**2*m_3 + l_1**2*m_4 + m_1*r_1**2) + l_2*m_4*r_4*np.cos(theta_4 - theta_2))/(I_2 - l_1**2*(l_2*m_3 + l_2*m_4 + m_2*r_2)**2*np.cos(theta_2 - theta_1)**2/(I_1 + l_1**2*m_2 + l_1**2*m_3 + l_1**2*m_4 + m_1*r_1**2) + l_2**2*m_3 + l_2**2*m_4 + m_2*r_2**2))**2/(I_3 - l_1**2*(l_3*m_4 + m_3*r_3)**2*np.cos(theta_3 - theta_1)**2/(I_1 + l_1**2*m_2 + l_1**2*m_3 + l_1**2*m_4 + m_1*r_1**2) + l_3**2*m_4 + m_3*r_3**2 - (-l_1**2*(l_3*m_4 + m_3*r_3)*(l_2*m_3 + l_2*m_4 + m_2*r_2)*np.cos(theta_3 - theta_1)*np.cos(theta_2 - theta_1)/(I_1 + l_1**2*m_2 + l_1**2*m_3 + l_1**2*m_4 + m_1*r_1**2) + l_2*(l_3*m_4 + m_3*r_3)*np.cos(theta_3 - theta_2))**2/(I_2 - l_1**2*(l_2*m_3 + l_2*m_4 + m_2*r_2)**2*np.cos(theta_2 - theta_1)**2/(I_1 + l_1**2*m_2 + l_1**2*m_3 + l_1**2*m_4 + m_1*r_1**2) + l_2**2*m_3 + l_2**2*m_4 + m_2*r_2**2))))/(I_3 - l_1**2*(l_3*m_4 + m_3*r_3)**2*np.cos(theta_3 - theta_1)**2/(I_1 + l_1**2*m_2 + l_1**2*m_3 + l_1**2*m_4 + m_1*r_1**2) + l_3**2*m_4 + m_3*r_3**2 - (-l_1**2*(l_3*m_4 + m_3*r_3)*(l_2*m_3 + l_2*m_4 + m_2*r_2)*np.cos(theta_3 - theta_1)*np.cos(theta_2 - theta_1)/(I_1 + l_1**2*m_2 + l_1**2*m_3 + l_1**2*m_4 + m_1*r_1**2) + l_2*(l_3*m_4 + m_3*r_3)*np.cos(theta_3 - theta_2))**2/(I_2 - l_1**2*(l_2*m_3 + l_2*m_4 + m_2*r_2)**2*np.cos(theta_2 - theta_1)**2/(I_1 + l_1**2*m_2 + l_1**2*m_3 + l_1**2*m_4 + m_1*r_1**2) + l_2**2*m_3 + l_2**2*m_4 + m_2*r_2**2)) - (-l_1**2*m_4*r_4*(l_2*m_3 + l_2*m_4 + m_2*r_2)*np.cos(theta_4 - theta_1)*np.cos(theta_2 - theta_1)/(I_1 + l_1**2*m_2 + l_1**2*m_3 + l_1**2*m_4 + m_1*r_1**2) + l_2*m_4*r_4*np.cos(theta_4 - theta_2))*(-dtheta_4*mu_4 - dtheta_3**2*l_3*m_4*r_4*np.sin(theta_4 - theta_3) + dtheta_3*mu_4 - dtheta_2**2*l_2*m_4*r_4*np.sin(theta_4 - theta_2) - dtheta_1**2*l_1*m_4*r_4*np.sin(theta_4 - theta_1) + ddx_c*m_4*r_4*np.cos(theta_4) + g*m_4*r_4*np.sin(theta_4) - l_1*m_4*r_4*(dtheta_4**2*l_1*m_4*r_4*np.sin(theta_4 - theta_1) + dtheta_3*(dtheta_3*l_1*l_3*m_4*np.sin(theta_3 - theta_1) + dtheta_3*l_1*m_3*r_3*np.sin(theta_3 - theta_1)) + dtheta_2*mu_2 + dtheta_2*(dtheta_2*l_1*l_2*m_3*np.sin(theta_2 - theta_1) + dtheta_2*l_1*l_2*m_4*np.sin(theta_2 - theta_1) + dtheta_2*l_1*m_2*r_2*np.sin(theta_2 - theta_1)) - dtheta_1*(mu_1 + mu_2) - ddx_c*(-l_1*m_2 - l_1*m_3 - l_1*m_4 - m_1*r_1)*np.cos(theta_1) - g*(-l_1*m_2 - l_1*m_3 - l_1*m_4 - m_1*r_1)*np.sin(theta_1))*np.cos(theta_4 - theta_1)/(I_1 + l_1**2*m_2 + l_1**2*m_3 + l_1**2*m_4 + m_1*r_1**2) - (-l_1**2*m_4*r_4*(l_2*m_3 + l_2*m_4 + m_2*r_2)*np.cos(theta_4 - theta_1)*np.cos(theta_2 - theta_1)/(I_1 + l_1**2*m_2 + l_1**2*m_3 + l_1**2*m_4 + m_1*r_1**2) + l_2*m_4*r_4*np.cos(theta_4 - theta_2))*(dtheta_4**2*l_2*m_4*r_4*np.sin(theta_4 - theta_2) + dtheta_3*mu_3 + dtheta_3*(dtheta_3*l_2*l_3*m_4*np.sin(theta_3 - theta_2) + dtheta_3*l_2*m_3*r_3*np.sin(theta_3 - theta_2)) - dtheta_2*(mu_2 + mu_3) + dtheta_1*mu_2 + dtheta_1*(-dtheta_1*l_1*l_2*m_3*np.sin(theta_2 - theta_1) - dtheta_1*l_1*l_2*m_4*np.sin(theta_2 - theta_1) - dtheta_1*l_1*m_2*r_2*np.sin(theta_2 - theta_1)) - ddx_c*(-l_2*m_3 - l_2*m_4 - m_2*r_2)*np.cos(theta_2) - g*(-l_2*m_3 - l_2*m_4 - m_2*r_2)*np.sin(theta_2) - l_1*(l_2*m_3 + l_2*m_4 + m_2*r_2)*(dtheta_4**2*l_1*m_4*r_4*np.sin(theta_4 - theta_1) + dtheta_3*(dtheta_3*l_1*l_3*m_4*np.sin(theta_3 - theta_1) + dtheta_3*l_1*m_3*r_3*np.sin(theta_3 - theta_1)) + dtheta_2*mu_2 + dtheta_2*(dtheta_2*l_1*l_2*m_3*np.sin(theta_2 - theta_1) + dtheta_2*l_1*l_2*m_4*np.sin(theta_2 - theta_1) + dtheta_2*l_1*m_2*r_2*np.sin(theta_2 - theta_1)) - dtheta_1*(mu_1 + mu_2) - ddx_c*(-l_1*m_2 - l_1*m_3 - l_1*m_4 - m_1*r_1)*np.cos(theta_1) - g*(-l_1*m_2 - l_1*m_3 - l_1*m_4 - m_1*r_1)*np.sin(theta_1))*np.cos(theta_2 - theta_1)/(I_1 + l_1**2*m_2 + l_1**2*m_3 + l_1**2*m_4 + m_1*r_1**2))/(I_2 - l_1**2*(l_2*m_3 + l_2*m_4 + m_2*r_2)**2*np.cos(theta_2 - theta_1)**2/(I_1 + l_1**2*m_2 + l_1**2*m_3 + l_1**2*m_4 + m_1*r_1**2) + l_2**2*m_3 + l_2**2*m_4 + m_2*r_2**2) - (-l_1**2*m_4*r_4*(l_3*m_4 + m_3*r_3)*np.cos(theta_4 - theta_1)*np.cos(theta_3 - theta_1)/(I_1 + l_1**2*m_2 + l_1**2*m_3 + l_1**2*m_4 + m_1*r_1**2) + l_3*m_4*r_4*np.cos(theta_4 - theta_3) - (-l_1**2*(l_3*m_4 + m_3*r_3)*(l_2*m_3 + l_2*m_4 + m_2*r_2)*np.cos(theta_3 - theta_1)*np.cos(theta_2 - theta_1)/(I_1 + l_1**2*m_2 + l_1**2*m_3 + l_1**2*m_4 + m_1*r_1**2) + l_2*(l_3*m_4 + m_3*r_3)*np.cos(theta_3 - theta_2))*(-l_1**2*m_4*r_4*(l_2*m_3 + l_2*m_4 + m_2*r_2)*np.cos(theta_4 - theta_1)*np.cos(theta_2 - theta_1)/(I_1 + l_1**2*m_2 + l_1**2*m_3 + l_1**2*m_4 + m_1*r_1**2) + l_2*m_4*r_4*np.cos(theta_4 - theta_2))/(I_2 - l_1**2*(l_2*m_3 + l_2*m_4 + m_2*r_2)**2*np.cos(theta_2 - theta_1)**2/(I_1 + l_1**2*m_2 + l_1**2*m_3 + l_1**2*m_4 + m_1*r_1**2) + l_2**2*m_3 + l_2**2*m_4 + m_2*r_2**2))*(dtheta_4**2*l_3*m_4*r_4*np.sin(theta_4 - theta_3) + dtheta_4*mu_4 - dtheta_3*(mu_3 + mu_4) + dtheta_2*mu_3 + dtheta_2*(-dtheta_2*l_2*l_3*m_4*np.sin(theta_3 - theta_2) - dtheta_2*l_2*m_3*r_3*np.sin(theta_3 - theta_2)) + dtheta_1*(-dtheta_1*l_1*l_3*m_4*np.sin(theta_3 - theta_1) - dtheta_1*l_1*m_3*r_3*np.sin(theta_3 - theta_1)) - ddx_c*(-l_3*m_4 - m_3*r_3)*np.cos(theta_3) - g*(-l_3*m_4 - m_3*r_3)*np.sin(theta_3) - l_1*(l_3*m_4 + m_3*r_3)*(dtheta_4**2*l_1*m_4*r_4*np.sin(theta_4 - theta_1) + dtheta_3*(dtheta_3*l_1*l_3*m_4*np.sin(theta_3 - theta_1) + dtheta_3*l_1*m_3*r_3*np.sin(theta_3 - theta_1)) + dtheta_2*mu_2 + dtheta_2*(dtheta_2*l_1*l_2*m_3*np.sin(theta_2 - theta_1) + dtheta_2*l_1*l_2*m_4*np.sin(theta_2 - theta_1) + dtheta_2*l_1*m_2*r_2*np.sin(theta_2 - theta_1)) - dtheta_1*(mu_1 + mu_2) - ddx_c*(-l_1*m_2 - l_1*m_3 - l_1*m_4 - m_1*r_1)*np.cos(theta_1) - g*(-l_1*m_2 - l_1*m_3 - l_1*m_4 - m_1*r_1)*np.sin(theta_1))*np.cos(theta_3 - theta_1)/(I_1 + l_1**2*m_2 + l_1**2*m_3 + l_1**2*m_4 + m_1*r_1**2) - (-l_1**2*(l_3*m_4 + m_3*r_3)*(l_2*m_3 + l_2*m_4 + m_2*r_2)*np.cos(theta_3 - theta_1)*np.cos(theta_2 - theta_1)/(I_1 + l_1**2*m_2 + l_1**2*m_3 + l_1**2*m_4 + m_1*r_1**2) + l_2*(l_3*m_4 + m_3*r_3)*np.cos(theta_3 - theta_2))*(dtheta_4**2*l_2*m_4*r_4*np.sin(theta_4 - theta_2) + dtheta_3*mu_3 + dtheta_3*(dtheta_3*l_2*l_3*m_4*np.sin(theta_3 - theta_2) + dtheta_3*l_2*m_3*r_3*np.sin(theta_3 - theta_2)) - dtheta_2*(mu_2 + mu_3) + dtheta_1*mu_2 + dtheta_1*(-dtheta_1*l_1*l_2*m_3*np.sin(theta_2 - theta_1) - dtheta_1*l_1*l_2*m_4*np.sin(theta_2 - theta_1) - dtheta_1*l_1*m_2*r_2*np.sin(theta_2 - theta_1)) - ddx_c*(-l_2*m_3 - l_2*m_4 - m_2*r_2)*np.cos(theta_2) - g*(-l_2*m_3 - l_2*m_4 - m_2*r_2)*np.sin(theta_2) - l_1*(l_2*m_3 + l_2*m_4 + m_2*r_2)*(dtheta_4**2*l_1*m_4*r_4*np.sin(theta_4 - theta_1) + dtheta_3*(dtheta_3*l_1*l_3*m_4*np.sin(theta_3 - theta_1) + dtheta_3*l_1*m_3*r_3*np.sin(theta_3 - theta_1)) + dtheta_2*mu_2 + dtheta_2*(dtheta_2*l_1*l_2*m_3*np.sin(theta_2 - theta_1) + dtheta_2*l_1*l_2*m_4*np.sin(theta_2 - theta_1) + dtheta_2*l_1*m_2*r_2*np.sin(theta_2 - theta_1)) - dtheta_1*(mu_1 + mu_2) - ddx_c*(-l_1*m_2 - l_1*m_3 - l_1*m_4 - m_1*r_1)*np.cos(theta_1) - g*(-l_1*m_2 - l_1*m_3 - l_1*m_4 - m_1*r_1)*np.sin(theta_1))*np.cos(theta_2 - theta_1)/(I_1 + l_1**2*m_2 + l_1**2*m_3 + l_1**2*m_4 + m_1*r_1**2))/(I_2 - l_1**2*(l_2*m_3 + l_2*m_4 + m_2*r_2)**2*np.cos(theta_2 - theta_1)**2/(I_1 + l_1**2*m_2 + l_1**2*m_3 + l_1**2*m_4 + m_1*r_1**2) + l_2**2*m_3 + l_2**2*m_4 + m_2*r_2**2))/(I_3 - l_1**2*(l_3*m_4 + m_3*r_3)**2*np.cos(theta_3 - theta_1)**2/(I_1 + l_1**2*m_2 + l_1**2*m_3 + l_1**2*m_4 + m_1*r_1**2) + l_3**2*m_4 + m_3*r_3**2 - (-l_1**2*(l_3*m_4 + m_3*r_3)*(l_2*m_3 + l_2*m_4 + m_2*r_2)*np.cos(theta_3 - theta_1)*np.cos(theta_2 - theta_1)/(I_1 + l_1**2*m_2 + l_1**2*m_3 + l_1**2*m_4 + m_1*r_1**2) + l_2*(l_3*m_4 + m_3*r_3)*np.cos(theta_3 - theta_2))**2/(I_2 - l_1**2*(l_2*m_3 + l_2*m_4 + m_2*r_2)**2*np.cos(theta_2 - theta_1)**2/(I_1 + l_1**2*m_2 + l_1**2*m_3 + l_1**2*m_4 + m_1*r_1**2) + l_2**2*m_3 + l_2**2*m_4 + m_2*r_2**2)))/(I_4 - l_1**2*m_4**2*r_4**2*np.cos(theta_4 - theta_1)**2/(I_1 + l_1**2*m_2 + l_1**2*m_3 + l_1**2*m_4 + m_1*r_1**2) + m_4*r_4**2 - (-l_1**2*m_4*r_4*(l_2*m_3 + l_2*m_4 + m_2*r_2)*np.cos(theta_4 - theta_1)*np.cos(theta_2 - theta_1)/(I_1 + l_1**2*m_2 + l_1**2*m_3 + l_1**2*m_4 + m_1*r_1**2) + l_2*m_4*r_4*np.cos(theta_4 - theta_2))**2/(I_2 - l_1**2*(l_2*m_3 + l_2*m_4 + m_2*r_2)**2*np.cos(theta_2 - theta_1)**2/(I_1 + l_1**2*m_2 + l_1**2*m_3 + l_1**2*m_4 + m_1*r_1**2) + l_2**2*m_3 + l_2**2*m_4 + m_2*r_2**2) - (-l_1**2*m_4*r_4*(l_3*m_4 + m_3*r_3)*np.cos(theta_4 - theta_1)*np.cos(theta_3 - theta_1)/(I_1 + l_1**2*m_2 + l_1**2*m_3 + l_1**2*m_4 + m_1*r_1**2) + l_3*m_4*r_4*np.cos(theta_4 - theta_3) - (-l_1**2*(l_3*m_4 + m_3*r_3)*(l_2*m_3 + l_2*m_4 + m_2*r_2)*np.cos(theta_3 - theta_1)*np.cos(theta_2 - theta_1)/(I_1 + l_1**2*m_2 + l_1**2*m_3 + l_1**2*m_4 + m_1*r_1**2) + l_2*(l_3*m_4 + m_3*r_3)*np.cos(theta_3 - theta_2))*(-l_1**2*m_4*r_4*(l_2*m_3 + l_2*m_4 + m_2*r_2)*np.cos(theta_4 - theta_1)*np.cos(theta_2 - theta_1)/(I_1 + l_1**2*m_2 + l_1**2*m_3 + l_1**2*m_4 + m_1*r_1**2) + l_2*m_4*r_4*np.cos(theta_4 - theta_2))/(I_2 - l_1**2*(l_2*m_3 + l_2*m_4 + m_2*r_2)**2*np.cos(theta_2 - theta_1)**2/(I_1 + l_1**2*m_2 + l_1**2*m_3 + l_1**2*m_4 + m_1*r_1**2) + l_2**2*m_3 + l_2**2*m_4 + m_2*r_2**2))**2/(I_3 - l_1**2*(l_3*m_4 + m_3*r_3)**2*np.cos(theta_3 - theta_1)**2/(I_1 + l_1**2*m_2 + l_1**2*m_3 + l_1**2*m_4 + m_1*r_1**2) + l_3**2*m_4 + m_3*r_3**2 - (-l_1**2*(l_3*m_4 + m_3*r_3)*(l_2*m_3 + l_2*m_4 + m_2*r_2)*np.cos(theta_3 - theta_1)*np.cos(theta_2 - theta_1)/(I_1 + l_1**2*m_2 + l_1**2*m_3 + l_1**2*m_4 + m_1*r_1**2) + l_2*(l_3*m_4 + m_3*r_3)*np.cos(theta_3 - theta_2))**2/(I_2 - l_1**2*(l_2*m_3 + l_2*m_4 + m_2*r_2)**2*np.cos(theta_2 - theta_1)**2/(I_1 + l_1**2*m_2 + l_1**2*m_3 + l_1**2*m_4 + m_1*r_1**2) + l_2**2*m_3 + l_2**2*m_4 + m_2*r_2**2))))*np.cos(theta_2 - theta_1)/(I_2 - l_1**2*(l_2*m_3 + l_2*m_4 + m_2*r_2)**2*np.cos(theta_2 - theta_1)**2/(I_1 + l_1**2*m_2 + l_1**2*m_3 + l_1**2*m_4 + m_1*r_1**2) + l_2**2*m_3 + l_2**2*m_4 + m_2*r_2**2))/(I_1 + l_1**2*m_2 + l_1**2*m_3 + l_1**2*m_4 + m_1*r_1**2),\n",
    "\n",
    "                      (dtheta_4**2*l_2*m_4*r_4*np.sin(theta_4 - theta_2) + dtheta_3*mu_3 + dtheta_3*(dtheta_3*l_2*l_3*m_4*np.sin(theta_3 - theta_2) + dtheta_3*l_2*m_3*r_3*np.sin(theta_3 - theta_2)) - dtheta_2*(mu_2 + mu_3) + dtheta_1*mu_2 + dtheta_1*(-dtheta_1*l_1*l_2*m_3*np.sin(theta_2 - theta_1) - dtheta_1*l_1*l_2*m_4*np.sin(theta_2 - theta_1) - dtheta_1*l_1*m_2*r_2*np.sin(theta_2 - theta_1)) - ddx_c*(-l_2*m_3 - l_2*m_4 - m_2*r_2)*np.cos(theta_2) - g*(-l_2*m_3 - l_2*m_4 - m_2*r_2)*np.sin(theta_2) - l_1*(l_2*m_3 + l_2*m_4 + m_2*r_2)*(dtheta_4**2*l_1*m_4*r_4*np.sin(theta_4 - theta_1) + dtheta_3*(dtheta_3*l_1*l_3*m_4*np.sin(theta_3 - theta_1) + dtheta_3*l_1*m_3*r_3*np.sin(theta_3 - theta_1)) + dtheta_2*mu_2 + dtheta_2*(dtheta_2*l_1*l_2*m_3*np.sin(theta_2 - theta_1) + dtheta_2*l_1*l_2*m_4*np.sin(theta_2 - theta_1) + dtheta_2*l_1*m_2*r_2*np.sin(theta_2 - theta_1)) - dtheta_1*(mu_1 + mu_2) - ddx_c*(-l_1*m_2 - l_1*m_3 - l_1*m_4 - m_1*r_1)*np.cos(theta_1) - g*(-l_1*m_2 - l_1*m_3 - l_1*m_4 - m_1*r_1)*np.sin(theta_1))*np.cos(theta_2 - theta_1)/(I_1 + l_1**2*m_2 + l_1**2*m_3 + l_1**2*m_4 + m_1*r_1**2) - (-l_1**2*(l_3*m_4 + m_3*r_3)*(l_2*m_3 + l_2*m_4 + m_2*r_2)*np.cos(theta_3 - theta_1)*np.cos(theta_2 - theta_1)/(I_1 + l_1**2*m_2 + l_1**2*m_3 + l_1**2*m_4 + m_1*r_1**2) + l_2*(l_3*m_4 + m_3*r_3)*np.cos(theta_3 - theta_2))*(dtheta_4**2*l_3*m_4*r_4*np.sin(theta_4 - theta_3) + dtheta_4*mu_4 - dtheta_3*(mu_3 + mu_4) + dtheta_2*mu_3 + dtheta_2*(-dtheta_2*l_2*l_3*m_4*np.sin(theta_3 - theta_2) - dtheta_2*l_2*m_3*r_3*np.sin(theta_3 - theta_2)) + dtheta_1*(-dtheta_1*l_1*l_3*m_4*np.sin(theta_3 - theta_1) - dtheta_1*l_1*m_3*r_3*np.sin(theta_3 - theta_1)) - ddx_c*(-l_3*m_4 - m_3*r_3)*np.cos(theta_3) - g*(-l_3*m_4 - m_3*r_3)*np.sin(theta_3) - l_1*(l_3*m_4 + m_3*r_3)*(dtheta_4**2*l_1*m_4*r_4*np.sin(theta_4 - theta_1) + dtheta_3*(dtheta_3*l_1*l_3*m_4*np.sin(theta_3 - theta_1) + dtheta_3*l_1*m_3*r_3*np.sin(theta_3 - theta_1)) + dtheta_2*mu_2 + dtheta_2*(dtheta_2*l_1*l_2*m_3*np.sin(theta_2 - theta_1) + dtheta_2*l_1*l_2*m_4*np.sin(theta_2 - theta_1) + dtheta_2*l_1*m_2*r_2*np.sin(theta_2 - theta_1)) - dtheta_1*(mu_1 + mu_2) - ddx_c*(-l_1*m_2 - l_1*m_3 - l_1*m_4 - m_1*r_1)*np.cos(theta_1) - g*(-l_1*m_2 - l_1*m_3 - l_1*m_4 - m_1*r_1)*np.sin(theta_1))*np.cos(theta_3 - theta_1)/(I_1 + l_1**2*m_2 + l_1**2*m_3 + l_1**2*m_4 + m_1*r_1**2) - (-l_1**2*(l_3*m_4 + m_3*r_3)*(l_2*m_3 + l_2*m_4 + m_2*r_2)*np.cos(theta_3 - theta_1)*np.cos(theta_2 - theta_1)/(I_1 + l_1**2*m_2 + l_1**2*m_3 + l_1**2*m_4 + m_1*r_1**2) + l_2*(l_3*m_4 + m_3*r_3)*np.cos(theta_3 - theta_2))*(dtheta_4**2*l_2*m_4*r_4*np.sin(theta_4 - theta_2) + dtheta_3*mu_3 + dtheta_3*(dtheta_3*l_2*l_3*m_4*np.sin(theta_3 - theta_2) + dtheta_3*l_2*m_3*r_3*np.sin(theta_3 - theta_2)) - dtheta_2*(mu_2 + mu_3) + dtheta_1*mu_2 + dtheta_1*(-dtheta_1*l_1*l_2*m_3*np.sin(theta_2 - theta_1) - dtheta_1*l_1*l_2*m_4*np.sin(theta_2 - theta_1) - dtheta_1*l_1*m_2*r_2*np.sin(theta_2 - theta_1)) - ddx_c*(-l_2*m_3 - l_2*m_4 - m_2*r_2)*np.cos(theta_2) - g*(-l_2*m_3 - l_2*m_4 - m_2*r_2)*np.sin(theta_2) - l_1*(l_2*m_3 + l_2*m_4 + m_2*r_2)*(dtheta_4**2*l_1*m_4*r_4*np.sin(theta_4 - theta_1) + dtheta_3*(dtheta_3*l_1*l_3*m_4*np.sin(theta_3 - theta_1) + dtheta_3*l_1*m_3*r_3*np.sin(theta_3 - theta_1)) + dtheta_2*mu_2 + dtheta_2*(dtheta_2*l_1*l_2*m_3*np.sin(theta_2 - theta_1) + dtheta_2*l_1*l_2*m_4*np.sin(theta_2 - theta_1) + dtheta_2*l_1*m_2*r_2*np.sin(theta_2 - theta_1)) - dtheta_1*(mu_1 + mu_2) - ddx_c*(-l_1*m_2 - l_1*m_3 - l_1*m_4 - m_1*r_1)*np.cos(theta_1) - g*(-l_1*m_2 - l_1*m_3 - l_1*m_4 - m_1*r_1)*np.sin(theta_1))*np.cos(theta_2 - theta_1)/(I_1 + l_1**2*m_2 + l_1**2*m_3 + l_1**2*m_4 + m_1*r_1**2))/(I_2 - l_1**2*(l_2*m_3 + l_2*m_4 + m_2*r_2)**2*np.cos(theta_2 - theta_1)**2/(I_1 + l_1**2*m_2 + l_1**2*m_3 + l_1**2*m_4 + m_1*r_1**2) + l_2**2*m_3 + l_2**2*m_4 + m_2*r_2**2) - (-l_1**2*m_4*r_4*(l_3*m_4 + m_3*r_3)*np.cos(theta_4 - theta_1)*np.cos(theta_3 - theta_1)/(I_1 + l_1**2*m_2 + l_1**2*m_3 + l_1**2*m_4 + m_1*r_1**2) + l_3*m_4*r_4*np.cos(theta_4 - theta_3) - (-l_1**2*(l_3*m_4 + m_3*r_3)*(l_2*m_3 + l_2*m_4 + m_2*r_2)*np.cos(theta_3 - theta_1)*np.cos(theta_2 - theta_1)/(I_1 + l_1**2*m_2 + l_1**2*m_3 + l_1**2*m_4 + m_1*r_1**2) + l_2*(l_3*m_4 + m_3*r_3)*np.cos(theta_3 - theta_2))*(-l_1**2*m_4*r_4*(l_2*m_3 + l_2*m_4 + m_2*r_2)*np.cos(theta_4 - theta_1)*np.cos(theta_2 - theta_1)/(I_1 + l_1**2*m_2 + l_1**2*m_3 + l_1**2*m_4 + m_1*r_1**2) + l_2*m_4*r_4*np.cos(theta_4 - theta_2))/(I_2 - l_1**2*(l_2*m_3 + l_2*m_4 + m_2*r_2)**2*np.cos(theta_2 - theta_1)**2/(I_1 + l_1**2*m_2 + l_1**2*m_3 + l_1**2*m_4 + m_1*r_1**2) + l_2**2*m_3 + l_2**2*m_4 + m_2*r_2**2))*(-dtheta_4*mu_4 - dtheta_3**2*l_3*m_4*r_4*np.sin(theta_4 - theta_3) + dtheta_3*mu_4 - dtheta_2**2*l_2*m_4*r_4*np.sin(theta_4 - theta_2) - dtheta_1**2*l_1*m_4*r_4*np.sin(theta_4 - theta_1) + ddx_c*m_4*r_4*np.cos(theta_4) + g*m_4*r_4*np.sin(theta_4) - l_1*m_4*r_4*(dtheta_4**2*l_1*m_4*r_4*np.sin(theta_4 - theta_1) + dtheta_3*(dtheta_3*l_1*l_3*m_4*np.sin(theta_3 - theta_1) + dtheta_3*l_1*m_3*r_3*np.sin(theta_3 - theta_1)) + dtheta_2*mu_2 + dtheta_2*(dtheta_2*l_1*l_2*m_3*np.sin(theta_2 - theta_1) + dtheta_2*l_1*l_2*m_4*np.sin(theta_2 - theta_1) + dtheta_2*l_1*m_2*r_2*np.sin(theta_2 - theta_1)) - dtheta_1*(mu_1 + mu_2) - ddx_c*(-l_1*m_2 - l_1*m_3 - l_1*m_4 - m_1*r_1)*np.cos(theta_1) - g*(-l_1*m_2 - l_1*m_3 - l_1*m_4 - m_1*r_1)*np.sin(theta_1))*np.cos(theta_4 - theta_1)/(I_1 + l_1**2*m_2 + l_1**2*m_3 + l_1**2*m_4 + m_1*r_1**2) - (-l_1**2*m_4*r_4*(l_2*m_3 + l_2*m_4 + m_2*r_2)*np.cos(theta_4 - theta_1)*np.cos(theta_2 - theta_1)/(I_1 + l_1**2*m_2 + l_1**2*m_3 + l_1**2*m_4 + m_1*r_1**2) + l_2*m_4*r_4*np.cos(theta_4 - theta_2))*(dtheta_4**2*l_2*m_4*r_4*np.sin(theta_4 - theta_2) + dtheta_3*mu_3 + dtheta_3*(dtheta_3*l_2*l_3*m_4*np.sin(theta_3 - theta_2) + dtheta_3*l_2*m_3*r_3*np.sin(theta_3 - theta_2)) - dtheta_2*(mu_2 + mu_3) + dtheta_1*mu_2 + dtheta_1*(-dtheta_1*l_1*l_2*m_3*np.sin(theta_2 - theta_1) - dtheta_1*l_1*l_2*m_4*np.sin(theta_2 - theta_1) - dtheta_1*l_1*m_2*r_2*np.sin(theta_2 - theta_1)) - ddx_c*(-l_2*m_3 - l_2*m_4 - m_2*r_2)*np.cos(theta_2) - g*(-l_2*m_3 - l_2*m_4 - m_2*r_2)*np.sin(theta_2) - l_1*(l_2*m_3 + l_2*m_4 + m_2*r_2)*(dtheta_4**2*l_1*m_4*r_4*np.sin(theta_4 - theta_1) + dtheta_3*(dtheta_3*l_1*l_3*m_4*np.sin(theta_3 - theta_1) + dtheta_3*l_1*m_3*r_3*np.sin(theta_3 - theta_1)) + dtheta_2*mu_2 + dtheta_2*(dtheta_2*l_1*l_2*m_3*np.sin(theta_2 - theta_1) + dtheta_2*l_1*l_2*m_4*np.sin(theta_2 - theta_1) + dtheta_2*l_1*m_2*r_2*np.sin(theta_2 - theta_1)) - dtheta_1*(mu_1 + mu_2) - ddx_c*(-l_1*m_2 - l_1*m_3 - l_1*m_4 - m_1*r_1)*np.cos(theta_1) - g*(-l_1*m_2 - l_1*m_3 - l_1*m_4 - m_1*r_1)*np.sin(theta_1))*np.cos(theta_2 - theta_1)/(I_1 + l_1**2*m_2 + l_1**2*m_3 + l_1**2*m_4 + m_1*r_1**2))/(I_2 - l_1**2*(l_2*m_3 + l_2*m_4 + m_2*r_2)**2*np.cos(theta_2 - theta_1)**2/(I_1 + l_1**2*m_2 + l_1**2*m_3 + l_1**2*m_4 + m_1*r_1**2) + l_2**2*m_3 + l_2**2*m_4 + m_2*r_2**2) - (-l_1**2*m_4*r_4*(l_3*m_4 + m_3*r_3)*np.cos(theta_4 - theta_1)*np.cos(theta_3 - theta_1)/(I_1 + l_1**2*m_2 + l_1**2*m_3 + l_1**2*m_4 + m_1*r_1**2) + l_3*m_4*r_4*np.cos(theta_4 - theta_3) - (-l_1**2*(l_3*m_4 + m_3*r_3)*(l_2*m_3 + l_2*m_4 + m_2*r_2)*np.cos(theta_3 - theta_1)*np.cos(theta_2 - theta_1)/(I_1 + l_1**2*m_2 + l_1**2*m_3 + l_1**2*m_4 + m_1*r_1**2) + l_2*(l_3*m_4 + m_3*r_3)*np.cos(theta_3 - theta_2))*(-l_1**2*m_4*r_4*(l_2*m_3 + l_2*m_4 + m_2*r_2)*np.cos(theta_4 - theta_1)*np.cos(theta_2 - theta_1)/(I_1 + l_1**2*m_2 + l_1**2*m_3 + l_1**2*m_4 + m_1*r_1**2) + l_2*m_4*r_4*np.cos(theta_4 - theta_2))/(I_2 - l_1**2*(l_2*m_3 + l_2*m_4 + m_2*r_2)**2*np.cos(theta_2 - theta_1)**2/(I_1 + l_1**2*m_2 + l_1**2*m_3 + l_1**2*m_4 + m_1*r_1**2) + l_2**2*m_3 + l_2**2*m_4 + m_2*r_2**2))*(dtheta_4**2*l_3*m_4*r_4*np.sin(theta_4 - theta_3) + dtheta_4*mu_4 - dtheta_3*(mu_3 + mu_4) + dtheta_2*mu_3 + dtheta_2*(-dtheta_2*l_2*l_3*m_4*np.sin(theta_3 - theta_2) - dtheta_2*l_2*m_3*r_3*np.sin(theta_3 - theta_2)) + dtheta_1*(-dtheta_1*l_1*l_3*m_4*np.sin(theta_3 - theta_1) - dtheta_1*l_1*m_3*r_3*np.sin(theta_3 - theta_1)) - ddx_c*(-l_3*m_4 - m_3*r_3)*np.cos(theta_3) - g*(-l_3*m_4 - m_3*r_3)*np.sin(theta_3) - l_1*(l_3*m_4 + m_3*r_3)*(dtheta_4**2*l_1*m_4*r_4*np.sin(theta_4 - theta_1) + dtheta_3*(dtheta_3*l_1*l_3*m_4*np.sin(theta_3 - theta_1) + dtheta_3*l_1*m_3*r_3*np.sin(theta_3 - theta_1)) + dtheta_2*mu_2 + dtheta_2*(dtheta_2*l_1*l_2*m_3*np.sin(theta_2 - theta_1) + dtheta_2*l_1*l_2*m_4*np.sin(theta_2 - theta_1) + dtheta_2*l_1*m_2*r_2*np.sin(theta_2 - theta_1)) - dtheta_1*(mu_1 + mu_2) - ddx_c*(-l_1*m_2 - l_1*m_3 - l_1*m_4 - m_1*r_1)*np.cos(theta_1) - g*(-l_1*m_2 - l_1*m_3 - l_1*m_4 - m_1*r_1)*np.sin(theta_1))*np.cos(theta_3 - theta_1)/(I_1 + l_1**2*m_2 + l_1**2*m_3 + l_1**2*m_4 + m_1*r_1**2) - (-l_1**2*(l_3*m_4 + m_3*r_3)*(l_2*m_3 + l_2*m_4 + m_2*r_2)*np.cos(theta_3 - theta_1)*np.cos(theta_2 - theta_1)/(I_1 + l_1**2*m_2 + l_1**2*m_3 + l_1**2*m_4 + m_1*r_1**2) + l_2*(l_3*m_4 + m_3*r_3)*np.cos(theta_3 - theta_2))*(dtheta_4**2*l_2*m_4*r_4*np.sin(theta_4 - theta_2) + dtheta_3*mu_3 + dtheta_3*(dtheta_3*l_2*l_3*m_4*np.sin(theta_3 - theta_2) + dtheta_3*l_2*m_3*r_3*np.sin(theta_3 - theta_2)) - dtheta_2*(mu_2 + mu_3) + dtheta_1*mu_2 + dtheta_1*(-dtheta_1*l_1*l_2*m_3*np.sin(theta_2 - theta_1) - dtheta_1*l_1*l_2*m_4*np.sin(theta_2 - theta_1) - dtheta_1*l_1*m_2*r_2*np.sin(theta_2 - theta_1)) - ddx_c*(-l_2*m_3 - l_2*m_4 - m_2*r_2)*np.cos(theta_2) - g*(-l_2*m_3 - l_2*m_4 - m_2*r_2)*np.sin(theta_2) - l_1*(l_2*m_3 + l_2*m_4 + m_2*r_2)*(dtheta_4**2*l_1*m_4*r_4*np.sin(theta_4 - theta_1) + dtheta_3*(dtheta_3*l_1*l_3*m_4*np.sin(theta_3 - theta_1) + dtheta_3*l_1*m_3*r_3*np.sin(theta_3 - theta_1)) + dtheta_2*mu_2 + dtheta_2*(dtheta_2*l_1*l_2*m_3*np.sin(theta_2 - theta_1) + dtheta_2*l_1*l_2*m_4*np.sin(theta_2 - theta_1) + dtheta_2*l_1*m_2*r_2*np.sin(theta_2 - theta_1)) - dtheta_1*(mu_1 + mu_2) - ddx_c*(-l_1*m_2 - l_1*m_3 - l_1*m_4 - m_1*r_1)*np.cos(theta_1) - g*(-l_1*m_2 - l_1*m_3 - l_1*m_4 - m_1*r_1)*np.sin(theta_1))*np.cos(theta_2 - theta_1)/(I_1 + l_1**2*m_2 + l_1**2*m_3 + l_1**2*m_4 + m_1*r_1**2))/(I_2 - l_1**2*(l_2*m_3 + l_2*m_4 + m_2*r_2)**2*np.cos(theta_2 - theta_1)**2/(I_1 + l_1**2*m_2 + l_1**2*m_3 + l_1**2*m_4 + m_1*r_1**2) + l_2**2*m_3 + l_2**2*m_4 + m_2*r_2**2))/(I_3 - l_1**2*(l_3*m_4 + m_3*r_3)**2*np.cos(theta_3 - theta_1)**2/(I_1 + l_1**2*m_2 + l_1**2*m_3 + l_1**2*m_4 + m_1*r_1**2) + l_3**2*m_4 + m_3*r_3**2 - (-l_1**2*(l_3*m_4 + m_3*r_3)*(l_2*m_3 + l_2*m_4 + m_2*r_2)*np.cos(theta_3 - theta_1)*np.cos(theta_2 - theta_1)/(I_1 + l_1**2*m_2 + l_1**2*m_3 + l_1**2*m_4 + m_1*r_1**2) + l_2*(l_3*m_4 + m_3*r_3)*np.cos(theta_3 - theta_2))**2/(I_2 - l_1**2*(l_2*m_3 + l_2*m_4 + m_2*r_2)**2*np.cos(theta_2 - theta_1)**2/(I_1 + l_1**2*m_2 + l_1**2*m_3 + l_1**2*m_4 + m_1*r_1**2) + l_2**2*m_3 + l_2**2*m_4 + m_2*r_2**2)))/(I_4 - l_1**2*m_4**2*r_4**2*np.cos(theta_4 - theta_1)**2/(I_1 + l_1**2*m_2 + l_1**2*m_3 + l_1**2*m_4 + m_1*r_1**2) + m_4*r_4**2 - (-l_1**2*m_4*r_4*(l_2*m_3 + l_2*m_4 + m_2*r_2)*np.cos(theta_4 - theta_1)*np.cos(theta_2 - theta_1)/(I_1 + l_1**2*m_2 + l_1**2*m_3 + l_1**2*m_4 + m_1*r_1**2) + l_2*m_4*r_4*np.cos(theta_4 - theta_2))**2/(I_2 - l_1**2*(l_2*m_3 + l_2*m_4 + m_2*r_2)**2*np.cos(theta_2 - theta_1)**2/(I_1 + l_1**2*m_2 + l_1**2*m_3 + l_1**2*m_4 + m_1*r_1**2) + l_2**2*m_3 + l_2**2*m_4 + m_2*r_2**2) - (-l_1**2*m_4*r_4*(l_3*m_4 + m_3*r_3)*np.cos(theta_4 - theta_1)*np.cos(theta_3 - theta_1)/(I_1 + l_1**2*m_2 + l_1**2*m_3 + l_1**2*m_4 + m_1*r_1**2) + l_3*m_4*r_4*np.cos(theta_4 - theta_3) - (-l_1**2*(l_3*m_4 + m_3*r_3)*(l_2*m_3 + l_2*m_4 + m_2*r_2)*np.cos(theta_3 - theta_1)*np.cos(theta_2 - theta_1)/(I_1 + l_1**2*m_2 + l_1**2*m_3 + l_1**2*m_4 + m_1*r_1**2) + l_2*(l_3*m_4 + m_3*r_3)*np.cos(theta_3 - theta_2))*(-l_1**2*m_4*r_4*(l_2*m_3 + l_2*m_4 + m_2*r_2)*np.cos(theta_4 - theta_1)*np.cos(theta_2 - theta_1)/(I_1 + l_1**2*m_2 + l_1**2*m_3 + l_1**2*m_4 + m_1*r_1**2) + l_2*m_4*r_4*np.cos(theta_4 - theta_2))/(I_2 - l_1**2*(l_2*m_3 + l_2*m_4 + m_2*r_2)**2*np.cos(theta_2 - theta_1)**2/(I_1 + l_1**2*m_2 + l_1**2*m_3 + l_1**2*m_4 + m_1*r_1**2) + l_2**2*m_3 + l_2**2*m_4 + m_2*r_2**2))**2/(I_3 - l_1**2*(l_3*m_4 + m_3*r_3)**2*np.cos(theta_3 - theta_1)**2/(I_1 + l_1**2*m_2 + l_1**2*m_3 + l_1**2*m_4 + m_1*r_1**2) + l_3**2*m_4 + m_3*r_3**2 - (-l_1**2*(l_3*m_4 + m_3*r_3)*(l_2*m_3 + l_2*m_4 + m_2*r_2)*np.cos(theta_3 - theta_1)*np.cos(theta_2 - theta_1)/(I_1 + l_1**2*m_2 + l_1**2*m_3 + l_1**2*m_4 + m_1*r_1**2) + l_2*(l_3*m_4 + m_3*r_3)*np.cos(theta_3 - theta_2))**2/(I_2 - l_1**2*(l_2*m_3 + l_2*m_4 + m_2*r_2)**2*np.cos(theta_2 - theta_1)**2/(I_1 + l_1**2*m_2 + l_1**2*m_3 + l_1**2*m_4 + m_1*r_1**2) + l_2**2*m_3 + l_2**2*m_4 + m_2*r_2**2))))/(I_3 - l_1**2*(l_3*m_4 + m_3*r_3)**2*np.cos(theta_3 - theta_1)**2/(I_1 + l_1**2*m_2 + l_1**2*m_3 + l_1**2*m_4 + m_1*r_1**2) + l_3**2*m_4 + m_3*r_3**2 - (-l_1**2*(l_3*m_4 + m_3*r_3)*(l_2*m_3 + l_2*m_4 + m_2*r_2)*np.cos(theta_3 - theta_1)*np.cos(theta_2 - theta_1)/(I_1 + l_1**2*m_2 + l_1**2*m_3 + l_1**2*m_4 + m_1*r_1**2) + l_2*(l_3*m_4 + m_3*r_3)*np.cos(theta_3 - theta_2))**2/(I_2 - l_1**2*(l_2*m_3 + l_2*m_4 + m_2*r_2)**2*np.cos(theta_2 - theta_1)**2/(I_1 + l_1**2*m_2 + l_1**2*m_3 + l_1**2*m_4 + m_1*r_1**2) + l_2**2*m_3 + l_2**2*m_4 + m_2*r_2**2)) - (-l_1**2*m_4*r_4*(l_2*m_3 + l_2*m_4 + m_2*r_2)*np.cos(theta_4 - theta_1)*np.cos(theta_2 - theta_1)/(I_1 + l_1**2*m_2 + l_1**2*m_3 + l_1**2*m_4 + m_1*r_1**2) + l_2*m_4*r_4*np.cos(theta_4 - theta_2))*(-dtheta_4*mu_4 - dtheta_3**2*l_3*m_4*r_4*np.sin(theta_4 - theta_3) + dtheta_3*mu_4 - dtheta_2**2*l_2*m_4*r_4*np.sin(theta_4 - theta_2) - dtheta_1**2*l_1*m_4*r_4*np.sin(theta_4 - theta_1) + ddx_c*m_4*r_4*np.cos(theta_4) + g*m_4*r_4*np.sin(theta_4) - l_1*m_4*r_4*(dtheta_4**2*l_1*m_4*r_4*np.sin(theta_4 - theta_1) + dtheta_3*(dtheta_3*l_1*l_3*m_4*np.sin(theta_3 - theta_1) + dtheta_3*l_1*m_3*r_3*np.sin(theta_3 - theta_1)) + dtheta_2*mu_2 + dtheta_2*(dtheta_2*l_1*l_2*m_3*np.sin(theta_2 - theta_1) + dtheta_2*l_1*l_2*m_4*np.sin(theta_2 - theta_1) + dtheta_2*l_1*m_2*r_2*np.sin(theta_2 - theta_1)) - dtheta_1*(mu_1 + mu_2) - ddx_c*(-l_1*m_2 - l_1*m_3 - l_1*m_4 - m_1*r_1)*np.cos(theta_1) - g*(-l_1*m_2 - l_1*m_3 - l_1*m_4 - m_1*r_1)*np.sin(theta_1))*np.cos(theta_4 - theta_1)/(I_1 + l_1**2*m_2 + l_1**2*m_3 + l_1**2*m_4 + m_1*r_1**2) - (-l_1**2*m_4*r_4*(l_2*m_3 + l_2*m_4 + m_2*r_2)*np.cos(theta_4 - theta_1)*np.cos(theta_2 - theta_1)/(I_1 + l_1**2*m_2 + l_1**2*m_3 + l_1**2*m_4 + m_1*r_1**2) + l_2*m_4*r_4*np.cos(theta_4 - theta_2))*(dtheta_4**2*l_2*m_4*r_4*np.sin(theta_4 - theta_2) + dtheta_3*mu_3 + dtheta_3*(dtheta_3*l_2*l_3*m_4*np.sin(theta_3 - theta_2) + dtheta_3*l_2*m_3*r_3*np.sin(theta_3 - theta_2)) - dtheta_2*(mu_2 + mu_3) + dtheta_1*mu_2 + dtheta_1*(-dtheta_1*l_1*l_2*m_3*np.sin(theta_2 - theta_1) - dtheta_1*l_1*l_2*m_4*np.sin(theta_2 - theta_1) - dtheta_1*l_1*m_2*r_2*np.sin(theta_2 - theta_1)) - ddx_c*(-l_2*m_3 - l_2*m_4 - m_2*r_2)*np.cos(theta_2) - g*(-l_2*m_3 - l_2*m_4 - m_2*r_2)*np.sin(theta_2) - l_1*(l_2*m_3 + l_2*m_4 + m_2*r_2)*(dtheta_4**2*l_1*m_4*r_4*np.sin(theta_4 - theta_1) + dtheta_3*(dtheta_3*l_1*l_3*m_4*np.sin(theta_3 - theta_1) + dtheta_3*l_1*m_3*r_3*np.sin(theta_3 - theta_1)) + dtheta_2*mu_2 + dtheta_2*(dtheta_2*l_1*l_2*m_3*np.sin(theta_2 - theta_1) + dtheta_2*l_1*l_2*m_4*np.sin(theta_2 - theta_1) + dtheta_2*l_1*m_2*r_2*np.sin(theta_2 - theta_1)) - dtheta_1*(mu_1 + mu_2) - ddx_c*(-l_1*m_2 - l_1*m_3 - l_1*m_4 - m_1*r_1)*np.cos(theta_1) - g*(-l_1*m_2 - l_1*m_3 - l_1*m_4 - m_1*r_1)*np.sin(theta_1))*np.cos(theta_2 - theta_1)/(I_1 + l_1**2*m_2 + l_1**2*m_3 + l_1**2*m_4 + m_1*r_1**2))/(I_2 - l_1**2*(l_2*m_3 + l_2*m_4 + m_2*r_2)**2*np.cos(theta_2 - theta_1)**2/(I_1 + l_1**2*m_2 + l_1**2*m_3 + l_1**2*m_4 + m_1*r_1**2) + l_2**2*m_3 + l_2**2*m_4 + m_2*r_2**2) - (-l_1**2*m_4*r_4*(l_3*m_4 + m_3*r_3)*np.cos(theta_4 - theta_1)*np.cos(theta_3 - theta_1)/(I_1 + l_1**2*m_2 + l_1**2*m_3 + l_1**2*m_4 + m_1*r_1**2) + l_3*m_4*r_4*np.cos(theta_4 - theta_3) - (-l_1**2*(l_3*m_4 + m_3*r_3)*(l_2*m_3 + l_2*m_4 + m_2*r_2)*np.cos(theta_3 - theta_1)*np.cos(theta_2 - theta_1)/(I_1 + l_1**2*m_2 + l_1**2*m_3 + l_1**2*m_4 + m_1*r_1**2) + l_2*(l_3*m_4 + m_3*r_3)*np.cos(theta_3 - theta_2))*(-l_1**2*m_4*r_4*(l_2*m_3 + l_2*m_4 + m_2*r_2)*np.cos(theta_4 - theta_1)*np.cos(theta_2 - theta_1)/(I_1 + l_1**2*m_2 + l_1**2*m_3 + l_1**2*m_4 + m_1*r_1**2) + l_2*m_4*r_4*np.cos(theta_4 - theta_2))/(I_2 - l_1**2*(l_2*m_3 + l_2*m_4 + m_2*r_2)**2*np.cos(theta_2 - theta_1)**2/(I_1 + l_1**2*m_2 + l_1**2*m_3 + l_1**2*m_4 + m_1*r_1**2) + l_2**2*m_3 + l_2**2*m_4 + m_2*r_2**2))*(dtheta_4**2*l_3*m_4*r_4*np.sin(theta_4 - theta_3) + dtheta_4*mu_4 - dtheta_3*(mu_3 + mu_4) + dtheta_2*mu_3 + dtheta_2*(-dtheta_2*l_2*l_3*m_4*np.sin(theta_3 - theta_2) - dtheta_2*l_2*m_3*r_3*np.sin(theta_3 - theta_2)) + dtheta_1*(-dtheta_1*l_1*l_3*m_4*np.sin(theta_3 - theta_1) - dtheta_1*l_1*m_3*r_3*np.sin(theta_3 - theta_1)) - ddx_c*(-l_3*m_4 - m_3*r_3)*np.cos(theta_3) - g*(-l_3*m_4 - m_3*r_3)*np.sin(theta_3) - l_1*(l_3*m_4 + m_3*r_3)*(dtheta_4**2*l_1*m_4*r_4*np.sin(theta_4 - theta_1) + dtheta_3*(dtheta_3*l_1*l_3*m_4*np.sin(theta_3 - theta_1) + dtheta_3*l_1*m_3*r_3*np.sin(theta_3 - theta_1)) + dtheta_2*mu_2 + dtheta_2*(dtheta_2*l_1*l_2*m_3*np.sin(theta_2 - theta_1) + dtheta_2*l_1*l_2*m_4*np.sin(theta_2 - theta_1) + dtheta_2*l_1*m_2*r_2*np.sin(theta_2 - theta_1)) - dtheta_1*(mu_1 + mu_2) - ddx_c*(-l_1*m_2 - l_1*m_3 - l_1*m_4 - m_1*r_1)*np.cos(theta_1) - g*(-l_1*m_2 - l_1*m_3 - l_1*m_4 - m_1*r_1)*np.sin(theta_1))*np.cos(theta_3 - theta_1)/(I_1 + l_1**2*m_2 + l_1**2*m_3 + l_1**2*m_4 + m_1*r_1**2) - (-l_1**2*(l_3*m_4 + m_3*r_3)*(l_2*m_3 + l_2*m_4 + m_2*r_2)*np.cos(theta_3 - theta_1)*np.cos(theta_2 - theta_1)/(I_1 + l_1**2*m_2 + l_1**2*m_3 + l_1**2*m_4 + m_1*r_1**2) + l_2*(l_3*m_4 + m_3*r_3)*np.cos(theta_3 - theta_2))*(dtheta_4**2*l_2*m_4*r_4*np.sin(theta_4 - theta_2) + dtheta_3*mu_3 + dtheta_3*(dtheta_3*l_2*l_3*m_4*np.sin(theta_3 - theta_2) + dtheta_3*l_2*m_3*r_3*np.sin(theta_3 - theta_2)) - dtheta_2*(mu_2 + mu_3) + dtheta_1*mu_2 + dtheta_1*(-dtheta_1*l_1*l_2*m_3*np.sin(theta_2 - theta_1) - dtheta_1*l_1*l_2*m_4*np.sin(theta_2 - theta_1) - dtheta_1*l_1*m_2*r_2*np.sin(theta_2 - theta_1)) - ddx_c*(-l_2*m_3 - l_2*m_4 - m_2*r_2)*np.cos(theta_2) - g*(-l_2*m_3 - l_2*m_4 - m_2*r_2)*np.sin(theta_2) - l_1*(l_2*m_3 + l_2*m_4 + m_2*r_2)*(dtheta_4**2*l_1*m_4*r_4*np.sin(theta_4 - theta_1) + dtheta_3*(dtheta_3*l_1*l_3*m_4*np.sin(theta_3 - theta_1) + dtheta_3*l_1*m_3*r_3*np.sin(theta_3 - theta_1)) + dtheta_2*mu_2 + dtheta_2*(dtheta_2*l_1*l_2*m_3*np.sin(theta_2 - theta_1) + dtheta_2*l_1*l_2*m_4*np.sin(theta_2 - theta_1) + dtheta_2*l_1*m_2*r_2*np.sin(theta_2 - theta_1)) - dtheta_1*(mu_1 + mu_2) - ddx_c*(-l_1*m_2 - l_1*m_3 - l_1*m_4 - m_1*r_1)*np.cos(theta_1) - g*(-l_1*m_2 - l_1*m_3 - l_1*m_4 - m_1*r_1)*np.sin(theta_1))*np.cos(theta_2 - theta_1)/(I_1 + l_1**2*m_2 + l_1**2*m_3 + l_1**2*m_4 + m_1*r_1**2))/(I_2 - l_1**2*(l_2*m_3 + l_2*m_4 + m_2*r_2)**2*np.cos(theta_2 - theta_1)**2/(I_1 + l_1**2*m_2 + l_1**2*m_3 + l_1**2*m_4 + m_1*r_1**2) + l_2**2*m_3 + l_2**2*m_4 + m_2*r_2**2))/(I_3 - l_1**2*(l_3*m_4 + m_3*r_3)**2*np.cos(theta_3 - theta_1)**2/(I_1 + l_1**2*m_2 + l_1**2*m_3 + l_1**2*m_4 + m_1*r_1**2) + l_3**2*m_4 + m_3*r_3**2 - (-l_1**2*(l_3*m_4 + m_3*r_3)*(l_2*m_3 + l_2*m_4 + m_2*r_2)*np.cos(theta_3 - theta_1)*np.cos(theta_2 - theta_1)/(I_1 + l_1**2*m_2 + l_1**2*m_3 + l_1**2*m_4 + m_1*r_1**2) + l_2*(l_3*m_4 + m_3*r_3)*np.cos(theta_3 - theta_2))**2/(I_2 - l_1**2*(l_2*m_3 + l_2*m_4 + m_2*r_2)**2*np.cos(theta_2 - theta_1)**2/(I_1 + l_1**2*m_2 + l_1**2*m_3 + l_1**2*m_4 + m_1*r_1**2) + l_2**2*m_3 + l_2**2*m_4 + m_2*r_2**2)))/(I_4 - l_1**2*m_4**2*r_4**2*np.cos(theta_4 - theta_1)**2/(I_1 + l_1**2*m_2 + l_1**2*m_3 + l_1**2*m_4 + m_1*r_1**2) + m_4*r_4**2 - (-l_1**2*m_4*r_4*(l_2*m_3 + l_2*m_4 + m_2*r_2)*np.cos(theta_4 - theta_1)*np.cos(theta_2 - theta_1)/(I_1 + l_1**2*m_2 + l_1**2*m_3 + l_1**2*m_4 + m_1*r_1**2) + l_2*m_4*r_4*np.cos(theta_4 - theta_2))**2/(I_2 - l_1**2*(l_2*m_3 + l_2*m_4 + m_2*r_2)**2*np.cos(theta_2 - theta_1)**2/(I_1 + l_1**2*m_2 + l_1**2*m_3 + l_1**2*m_4 + m_1*r_1**2) + l_2**2*m_3 + l_2**2*m_4 + m_2*r_2**2) - (-l_1**2*m_4*r_4*(l_3*m_4 + m_3*r_3)*np.cos(theta_4 - theta_1)*np.cos(theta_3 - theta_1)/(I_1 + l_1**2*m_2 + l_1**2*m_3 + l_1**2*m_4 + m_1*r_1**2) + l_3*m_4*r_4*np.cos(theta_4 - theta_3) - (-l_1**2*(l_3*m_4 + m_3*r_3)*(l_2*m_3 + l_2*m_4 + m_2*r_2)*np.cos(theta_3 - theta_1)*np.cos(theta_2 - theta_1)/(I_1 + l_1**2*m_2 + l_1**2*m_3 + l_1**2*m_4 + m_1*r_1**2) + l_2*(l_3*m_4 + m_3*r_3)*np.cos(theta_3 - theta_2))*(-l_1**2*m_4*r_4*(l_2*m_3 + l_2*m_4 + m_2*r_2)*np.cos(theta_4 - theta_1)*np.cos(theta_2 - theta_1)/(I_1 + l_1**2*m_2 + l_1**2*m_3 + l_1**2*m_4 + m_1*r_1**2) + l_2*m_4*r_4*np.cos(theta_4 - theta_2))/(I_2 - l_1**2*(l_2*m_3 + l_2*m_4 + m_2*r_2)**2*np.cos(theta_2 - theta_1)**2/(I_1 + l_1**2*m_2 + l_1**2*m_3 + l_1**2*m_4 + m_1*r_1**2) + l_2**2*m_3 + l_2**2*m_4 + m_2*r_2**2))**2/(I_3 - l_1**2*(l_3*m_4 + m_3*r_3)**2*np.cos(theta_3 - theta_1)**2/(I_1 + l_1**2*m_2 + l_1**2*m_3 + l_1**2*m_4 + m_1*r_1**2) + l_3**2*m_4 + m_3*r_3**2 - (-l_1**2*(l_3*m_4 + m_3*r_3)*(l_2*m_3 + l_2*m_4 + m_2*r_2)*np.cos(theta_3 - theta_1)*np.cos(theta_2 - theta_1)/(I_1 + l_1**2*m_2 + l_1**2*m_3 + l_1**2*m_4 + m_1*r_1**2) + l_2*(l_3*m_4 + m_3*r_3)*np.cos(theta_3 - theta_2))**2/(I_2 - l_1**2*(l_2*m_3 + l_2*m_4 + m_2*r_2)**2*np.cos(theta_2 - theta_1)**2/(I_1 + l_1**2*m_2 + l_1**2*m_3 + l_1**2*m_4 + m_1*r_1**2) + l_2**2*m_3 + l_2**2*m_4 + m_2*r_2**2))))/(I_2 - l_1**2*(l_2*m_3 + l_2*m_4 + m_2*r_2)**2*np.cos(theta_2 - theta_1)**2/(I_1 + l_1**2*m_2 + l_1**2*m_3 + l_1**2*m_4 + m_1*r_1**2) + l_2**2*m_3 + l_2**2*m_4 + m_2*r_2**2),\n",
    "\n",
    "                      (dtheta_4**2*l_3*m_4*r_4*np.sin(theta_4 - theta_3) + dtheta_4*mu_4 - dtheta_3*(mu_3 + mu_4) + dtheta_2*mu_3 + dtheta_2*(-dtheta_2*l_2*l_3*m_4*np.sin(theta_3 - theta_2) - dtheta_2*l_2*m_3*r_3*np.sin(theta_3 - theta_2)) + dtheta_1*(-dtheta_1*l_1*l_3*m_4*np.sin(theta_3 - theta_1) - dtheta_1*l_1*m_3*r_3*np.sin(theta_3 - theta_1)) - ddx_c*(-l_3*m_4 - m_3*r_3)*np.cos(theta_3) - g*(-l_3*m_4 - m_3*r_3)*np.sin(theta_3) - l_1*(l_3*m_4 + m_3*r_3)*(dtheta_4**2*l_1*m_4*r_4*np.sin(theta_4 - theta_1) + dtheta_3*(dtheta_3*l_1*l_3*m_4*np.sin(theta_3 - theta_1) + dtheta_3*l_1*m_3*r_3*np.sin(theta_3 - theta_1)) + dtheta_2*mu_2 + dtheta_2*(dtheta_2*l_1*l_2*m_3*np.sin(theta_2 - theta_1) + dtheta_2*l_1*l_2*m_4*np.sin(theta_2 - theta_1) + dtheta_2*l_1*m_2*r_2*np.sin(theta_2 - theta_1)) - dtheta_1*(mu_1 + mu_2) - ddx_c*(-l_1*m_2 - l_1*m_3 - l_1*m_4 - m_1*r_1)*np.cos(theta_1) - g*(-l_1*m_2 - l_1*m_3 - l_1*m_4 - m_1*r_1)*np.sin(theta_1))*np.cos(theta_3 - theta_1)/(I_1 + l_1**2*m_2 + l_1**2*m_3 + l_1**2*m_4 + m_1*r_1**2) - (-l_1**2*(l_3*m_4 + m_3*r_3)*(l_2*m_3 + l_2*m_4 + m_2*r_2)*np.cos(theta_3 - theta_1)*np.cos(theta_2 - theta_1)/(I_1 + l_1**2*m_2 + l_1**2*m_3 + l_1**2*m_4 + m_1*r_1**2) + l_2*(l_3*m_4 + m_3*r_3)*np.cos(theta_3 - theta_2))*(dtheta_4**2*l_2*m_4*r_4*np.sin(theta_4 - theta_2) + dtheta_3*mu_3 + dtheta_3*(dtheta_3*l_2*l_3*m_4*np.sin(theta_3 - theta_2) + dtheta_3*l_2*m_3*r_3*np.sin(theta_3 - theta_2)) - dtheta_2*(mu_2 + mu_3) + dtheta_1*mu_2 + dtheta_1*(-dtheta_1*l_1*l_2*m_3*np.sin(theta_2 - theta_1) - dtheta_1*l_1*l_2*m_4*np.sin(theta_2 - theta_1) - dtheta_1*l_1*m_2*r_2*np.sin(theta_2 - theta_1)) - ddx_c*(-l_2*m_3 - l_2*m_4 - m_2*r_2)*np.cos(theta_2) - g*(-l_2*m_3 - l_2*m_4 - m_2*r_2)*np.sin(theta_2) - l_1*(l_2*m_3 + l_2*m_4 + m_2*r_2)*(dtheta_4**2*l_1*m_4*r_4*np.sin(theta_4 - theta_1) + dtheta_3*(dtheta_3*l_1*l_3*m_4*np.sin(theta_3 - theta_1) + dtheta_3*l_1*m_3*r_3*np.sin(theta_3 - theta_1)) + dtheta_2*mu_2 + dtheta_2*(dtheta_2*l_1*l_2*m_3*np.sin(theta_2 - theta_1) + dtheta_2*l_1*l_2*m_4*np.sin(theta_2 - theta_1) + dtheta_2*l_1*m_2*r_2*np.sin(theta_2 - theta_1)) - dtheta_1*(mu_1 + mu_2) - ddx_c*(-l_1*m_2 - l_1*m_3 - l_1*m_4 - m_1*r_1)*np.cos(theta_1) - g*(-l_1*m_2 - l_1*m_3 - l_1*m_4 - m_1*r_1)*np.sin(theta_1))*np.cos(theta_2 - theta_1)/(I_1 + l_1**2*m_2 + l_1**2*m_3 + l_1**2*m_4 + m_1*r_1**2))/(I_2 - l_1**2*(l_2*m_3 + l_2*m_4 + m_2*r_2)**2*np.cos(theta_2 - theta_1)**2/(I_1 + l_1**2*m_2 + l_1**2*m_3 + l_1**2*m_4 + m_1*r_1**2) + l_2**2*m_3 + l_2**2*m_4 + m_2*r_2**2) - (-l_1**2*m_4*r_4*(l_3*m_4 + m_3*r_3)*np.cos(theta_4 - theta_1)*np.cos(theta_3 - theta_1)/(I_1 + l_1**2*m_2 + l_1**2*m_3 + l_1**2*m_4 + m_1*r_1**2) + l_3*m_4*r_4*np.cos(theta_4 - theta_3) - (-l_1**2*(l_3*m_4 + m_3*r_3)*(l_2*m_3 + l_2*m_4 + m_2*r_2)*np.cos(theta_3 - theta_1)*np.cos(theta_2 - theta_1)/(I_1 + l_1**2*m_2 + l_1**2*m_3 + l_1**2*m_4 + m_1*r_1**2) + l_2*(l_3*m_4 + m_3*r_3)*np.cos(theta_3 - theta_2))*(-l_1**2*m_4*r_4*(l_2*m_3 + l_2*m_4 + m_2*r_2)*np.cos(theta_4 - theta_1)*np.cos(theta_2 - theta_1)/(I_1 + l_1**2*m_2 + l_1**2*m_3 + l_1**2*m_4 + m_1*r_1**2) + l_2*m_4*r_4*np.cos(theta_4 - theta_2))/(I_2 - l_1**2*(l_2*m_3 + l_2*m_4 + m_2*r_2)**2*np.cos(theta_2 - theta_1)**2/(I_1 + l_1**2*m_2 + l_1**2*m_3 + l_1**2*m_4 + m_1*r_1**2) + l_2**2*m_3 + l_2**2*m_4 + m_2*r_2**2))*(-dtheta_4*mu_4 - dtheta_3**2*l_3*m_4*r_4*np.sin(theta_4 - theta_3) + dtheta_3*mu_4 - dtheta_2**2*l_2*m_4*r_4*np.sin(theta_4 - theta_2) - dtheta_1**2*l_1*m_4*r_4*np.sin(theta_4 - theta_1) + ddx_c*m_4*r_4*np.cos(theta_4) + g*m_4*r_4*np.sin(theta_4) - l_1*m_4*r_4*(dtheta_4**2*l_1*m_4*r_4*np.sin(theta_4 - theta_1) + dtheta_3*(dtheta_3*l_1*l_3*m_4*np.sin(theta_3 - theta_1) + dtheta_3*l_1*m_3*r_3*np.sin(theta_3 - theta_1)) + dtheta_2*mu_2 + dtheta_2*(dtheta_2*l_1*l_2*m_3*np.sin(theta_2 - theta_1) + dtheta_2*l_1*l_2*m_4*np.sin(theta_2 - theta_1) + dtheta_2*l_1*m_2*r_2*np.sin(theta_2 - theta_1)) - dtheta_1*(mu_1 + mu_2) - ddx_c*(-l_1*m_2 - l_1*m_3 - l_1*m_4 - m_1*r_1)*np.cos(theta_1) - g*(-l_1*m_2 - l_1*m_3 - l_1*m_4 - m_1*r_1)*np.sin(theta_1))*np.cos(theta_4 - theta_1)/(I_1 + l_1**2*m_2 + l_1**2*m_3 + l_1**2*m_4 + m_1*r_1**2) - (-l_1**2*m_4*r_4*(l_2*m_3 + l_2*m_4 + m_2*r_2)*np.cos(theta_4 - theta_1)*np.cos(theta_2 - theta_1)/(I_1 + l_1**2*m_2 + l_1**2*m_3 + l_1**2*m_4 + m_1*r_1**2) + l_2*m_4*r_4*np.cos(theta_4 - theta_2))*(dtheta_4**2*l_2*m_4*r_4*np.sin(theta_4 - theta_2) + dtheta_3*mu_3 + dtheta_3*(dtheta_3*l_2*l_3*m_4*np.sin(theta_3 - theta_2) + dtheta_3*l_2*m_3*r_3*np.sin(theta_3 - theta_2)) - dtheta_2*(mu_2 + mu_3) + dtheta_1*mu_2 + dtheta_1*(-dtheta_1*l_1*l_2*m_3*np.sin(theta_2 - theta_1) - dtheta_1*l_1*l_2*m_4*np.sin(theta_2 - theta_1) - dtheta_1*l_1*m_2*r_2*np.sin(theta_2 - theta_1)) - ddx_c*(-l_2*m_3 - l_2*m_4 - m_2*r_2)*np.cos(theta_2) - g*(-l_2*m_3 - l_2*m_4 - m_2*r_2)*np.sin(theta_2) - l_1*(l_2*m_3 + l_2*m_4 + m_2*r_2)*(dtheta_4**2*l_1*m_4*r_4*np.sin(theta_4 - theta_1) + dtheta_3*(dtheta_3*l_1*l_3*m_4*np.sin(theta_3 - theta_1) + dtheta_3*l_1*m_3*r_3*np.sin(theta_3 - theta_1)) + dtheta_2*mu_2 + dtheta_2*(dtheta_2*l_1*l_2*m_3*np.sin(theta_2 - theta_1) + dtheta_2*l_1*l_2*m_4*np.sin(theta_2 - theta_1) + dtheta_2*l_1*m_2*r_2*np.sin(theta_2 - theta_1)) - dtheta_1*(mu_1 + mu_2) - ddx_c*(-l_1*m_2 - l_1*m_3 - l_1*m_4 - m_1*r_1)*np.cos(theta_1) - g*(-l_1*m_2 - l_1*m_3 - l_1*m_4 - m_1*r_1)*np.sin(theta_1))*np.cos(theta_2 - theta_1)/(I_1 + l_1**2*m_2 + l_1**2*m_3 + l_1**2*m_4 + m_1*r_1**2))/(I_2 - l_1**2*(l_2*m_3 + l_2*m_4 + m_2*r_2)**2*np.cos(theta_2 - theta_1)**2/(I_1 + l_1**2*m_2 + l_1**2*m_3 + l_1**2*m_4 + m_1*r_1**2) + l_2**2*m_3 + l_2**2*m_4 + m_2*r_2**2) - (-l_1**2*m_4*r_4*(l_3*m_4 + m_3*r_3)*np.cos(theta_4 - theta_1)*np.cos(theta_3 - theta_1)/(I_1 + l_1**2*m_2 + l_1**2*m_3 + l_1**2*m_4 + m_1*r_1**2) + l_3*m_4*r_4*np.cos(theta_4 - theta_3) - (-l_1**2*(l_3*m_4 + m_3*r_3)*(l_2*m_3 + l_2*m_4 + m_2*r_2)*np.cos(theta_3 - theta_1)*np.cos(theta_2 - theta_1)/(I_1 + l_1**2*m_2 + l_1**2*m_3 + l_1**2*m_4 + m_1*r_1**2) + l_2*(l_3*m_4 + m_3*r_3)*np.cos(theta_3 - theta_2))*(-l_1**2*m_4*r_4*(l_2*m_3 + l_2*m_4 + m_2*r_2)*np.cos(theta_4 - theta_1)*np.cos(theta_2 - theta_1)/(I_1 + l_1**2*m_2 + l_1**2*m_3 + l_1**2*m_4 + m_1*r_1**2) + l_2*m_4*r_4*np.cos(theta_4 - theta_2))/(I_2 - l_1**2*(l_2*m_3 + l_2*m_4 + m_2*r_2)**2*np.cos(theta_2 - theta_1)**2/(I_1 + l_1**2*m_2 + l_1**2*m_3 + l_1**2*m_4 + m_1*r_1**2) + l_2**2*m_3 + l_2**2*m_4 + m_2*r_2**2))*(dtheta_4**2*l_3*m_4*r_4*np.sin(theta_4 - theta_3) + dtheta_4*mu_4 - dtheta_3*(mu_3 + mu_4) + dtheta_2*mu_3 + dtheta_2*(-dtheta_2*l_2*l_3*m_4*np.sin(theta_3 - theta_2) - dtheta_2*l_2*m_3*r_3*np.sin(theta_3 - theta_2)) + dtheta_1*(-dtheta_1*l_1*l_3*m_4*np.sin(theta_3 - theta_1) - dtheta_1*l_1*m_3*r_3*np.sin(theta_3 - theta_1)) - ddx_c*(-l_3*m_4 - m_3*r_3)*np.cos(theta_3) - g*(-l_3*m_4 - m_3*r_3)*np.sin(theta_3) - l_1*(l_3*m_4 + m_3*r_3)*(dtheta_4**2*l_1*m_4*r_4*np.sin(theta_4 - theta_1) + dtheta_3*(dtheta_3*l_1*l_3*m_4*np.sin(theta_3 - theta_1) + dtheta_3*l_1*m_3*r_3*np.sin(theta_3 - theta_1)) + dtheta_2*mu_2 + dtheta_2*(dtheta_2*l_1*l_2*m_3*np.sin(theta_2 - theta_1) + dtheta_2*l_1*l_2*m_4*np.sin(theta_2 - theta_1) + dtheta_2*l_1*m_2*r_2*np.sin(theta_2 - theta_1)) - dtheta_1*(mu_1 + mu_2) - ddx_c*(-l_1*m_2 - l_1*m_3 - l_1*m_4 - m_1*r_1)*np.cos(theta_1) - g*(-l_1*m_2 - l_1*m_3 - l_1*m_4 - m_1*r_1)*np.sin(theta_1))*np.cos(theta_3 - theta_1)/(I_1 + l_1**2*m_2 + l_1**2*m_3 + l_1**2*m_4 + m_1*r_1**2) - (-l_1**2*(l_3*m_4 + m_3*r_3)*(l_2*m_3 + l_2*m_4 + m_2*r_2)*np.cos(theta_3 - theta_1)*np.cos(theta_2 - theta_1)/(I_1 + l_1**2*m_2 + l_1**2*m_3 + l_1**2*m_4 + m_1*r_1**2) + l_2*(l_3*m_4 + m_3*r_3)*np.cos(theta_3 - theta_2))*(dtheta_4**2*l_2*m_4*r_4*np.sin(theta_4 - theta_2) + dtheta_3*mu_3 + dtheta_3*(dtheta_3*l_2*l_3*m_4*np.sin(theta_3 - theta_2) + dtheta_3*l_2*m_3*r_3*np.sin(theta_3 - theta_2)) - dtheta_2*(mu_2 + mu_3) + dtheta_1*mu_2 + dtheta_1*(-dtheta_1*l_1*l_2*m_3*np.sin(theta_2 - theta_1) - dtheta_1*l_1*l_2*m_4*np.sin(theta_2 - theta_1) - dtheta_1*l_1*m_2*r_2*np.sin(theta_2 - theta_1)) - ddx_c*(-l_2*m_3 - l_2*m_4 - m_2*r_2)*np.cos(theta_2) - g*(-l_2*m_3 - l_2*m_4 - m_2*r_2)*np.sin(theta_2) - l_1*(l_2*m_3 + l_2*m_4 + m_2*r_2)*(dtheta_4**2*l_1*m_4*r_4*np.sin(theta_4 - theta_1) + dtheta_3*(dtheta_3*l_1*l_3*m_4*np.sin(theta_3 - theta_1) + dtheta_3*l_1*m_3*r_3*np.sin(theta_3 - theta_1)) + dtheta_2*mu_2 + dtheta_2*(dtheta_2*l_1*l_2*m_3*np.sin(theta_2 - theta_1) + dtheta_2*l_1*l_2*m_4*np.sin(theta_2 - theta_1) + dtheta_2*l_1*m_2*r_2*np.sin(theta_2 - theta_1)) - dtheta_1*(mu_1 + mu_2) - ddx_c*(-l_1*m_2 - l_1*m_3 - l_1*m_4 - m_1*r_1)*np.cos(theta_1) - g*(-l_1*m_2 - l_1*m_3 - l_1*m_4 - m_1*r_1)*np.sin(theta_1))*np.cos(theta_2 - theta_1)/(I_1 + l_1**2*m_2 + l_1**2*m_3 + l_1**2*m_4 + m_1*r_1**2))/(I_2 - l_1**2*(l_2*m_3 + l_2*m_4 + m_2*r_2)**2*np.cos(theta_2 - theta_1)**2/(I_1 + l_1**2*m_2 + l_1**2*m_3 + l_1**2*m_4 + m_1*r_1**2) + l_2**2*m_3 + l_2**2*m_4 + m_2*r_2**2))/(I_3 - l_1**2*(l_3*m_4 + m_3*r_3)**2*np.cos(theta_3 - theta_1)**2/(I_1 + l_1**2*m_2 + l_1**2*m_3 + l_1**2*m_4 + m_1*r_1**2) + l_3**2*m_4 + m_3*r_3**2 - (-l_1**2*(l_3*m_4 + m_3*r_3)*(l_2*m_3 + l_2*m_4 + m_2*r_2)*np.cos(theta_3 - theta_1)*np.cos(theta_2 - theta_1)/(I_1 + l_1**2*m_2 + l_1**2*m_3 + l_1**2*m_4 + m_1*r_1**2) + l_2*(l_3*m_4 + m_3*r_3)*np.cos(theta_3 - theta_2))**2/(I_2 - l_1**2*(l_2*m_3 + l_2*m_4 + m_2*r_2)**2*np.cos(theta_2 - theta_1)**2/(I_1 + l_1**2*m_2 + l_1**2*m_3 + l_1**2*m_4 + m_1*r_1**2) + l_2**2*m_3 + l_2**2*m_4 + m_2*r_2**2)))/(I_4 - l_1**2*m_4**2*r_4**2*np.cos(theta_4 - theta_1)**2/(I_1 + l_1**2*m_2 + l_1**2*m_3 + l_1**2*m_4 + m_1*r_1**2) + m_4*r_4**2 - (-l_1**2*m_4*r_4*(l_2*m_3 + l_2*m_4 + m_2*r_2)*np.cos(theta_4 - theta_1)*np.cos(theta_2 - theta_1)/(I_1 + l_1**2*m_2 + l_1**2*m_3 + l_1**2*m_4 + m_1*r_1**2) + l_2*m_4*r_4*np.cos(theta_4 - theta_2))**2/(I_2 - l_1**2*(l_2*m_3 + l_2*m_4 + m_2*r_2)**2*np.cos(theta_2 - theta_1)**2/(I_1 + l_1**2*m_2 + l_1**2*m_3 + l_1**2*m_4 + m_1*r_1**2) + l_2**2*m_3 + l_2**2*m_4 + m_2*r_2**2) - (-l_1**2*m_4*r_4*(l_3*m_4 + m_3*r_3)*np.cos(theta_4 - theta_1)*np.cos(theta_3 - theta_1)/(I_1 + l_1**2*m_2 + l_1**2*m_3 + l_1**2*m_4 + m_1*r_1**2) + l_3*m_4*r_4*np.cos(theta_4 - theta_3) - (-l_1**2*(l_3*m_4 + m_3*r_3)*(l_2*m_3 + l_2*m_4 + m_2*r_2)*np.cos(theta_3 - theta_1)*np.cos(theta_2 - theta_1)/(I_1 + l_1**2*m_2 + l_1**2*m_3 + l_1**2*m_4 + m_1*r_1**2) + l_2*(l_3*m_4 + m_3*r_3)*np.cos(theta_3 - theta_2))*(-l_1**2*m_4*r_4*(l_2*m_3 + l_2*m_4 + m_2*r_2)*np.cos(theta_4 - theta_1)*np.cos(theta_2 - theta_1)/(I_1 + l_1**2*m_2 + l_1**2*m_3 + l_1**2*m_4 + m_1*r_1**2) + l_2*m_4*r_4*np.cos(theta_4 - theta_2))/(I_2 - l_1**2*(l_2*m_3 + l_2*m_4 + m_2*r_2)**2*np.cos(theta_2 - theta_1)**2/(I_1 + l_1**2*m_2 + l_1**2*m_3 + l_1**2*m_4 + m_1*r_1**2) + l_2**2*m_3 + l_2**2*m_4 + m_2*r_2**2))**2/(I_3 - l_1**2*(l_3*m_4 + m_3*r_3)**2*np.cos(theta_3 - theta_1)**2/(I_1 + l_1**2*m_2 + l_1**2*m_3 + l_1**2*m_4 + m_1*r_1**2) + l_3**2*m_4 + m_3*r_3**2 - (-l_1**2*(l_3*m_4 + m_3*r_3)*(l_2*m_3 + l_2*m_4 + m_2*r_2)*np.cos(theta_3 - theta_1)*np.cos(theta_2 - theta_1)/(I_1 + l_1**2*m_2 + l_1**2*m_3 + l_1**2*m_4 + m_1*r_1**2) + l_2*(l_3*m_4 + m_3*r_3)*np.cos(theta_3 - theta_2))**2/(I_2 - l_1**2*(l_2*m_3 + l_2*m_4 + m_2*r_2)**2*np.cos(theta_2 - theta_1)**2/(I_1 + l_1**2*m_2 + l_1**2*m_3 + l_1**2*m_4 + m_1*r_1**2) + l_2**2*m_3 + l_2**2*m_4 + m_2*r_2**2))))/(I_3 - l_1**2*(l_3*m_4 + m_3*r_3)**2*np.cos(theta_3 - theta_1)**2/(I_1 + l_1**2*m_2 + l_1**2*m_3 + l_1**2*m_4 + m_1*r_1**2) + l_3**2*m_4 + m_3*r_3**2 - (-l_1**2*(l_3*m_4 + m_3*r_3)*(l_2*m_3 + l_2*m_4 + m_2*r_2)*np.cos(theta_3 - theta_1)*np.cos(theta_2 - theta_1)/(I_1 + l_1**2*m_2 + l_1**2*m_3 + l_1**2*m_4 + m_1*r_1**2) + l_2*(l_3*m_4 + m_3*r_3)*np.cos(theta_3 - theta_2))**2/(I_2 - l_1**2*(l_2*m_3 + l_2*m_4 + m_2*r_2)**2*np.cos(theta_2 - theta_1)**2/(I_1 + l_1**2*m_2 + l_1**2*m_3 + l_1**2*m_4 + m_1*r_1**2) + l_2**2*m_3 + l_2**2*m_4 + m_2*r_2**2)),\n",
    "\n",
    "                      (-dtheta_4*mu_4 - dtheta_3**2*l_3*m_4*r_4*np.sin(theta_4 - theta_3) + dtheta_3*mu_4 - dtheta_2**2*l_2*m_4*r_4*np.sin(theta_4 - theta_2) - dtheta_1**2*l_1*m_4*r_4*np.sin(theta_4 - theta_1) + ddx_c*m_4*r_4*np.cos(theta_4) + g*m_4*r_4*np.sin(theta_4) - l_1*m_4*r_4*(dtheta_4**2*l_1*m_4*r_4*np.sin(theta_4 - theta_1) + dtheta_3*(dtheta_3*l_1*l_3*m_4*np.sin(theta_3 - theta_1) + dtheta_3*l_1*m_3*r_3*np.sin(theta_3 - theta_1)) + dtheta_2*mu_2 + dtheta_2*(dtheta_2*l_1*l_2*m_3*np.sin(theta_2 - theta_1) + dtheta_2*l_1*l_2*m_4*np.sin(theta_2 - theta_1) + dtheta_2*l_1*m_2*r_2*np.sin(theta_2 - theta_1)) - dtheta_1*(mu_1 + mu_2) - ddx_c*(-l_1*m_2 - l_1*m_3 - l_1*m_4 - m_1*r_1)*np.cos(theta_1) - g*(-l_1*m_2 - l_1*m_3 - l_1*m_4 - m_1*r_1)*np.sin(theta_1))*np.cos(theta_4 - theta_1)/(I_1 + l_1**2*m_2 + l_1**2*m_3 + l_1**2*m_4 + m_1*r_1**2) - (-l_1**2*m_4*r_4*(l_2*m_3 + l_2*m_4 + m_2*r_2)*np.cos(theta_4 - theta_1)*np.cos(theta_2 - theta_1)/(I_1 + l_1**2*m_2 + l_1**2*m_3 + l_1**2*m_4 + m_1*r_1**2) + l_2*m_4*r_4*np.cos(theta_4 - theta_2))*(dtheta_4**2*l_2*m_4*r_4*np.sin(theta_4 - theta_2) + dtheta_3*mu_3 + dtheta_3*(dtheta_3*l_2*l_3*m_4*np.sin(theta_3 - theta_2) + dtheta_3*l_2*m_3*r_3*np.sin(theta_3 - theta_2)) - dtheta_2*(mu_2 + mu_3) + dtheta_1*mu_2 + dtheta_1*(-dtheta_1*l_1*l_2*m_3*np.sin(theta_2 - theta_1) - dtheta_1*l_1*l_2*m_4*np.sin(theta_2 - theta_1) - dtheta_1*l_1*m_2*r_2*np.sin(theta_2 - theta_1)) - ddx_c*(-l_2*m_3 - l_2*m_4 - m_2*r_2)*np.cos(theta_2) - g*(-l_2*m_3 - l_2*m_4 - m_2*r_2)*np.sin(theta_2) - l_1*(l_2*m_3 + l_2*m_4 + m_2*r_2)*(dtheta_4**2*l_1*m_4*r_4*np.sin(theta_4 - theta_1) + dtheta_3*(dtheta_3*l_1*l_3*m_4*np.sin(theta_3 - theta_1) + dtheta_3*l_1*m_3*r_3*np.sin(theta_3 - theta_1)) + dtheta_2*mu_2 + dtheta_2*(dtheta_2*l_1*l_2*m_3*np.sin(theta_2 - theta_1) + dtheta_2*l_1*l_2*m_4*np.sin(theta_2 - theta_1) + dtheta_2*l_1*m_2*r_2*np.sin(theta_2 - theta_1)) - dtheta_1*(mu_1 + mu_2) - ddx_c*(-l_1*m_2 - l_1*m_3 - l_1*m_4 - m_1*r_1)*np.cos(theta_1) - g*(-l_1*m_2 - l_1*m_3 - l_1*m_4 - m_1*r_1)*np.sin(theta_1))*np.cos(theta_2 - theta_1)/(I_1 + l_1**2*m_2 + l_1**2*m_3 + l_1**2*m_4 + m_1*r_1**2))/(I_2 - l_1**2*(l_2*m_3 + l_2*m_4 + m_2*r_2)**2*np.cos(theta_2 - theta_1)**2/(I_1 + l_1**2*m_2 + l_1**2*m_3 + l_1**2*m_4 + m_1*r_1**2) + l_2**2*m_3 + l_2**2*m_4 + m_2*r_2**2) - (-l_1**2*m_4*r_4*(l_3*m_4 + m_3*r_3)*np.cos(theta_4 - theta_1)*np.cos(theta_3 - theta_1)/(I_1 + l_1**2*m_2 + l_1**2*m_3 + l_1**2*m_4 + m_1*r_1**2) + l_3*m_4*r_4*np.cos(theta_4 - theta_3) - (-l_1**2*(l_3*m_4 + m_3*r_3)*(l_2*m_3 + l_2*m_4 + m_2*r_2)*np.cos(theta_3 - theta_1)*np.cos(theta_2 - theta_1)/(I_1 + l_1**2*m_2 + l_1**2*m_3 + l_1**2*m_4 + m_1*r_1**2) + l_2*(l_3*m_4 + m_3*r_3)*np.cos(theta_3 - theta_2))*(-l_1**2*m_4*r_4*(l_2*m_3 + l_2*m_4 + m_2*r_2)*np.cos(theta_4 - theta_1)*np.cos(theta_2 - theta_1)/(I_1 + l_1**2*m_2 + l_1**2*m_3 + l_1**2*m_4 + m_1*r_1**2) + l_2*m_4*r_4*np.cos(theta_4 - theta_2))/(I_2 - l_1**2*(l_2*m_3 + l_2*m_4 + m_2*r_2)**2*np.cos(theta_2 - theta_1)**2/(I_1 + l_1**2*m_2 + l_1**2*m_3 + l_1**2*m_4 + m_1*r_1**2) + l_2**2*m_3 + l_2**2*m_4 + m_2*r_2**2))*(dtheta_4**2*l_3*m_4*r_4*np.sin(theta_4 - theta_3) + dtheta_4*mu_4 - dtheta_3*(mu_3 + mu_4) + dtheta_2*mu_3 + dtheta_2*(-dtheta_2*l_2*l_3*m_4*np.sin(theta_3 - theta_2) - dtheta_2*l_2*m_3*r_3*np.sin(theta_3 - theta_2)) + dtheta_1*(-dtheta_1*l_1*l_3*m_4*np.sin(theta_3 - theta_1) - dtheta_1*l_1*m_3*r_3*np.sin(theta_3 - theta_1)) - ddx_c*(-l_3*m_4 - m_3*r_3)*np.cos(theta_3) - g*(-l_3*m_4 - m_3*r_3)*np.sin(theta_3) - l_1*(l_3*m_4 + m_3*r_3)*(dtheta_4**2*l_1*m_4*r_4*np.sin(theta_4 - theta_1) + dtheta_3*(dtheta_3*l_1*l_3*m_4*np.sin(theta_3 - theta_1) + dtheta_3*l_1*m_3*r_3*np.sin(theta_3 - theta_1)) + dtheta_2*mu_2 + dtheta_2*(dtheta_2*l_1*l_2*m_3*np.sin(theta_2 - theta_1) + dtheta_2*l_1*l_2*m_4*np.sin(theta_2 - theta_1) + dtheta_2*l_1*m_2*r_2*np.sin(theta_2 - theta_1)) - dtheta_1*(mu_1 + mu_2) - ddx_c*(-l_1*m_2 - l_1*m_3 - l_1*m_4 - m_1*r_1)*np.cos(theta_1) - g*(-l_1*m_2 - l_1*m_3 - l_1*m_4 - m_1*r_1)*np.sin(theta_1))*np.cos(theta_3 - theta_1)/(I_1 + l_1**2*m_2 + l_1**2*m_3 + l_1**2*m_4 + m_1*r_1**2) - (-l_1**2*(l_3*m_4 + m_3*r_3)*(l_2*m_3 + l_2*m_4 + m_2*r_2)*np.cos(theta_3 - theta_1)*np.cos(theta_2 - theta_1)/(I_1 + l_1**2*m_2 + l_1**2*m_3 + l_1**2*m_4 + m_1*r_1**2) + l_2*(l_3*m_4 + m_3*r_3)*np.cos(theta_3 - theta_2))*(dtheta_4**2*l_2*m_4*r_4*np.sin(theta_4 - theta_2) + dtheta_3*mu_3 + dtheta_3*(dtheta_3*l_2*l_3*m_4*np.sin(theta_3 - theta_2) + dtheta_3*l_2*m_3*r_3*np.sin(theta_3 - theta_2)) - dtheta_2*(mu_2 + mu_3) + dtheta_1*mu_2 + dtheta_1*(-dtheta_1*l_1*l_2*m_3*np.sin(theta_2 - theta_1) - dtheta_1*l_1*l_2*m_4*np.sin(theta_2 - theta_1) - dtheta_1*l_1*m_2*r_2*np.sin(theta_2 - theta_1)) - ddx_c*(-l_2*m_3 - l_2*m_4 - m_2*r_2)*np.cos(theta_2) - g*(-l_2*m_3 - l_2*m_4 - m_2*r_2)*np.sin(theta_2) - l_1*(l_2*m_3 + l_2*m_4 + m_2*r_2)*(dtheta_4**2*l_1*m_4*r_4*np.sin(theta_4 - theta_1) + dtheta_3*(dtheta_3*l_1*l_3*m_4*np.sin(theta_3 - theta_1) + dtheta_3*l_1*m_3*r_3*np.sin(theta_3 - theta_1)) + dtheta_2*mu_2 + dtheta_2*(dtheta_2*l_1*l_2*m_3*np.sin(theta_2 - theta_1) + dtheta_2*l_1*l_2*m_4*np.sin(theta_2 - theta_1) + dtheta_2*l_1*m_2*r_2*np.sin(theta_2 - theta_1)) - dtheta_1*(mu_1 + mu_2) - ddx_c*(-l_1*m_2 - l_1*m_3 - l_1*m_4 - m_1*r_1)*np.cos(theta_1) - g*(-l_1*m_2 - l_1*m_3 - l_1*m_4 - m_1*r_1)*np.sin(theta_1))*np.cos(theta_2 - theta_1)/(I_1 + l_1**2*m_2 + l_1**2*m_3 + l_1**2*m_4 + m_1*r_1**2))/(I_2 - l_1**2*(l_2*m_3 + l_2*m_4 + m_2*r_2)**2*np.cos(theta_2 - theta_1)**2/(I_1 + l_1**2*m_2 + l_1**2*m_3 + l_1**2*m_4 + m_1*r_1**2) + l_2**2*m_3 + l_2**2*m_4 + m_2*r_2**2))/(I_3 - l_1**2*(l_3*m_4 + m_3*r_3)**2*np.cos(theta_3 - theta_1)**2/(I_1 + l_1**2*m_2 + l_1**2*m_3 + l_1**2*m_4 + m_1*r_1**2) + l_3**2*m_4 + m_3*r_3**2 - (-l_1**2*(l_3*m_4 + m_3*r_3)*(l_2*m_3 + l_2*m_4 + m_2*r_2)*np.cos(theta_3 - theta_1)*np.cos(theta_2 - theta_1)/(I_1 + l_1**2*m_2 + l_1**2*m_3 + l_1**2*m_4 + m_1*r_1**2) + l_2*(l_3*m_4 + m_3*r_3)*np.cos(theta_3 - theta_2))**2/(I_2 - l_1**2*(l_2*m_3 + l_2*m_4 + m_2*r_2)**2*np.cos(theta_2 - theta_1)**2/(I_1 + l_1**2*m_2 + l_1**2*m_3 + l_1**2*m_4 + m_1*r_1**2) + l_2**2*m_3 + l_2**2*m_4 + m_2*r_2**2)))/(I_4 - l_1**2*m_4**2*r_4**2*np.cos(theta_4 - theta_1)**2/(I_1 + l_1**2*m_2 + l_1**2*m_3 + l_1**2*m_4 + m_1*r_1**2) + m_4*r_4**2 - (-l_1**2*m_4*r_4*(l_2*m_3 + l_2*m_4 + m_2*r_2)*np.cos(theta_4 - theta_1)*np.cos(theta_2 - theta_1)/(I_1 + l_1**2*m_2 + l_1**2*m_3 + l_1**2*m_4 + m_1*r_1**2) + l_2*m_4*r_4*np.cos(theta_4 - theta_2))**2/(I_2 - l_1**2*(l_2*m_3 + l_2*m_4 + m_2*r_2)**2*np.cos(theta_2 - theta_1)**2/(I_1 + l_1**2*m_2 + l_1**2*m_3 + l_1**2*m_4 + m_1*r_1**2) + l_2**2*m_3 + l_2**2*m_4 + m_2*r_2**2) - (-l_1**2*m_4*r_4*(l_3*m_4 + m_3*r_3)*np.cos(theta_4 - theta_1)*np.cos(theta_3 - theta_1)/(I_1 + l_1**2*m_2 + l_1**2*m_3 + l_1**2*m_4 + m_1*r_1**2) + l_3*m_4*r_4*np.cos(theta_4 - theta_3) - (-l_1**2*(l_3*m_4 + m_3*r_3)*(l_2*m_3 + l_2*m_4 + m_2*r_2)*np.cos(theta_3 - theta_1)*np.cos(theta_2 - theta_1)/(I_1 + l_1**2*m_2 + l_1**2*m_3 + l_1**2*m_4 + m_1*r_1**2) + l_2*(l_3*m_4 + m_3*r_3)*np.cos(theta_3 - theta_2))*(-l_1**2*m_4*r_4*(l_2*m_3 + l_2*m_4 + m_2*r_2)*np.cos(theta_4 - theta_1)*np.cos(theta_2 - theta_1)/(I_1 + l_1**2*m_2 + l_1**2*m_3 + l_1**2*m_4 + m_1*r_1**2) + l_2*m_4*r_4*np.cos(theta_4 - theta_2))/(I_2 - l_1**2*(l_2*m_3 + l_2*m_4 + m_2*r_2)**2*np.cos(theta_2 - theta_1)**2/(I_1 + l_1**2*m_2 + l_1**2*m_3 + l_1**2*m_4 + m_1*r_1**2) + l_2**2*m_3 + l_2**2*m_4 + m_2*r_2**2))**2/(I_3 - l_1**2*(l_3*m_4 + m_3*r_3)**2*np.cos(theta_3 - theta_1)**2/(I_1 + l_1**2*m_2 + l_1**2*m_3 + l_1**2*m_4 + m_1*r_1**2) + l_3**2*m_4 + m_3*r_3**2 - (-l_1**2*(l_3*m_4 + m_3*r_3)*(l_2*m_3 + l_2*m_4 + m_2*r_2)*np.cos(theta_3 - theta_1)*np.cos(theta_2 - theta_1)/(I_1 + l_1**2*m_2 + l_1**2*m_3 + l_1**2*m_4 + m_1*r_1**2) + l_2*(l_3*m_4 + m_3*r_3)*np.cos(theta_3 - theta_2))**2/(I_2 - l_1**2*(l_2*m_3 + l_2*m_4 + m_2*r_2)**2*np.cos(theta_2 - theta_1)**2/(I_1 + l_1**2*m_2 + l_1**2*m_3 + l_1**2*m_4 + m_1*r_1**2) + l_2**2*m_3 + l_2**2*m_4 + m_2*r_2**2))),\n",
    "                      ddx_c\n",
    "                    ])"
   ]
  },
  {
   "cell_type": "code",
   "execution_count": 11,
   "metadata": {},
   "outputs": [
    {
     "name": "stdout",
     "output_type": "stream",
     "text": [
      "<class 'physics_environments.envs.rl_pendulum.cart_pendulum_math.types.CartPendulumPhysicsConstants'> {'n': 4, 'g': 9.81, 'l': [0.3, 0.3, 0.3, 0.3], 'r': [0.2, 0.2, 0.2, 0.2], 'm': [0.8, 0.8, 0.8, 0.8], 'I': [0.011, 0.011, 0.011, 0.011], 'mu': [0.015, 0.015, 0.015, 0.015]}\n"
     ]
    }
   ],
   "source": [
    "env = jumanji.make('cart_n_pendulum-v1', params=rl_env_params)\n",
    "key = jax.random.PRNGKey(0)\n",
    "state, timestep = env.reset(key) # takes long for n=5\n",
    "#state, timestep = env.step(state=state, action=jnp.array([0])) # takes long for n=5"
   ]
  },
  {
   "cell_type": "code",
   "execution_count": 12,
   "metadata": {},
   "outputs": [],
   "source": [
    "t    = np.array([0])\n",
    "y    = np.array([1, 2, 3, 4, 11, 22, 33, 44, 1])\n",
    "args = np.array([9.81  , 0.3  , 0.3  , 0.3  , 0.2  , 0.2  , 0.2  ,\n",
    "       0.2  , 0.8  , 0.8  , 0.8  , 0.8, 0.015, 0.015, 0.015,\n",
    "       0.015, 0.011, 0.011, 0.011, 0.011])\n",
    "\n",
    "t_1024    = np.array([[0]]*1024).T\n",
    "y_1024    = np.array([[[1, 2, 3, 4, 11, 22, 33, 44, 1]]*1024]).T\n",
    "args_1024 = np.array([[[9.81  , 0.3  , 0.3  , 0.3  , 0.2  , 0.2  , 0.2  ,\n",
    "       0.2  , 0.8  , 0.8  , 0.8  , 0.8, 0.015, 0.015, 0.015,\n",
    "       0.015, 0.011, 0.011, 0.011, 0.011]]*1024]).T"
   ]
  },
  {
   "cell_type": "markdown",
   "metadata": {},
   "source": [
    "#### Single Environment, 1 Rollout"
   ]
  },
  {
   "cell_type": "markdown",
   "metadata": {},
   "source": [
    "---"
   ]
  },
  {
   "cell_type": "code",
   "execution_count": 30,
   "metadata": {},
   "outputs": [
    {
     "data": {
      "text/plain": [
       "20.5720157623291"
      ]
     },
     "execution_count": 30,
     "metadata": {},
     "output_type": "execute_result"
    }
   ],
   "source": [
    "t = time.time()\n",
    "with jax.default_device(cpu): \n",
    "    rollout(1,1).block_until_ready()\n",
    "time.time()-t"
   ]
  },
  {
   "cell_type": "code",
   "execution_count": 31,
   "metadata": {},
   "outputs": [
    {
     "data": {
      "text/plain": [
       "12.168337106704712"
      ]
     },
     "execution_count": 31,
     "metadata": {},
     "output_type": "execute_result"
    }
   ],
   "source": [
    "t = time.time()\n",
    "with jax.default_device(gpu):\n",
    "    rollout(1,1).block_until_ready()\n",
    "time.time()-t"
   ]
  },
  {
   "cell_type": "code",
   "execution_count": 29,
   "metadata": {},
   "outputs": [
    {
     "data": {
      "text/plain": [
       "0.0022623538970947266"
      ]
     },
     "execution_count": 29,
     "metadata": {},
     "output_type": "execute_result"
    }
   ],
   "source": [
    "t = time.time()\n",
    "for i in range(1):\n",
    "    robotic_equation_n4_numpy(t=t, y=y, args=args)\n",
    "time.time()-t"
   ]
  },
  {
   "cell_type": "markdown",
   "metadata": {},
   "source": [
    "- Numpy with a proper solver takes around 15-25 ms from prior testing. This numpy runs just with the robotic equation, and not the full step function."
   ]
  },
  {
   "cell_type": "markdown",
   "metadata": {},
   "source": [
    "---"
   ]
  },
  {
   "cell_type": "markdown",
   "metadata": {},
   "source": [
    "Let's just jit the function:"
   ]
  },
  {
   "cell_type": "code",
   "execution_count": 51,
   "metadata": {},
   "outputs": [
    {
     "data": {
      "text/plain": [
       "15.980771541595459"
      ]
     },
     "execution_count": 51,
     "metadata": {},
     "output_type": "execute_result"
    }
   ],
   "source": [
    "t = time.time()\n",
    "with jax.default_device(cpu):\n",
    "    rollout_jax_jit(1,1).block_until_ready()\n",
    "time.time()-t"
   ]
  },
  {
   "cell_type": "code",
   "execution_count": 54,
   "metadata": {},
   "outputs": [
    {
     "data": {
      "text/plain": [
       "0.0007648468017578125"
      ]
     },
     "execution_count": 54,
     "metadata": {},
     "output_type": "execute_result"
    }
   ],
   "source": [
    "t = time.time()\n",
    "with jax.default_device(cpu):\n",
    "    rollout_jax_jit(1,1).block_until_ready()\n",
    "time.time()-t"
   ]
  },
  {
   "cell_type": "code",
   "execution_count": 52,
   "metadata": {},
   "outputs": [
    {
     "data": {
      "text/plain": [
       "10.691083669662476"
      ]
     },
     "execution_count": 52,
     "metadata": {},
     "output_type": "execute_result"
    }
   ],
   "source": [
    "t = time.time()\n",
    "with jax.default_device(gpu):\n",
    "    rollout_jax_jit(1,1).block_until_ready()\n",
    "time.time()-t"
   ]
  },
  {
   "cell_type": "code",
   "execution_count": 53,
   "metadata": {},
   "outputs": [
    {
     "data": {
      "text/plain": [
       "0.0031943321228027344"
      ]
     },
     "execution_count": 53,
     "metadata": {},
     "output_type": "execute_result"
    }
   ],
   "source": [
    "t = time.time()\n",
    "with jax.default_device(gpu):\n",
    "    rollout_jax_jit(1,1).block_until_ready()\n",
    "time.time()-t"
   ]
  },
  {
   "cell_type": "markdown",
   "metadata": {},
   "source": [
    "- After compiling, jax actually seems to be faster than numpy on simple inference tasks"
   ]
  },
  {
   "cell_type": "markdown",
   "metadata": {},
   "source": [
    "#### 1024 Environments, 1 Rollout"
   ]
  },
  {
   "cell_type": "markdown",
   "metadata": {},
   "source": [
    "---"
   ]
  },
  {
   "cell_type": "code",
   "execution_count": 20,
   "metadata": {},
   "outputs": [
    {
     "data": {
      "text/plain": [
       "4.405309677124023"
      ]
     },
     "execution_count": 20,
     "metadata": {},
     "output_type": "execute_result"
    }
   ],
   "source": [
    "t = time.time()\n",
    "with jax.default_device(cpu):\n",
    "    rollout(1024,1).block_until_ready()\n",
    "time.time()-t"
   ]
  },
  {
   "cell_type": "code",
   "execution_count": 21,
   "metadata": {},
   "outputs": [
    {
     "data": {
      "text/plain": [
       "21.132590293884277"
      ]
     },
     "execution_count": 21,
     "metadata": {},
     "output_type": "execute_result"
    }
   ],
   "source": [
    "t = time.time()\n",
    "with jax.default_device(gpu):\n",
    "    rollout(1024,1).block_until_ready()\n",
    "time.time()-t"
   ]
  },
  {
   "cell_type": "code",
   "execution_count": null,
   "metadata": {},
   "outputs": [
    {
     "data": {
      "text/plain": [
       "0.042040109634399414"
      ]
     },
     "execution_count": 35,
     "metadata": {},
     "output_type": "execute_result"
    }
   ],
   "source": [
    "t = time.time()\n",
    "for i in range(1):\n",
    "    robotic_equation_n4_numpy(t=t_1024, y=y_1024, args=args_1024)\n",
    "time.time()-t"
   ]
  },
  {
   "cell_type": "markdown",
   "metadata": {},
   "source": [
    "- Numpy scales better as the batch size increases, but struggles with slow python loops\n",
    "- GPUs times are not affected by bigger batch-sizes as GPUs always run fully parallel"
   ]
  },
  {
   "cell_type": "markdown",
   "metadata": {},
   "source": [
    "---"
   ]
  },
  {
   "cell_type": "markdown",
   "metadata": {},
   "source": [
    "Let's just jit the jax loops:"
   ]
  },
  {
   "cell_type": "code",
   "execution_count": 36,
   "metadata": {
    "tags": []
   },
   "outputs": [
    {
     "data": {
      "text/plain": [
       "17.48338270187378"
      ]
     },
     "execution_count": 36,
     "metadata": {},
     "output_type": "execute_result"
    }
   ],
   "source": [
    "t = time.time()\n",
    "with jax.default_device(cpu):\n",
    "    rollout_jax_jit(1024,1).block_until_ready()\n",
    "time.time()-t"
   ]
  },
  {
   "cell_type": "code",
   "execution_count": 37,
   "metadata": {},
   "outputs": [
    {
     "data": {
      "text/plain": [
       "0.0036160945892333984"
      ]
     },
     "execution_count": 37,
     "metadata": {},
     "output_type": "execute_result"
    }
   ],
   "source": [
    "t = time.time()\n",
    "with jax.default_device(cpu):\n",
    "    rollout_jax_jit(1024,1).block_until_ready()\n",
    "time.time()-t"
   ]
  },
  {
   "cell_type": "code",
   "execution_count": 38,
   "metadata": {},
   "outputs": [
    {
     "data": {
      "text/plain": [
       "10.661686897277832"
      ]
     },
     "execution_count": 38,
     "metadata": {},
     "output_type": "execute_result"
    }
   ],
   "source": [
    "t = time.time()\n",
    "with jax.default_device(gpu):\n",
    "    rollout_jax_jit(1024,1).block_until_ready()\n",
    "time.time()-t"
   ]
  },
  {
   "cell_type": "code",
   "execution_count": 39,
   "metadata": {},
   "outputs": [
    {
     "data": {
      "text/plain": [
       "0.0042459964752197266"
      ]
     },
     "execution_count": 39,
     "metadata": {},
     "output_type": "execute_result"
    }
   ],
   "source": [
    "t = time.time()\n",
    "with jax.default_device(gpu):\n",
    "    rollout_jax_jit(1024,1).block_until_ready()\n",
    "time.time()-t"
   ]
  },
  {
   "cell_type": "code",
   "execution_count": 49,
   "metadata": {},
   "outputs": [
    {
     "data": {
      "text/plain": [
       "2.066396951675415"
      ]
     },
     "execution_count": 49,
     "metadata": {},
     "output_type": "execute_result"
    }
   ],
   "source": [
    "t = time.time()\n",
    "for i in range(1000):\n",
    "    robotic_equation_n4_numpy(t=t, y=y, args=args)\n",
    "time.time()-t"
   ]
  },
  {
   "cell_type": "markdown",
   "metadata": {},
   "source": [
    "- Much better: compiling is a have to with long functions. For many iterations, this will be a speed up"
   ]
  },
  {
   "cell_type": "markdown",
   "metadata": {},
   "source": [
    "---"
   ]
  },
  {
   "cell_type": "markdown",
   "metadata": {},
   "source": [
    "#### 10240 Environments, 10000 Rollouts"
   ]
  },
  {
   "cell_type": "code",
   "execution_count": 46,
   "metadata": {
    "tags": []
   },
   "outputs": [
    {
     "data": {
      "text/plain": [
       "38.82838273048401"
      ]
     },
     "execution_count": 46,
     "metadata": {},
     "output_type": "execute_result"
    }
   ],
   "source": [
    "t = time.time()\n",
    "with jax.default_device(cpu):\n",
    "    rollout_jax_jit(1024,10000).block_until_ready()\n",
    "time.time()-t"
   ]
  },
  {
   "cell_type": "code",
   "execution_count": 47,
   "metadata": {},
   "outputs": [
    {
     "data": {
      "text/plain": [
       "24.740278720855713"
      ]
     },
     "execution_count": 47,
     "metadata": {},
     "output_type": "execute_result"
    }
   ],
   "source": [
    "t = time.time()\n",
    "with jax.default_device(cpu):\n",
    "    rollout_jax_jit(1024,10000).block_until_ready()\n",
    "time.time()-t"
   ]
  },
  {
   "cell_type": "code",
   "execution_count": 44,
   "metadata": {},
   "outputs": [
    {
     "data": {
      "text/plain": [
       "22.510165214538574"
      ]
     },
     "execution_count": 44,
     "metadata": {},
     "output_type": "execute_result"
    }
   ],
   "source": [
    "t = time.time()\n",
    "with jax.default_device(gpu):\n",
    "    rollout_jax_jit(1024,10000).block_until_ready()\n",
    "time.time()-t"
   ]
  },
  {
   "cell_type": "code",
   "execution_count": 45,
   "metadata": {},
   "outputs": [
    {
     "data": {
      "text/plain": [
       "26.011308908462524"
      ]
     },
     "execution_count": 45,
     "metadata": {},
     "output_type": "execute_result"
    }
   ],
   "source": [
    "t = time.time()\n",
    "with jax.default_device(gpu):\n",
    "    rollout_jax_jit(1024,10000).block_until_ready()\n",
    "time.time()-t"
   ]
  },
  {
   "cell_type": "code",
   "execution_count": 41,
   "metadata": {},
   "outputs": [
    {
     "data": {
      "text/plain": [
       "341.30730080604553"
      ]
     },
     "execution_count": 41,
     "metadata": {},
     "output_type": "execute_result"
    }
   ],
   "source": [
    "t = time.time()\n",
    "for i in range(10000):\n",
    "    robotic_equation_n4_numpy(t=t_1024, y=y_1024, args=args_1024)\n",
    "time.time()-t"
   ]
  },
  {
   "cell_type": "markdown",
   "metadata": {},
   "source": [
    "- There is a good speed-up with JAX, while it even has to solve the robotic equation.\n",
    "- Jax was able to simulate 1.024.000 pendulums steps (equal to ~1024 episodes) in 24 s on a RTX 2080 Ti (12 GB), or an AMD Ryzen 5 3600x CPU (16 GB RAM).\n",
    "    - Numpy took way longer for the simple function, while JAX would also enable a more seamless end-to-end GPU training.\n",
    "    - More GPU memory will help for faster training."
   ]
  },
  {
   "cell_type": "markdown",
   "metadata": {},
   "source": [
    "---"
   ]
  },
  {
   "cell_type": "markdown",
   "metadata": {},
   "source": [
    "#### 1 Environment, 10000 Rollouts"
   ]
  },
  {
   "cell_type": "code",
   "execution_count": 19,
   "metadata": {
    "tags": []
   },
   "outputs": [
    {
     "data": {
      "text/plain": [
       "13.441340923309326"
      ]
     },
     "execution_count": 19,
     "metadata": {},
     "output_type": "execute_result"
    }
   ],
   "source": [
    "t = time.time()\n",
    "with jax.default_device(cpu):\n",
    "    rollout_jax_jit(1,10000).block_until_ready()\n",
    "time.time()-t"
   ]
  },
  {
   "cell_type": "code",
   "execution_count": 49,
   "metadata": {},
   "outputs": [
    {
     "data": {
      "text/plain": [
       "0.04753279685974121"
      ]
     },
     "execution_count": 49,
     "metadata": {},
     "output_type": "execute_result"
    }
   ],
   "source": [
    "t = time.time()\n",
    "with jax.default_device(cpu):\n",
    "    rollout_jax_jit(1,10000).block_until_ready()\n",
    "time.time()-t"
   ]
  },
  {
   "cell_type": "code",
   "execution_count": 10,
   "metadata": {},
   "outputs": [
    {
     "data": {
      "text/plain": [
       "35.87016463279724"
      ]
     },
     "execution_count": 10,
     "metadata": {},
     "output_type": "execute_result"
    }
   ],
   "source": [
    "t = time.time()\n",
    "with jax.default_device(gpu):\n",
    "    rollout_jax_jit(1,10000).block_until_ready()\n",
    "time.time()-t"
   ]
  },
  {
   "cell_type": "code",
   "execution_count": 11,
   "metadata": {},
   "outputs": [
    {
     "data": {
      "text/plain": [
       "21.76958656311035"
      ]
     },
     "execution_count": 11,
     "metadata": {},
     "output_type": "execute_result"
    }
   ],
   "source": [
    "t = time.time()\n",
    "with jax.default_device(gpu):\n",
    "    rollout_jax_jit(1,10000).block_until_ready()\n",
    "time.time()-t"
   ]
  },
  {
   "cell_type": "code",
   "execution_count": 43,
   "metadata": {},
   "outputs": [
    {
     "data": {
      "text/plain": [
       "19.53590154647827"
      ]
     },
     "execution_count": 43,
     "metadata": {},
     "output_type": "execute_result"
    }
   ],
   "source": [
    "t = time.time()\n",
    "for i in range(10000):\n",
    "    robotic_equation_n4_numpy(t=t, y=y, args=args)\n",
    "time.time()-t"
   ]
  },
  {
   "cell_type": "markdown",
   "metadata": {},
   "source": [
    "- Also the loop step time is a lot faster than numpy, which is important for evaluations.\n",
    "- The CPU performs very well on unbatched inputs.\n",
    "- However, the GPU speed wont change upon changing the batch-size.\n",
    "    - --> a CPU might be faster for simple benchmarks than a GPU\n",
    "    - --> however one can perform multiple similar benchmarks concurrently to save time and to get more accurate benchmark statistics."
   ]
  },
  {
   "cell_type": "markdown",
   "metadata": {},
   "source": [
    "---"
   ]
  },
  {
   "cell_type": "markdown",
   "metadata": {},
   "source": [
    "### Is pmap as fast as jit?"
   ]
  },
  {
   "cell_type": "markdown",
   "metadata": {},
   "source": [
    "Since pmap automatically jits its functions, it would be interesting to know if it is also as fast as jit."
   ]
  },
  {
   "cell_type": "code",
   "execution_count": 13,
   "metadata": {},
   "outputs": [],
   "source": [
    "def rollout_pmappable(non_static_input, batch_size=2, rollout_length=3): # pmap needs at least one non_static argument to function\n",
    "    # Note: setting device=jax.devices('cpu') as default argument actually hurts performance slightly, having device without defualt argument helps to fix this.\n",
    "\n",
    "    def step_func(state, key):\n",
    "        action = jax.random.randint(key=key, minval=0, maxval=num_actions, shape=(1,))\n",
    "        new_state, timestep = env.step(state, action)\n",
    "        return new_state, timestep\n",
    "\n",
    "    def rollout_func(state, key, n):\n",
    "        random_keys = jax.random.split(key, n)\n",
    "        state, rollout = jax.lax.scan(step_func, state, random_keys)\n",
    "        return rollout\n",
    "\n",
    "    # Constants\n",
    "    num_actions = env.action_spec.shape[0]\n",
    "\n",
    "    # Create random Keys\n",
    "    master_key = jax.random.PRNGKey(0)\n",
    "    key1, key2 = jax.random.split(master_key) # create a separate random key for step() and reset()\n",
    "\n",
    "    # Instantiate a batch of environment states (via vmap reset)\n",
    "    keys = jax.random.split(key1, batch_size)\n",
    "    state, timestep = jax.vmap(env.reset)(keys)\n",
    "\n",
    "    # Collect a batch of rollouts (via vmap rollout_func)\n",
    "    keys = jax.random.split(key2, batch_size)\n",
    "    rollout = jax.vmap(rollout_func, in_axes=(0, 0, None))(state, keys, rollout_length)\n",
    "    return jnp.array(rollout.observation)+non_static_input"
   ]
  },
  {
   "cell_type": "code",
   "execution_count": 14,
   "metadata": {},
   "outputs": [
    {
     "data": {
      "text/plain": [
       "<PmapFunction at 0x7fb06e387940>"
      ]
     },
     "execution_count": 14,
     "metadata": {},
     "output_type": "execute_result"
    }
   ],
   "source": [
    "non_static_input_cpu = jnp.arange(jax.device_count(), device=cpu) + 0.05\n",
    "non_static_input_gpu = jnp.arange(jax.device_count(), device=gpu) + 0.05\n",
    "\n",
    "rollout_jax_pmap_jit_cpu = jax.pmap(rollout_pmappable, static_broadcasted_argnums=[1,2], backend='cpu') #, axis_name=\"device\"\n",
    "rollout_jax_pmap_jit_gpu = jax.pmap(rollout_pmappable, static_broadcasted_argnums=[1,2], backend='gpu') #, axis_name=\"device\"\n",
    "rollout_jax_pmap_jit_gpu"
   ]
  },
  {
   "cell_type": "code",
   "execution_count": 15,
   "metadata": {
    "tags": []
   },
   "outputs": [
    {
     "data": {
      "text/plain": [
       "20.58776068687439"
      ]
     },
     "execution_count": 15,
     "metadata": {},
     "output_type": "execute_result"
    }
   ],
   "source": [
    "t = time.time()\n",
    "with jax.default_device(cpu):\n",
    "    rollout_jax_pmap_jit_cpu(non_static_input_cpu, 1, 10000).block_until_ready()\n",
    "time.time()-t"
   ]
  },
  {
   "cell_type": "code",
   "execution_count": 16,
   "metadata": {},
   "outputs": [
    {
     "data": {
      "text/plain": [
       "0.06576824188232422"
      ]
     },
     "execution_count": 16,
     "metadata": {},
     "output_type": "execute_result"
    }
   ],
   "source": [
    "t = time.time()\n",
    "with jax.default_device(cpu):\n",
    "    rollout_jax_pmap_jit_cpu(non_static_input_cpu, 1,10000).block_until_ready()\n",
    "time.time()-t"
   ]
  },
  {
   "cell_type": "code",
   "execution_count": 17,
   "metadata": {},
   "outputs": [
    {
     "data": {
      "text/plain": [
       "35.839993953704834"
      ]
     },
     "execution_count": 17,
     "metadata": {},
     "output_type": "execute_result"
    }
   ],
   "source": [
    "t = time.time()\n",
    "with jax.default_device(gpu):\n",
    "    rollout_jax_pmap_jit_gpu(non_static_input_gpu, 1,10000).block_until_ready()\n",
    "time.time()-t"
   ]
  },
  {
   "cell_type": "code",
   "execution_count": 18,
   "metadata": {},
   "outputs": [
    {
     "data": {
      "text/plain": [
       "24.119675397872925"
      ]
     },
     "execution_count": 18,
     "metadata": {},
     "output_type": "execute_result"
    }
   ],
   "source": [
    "t = time.time()\n",
    "with jax.default_device(gpu):\n",
    "    rollout_jax_pmap_jit_gpu(non_static_input_gpu, 1,10000).block_until_ready()\n",
    "time.time()-t"
   ]
  },
  {
   "cell_type": "markdown",
   "metadata": {},
   "source": [
    "- All compilation times of pmap appear to be slightly higher aswell as the run times.\n",
    "- But it is still acceptable.\n",
    "    - --> One can convert jax.pmap on multi-device code to jax.jit for single-device code to get some small speed-up"
   ]
  },
  {
   "cell_type": "code",
   "execution_count": null,
   "metadata": {},
   "outputs": [],
   "source": []
  }
 ],
 "metadata": {
  "kernelspec": {
   "display_name": "python_3.10.8",
   "language": "python",
   "name": "python_3.10.8"
  },
  "language_info": {
   "codemirror_mode": {
    "name": "ipython",
    "version": 3
   },
   "file_extension": ".py",
   "mimetype": "text/x-python",
   "name": "python",
   "nbconvert_exporter": "python",
   "pygments_lexer": "ipython3",
   "version": "3.10.8"
  }
 },
 "nbformat": 4,
 "nbformat_minor": 4
}
